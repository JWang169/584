{
 "cells": [
  {
   "cell_type": "code",
   "execution_count": 1,
   "metadata": {},
   "outputs": [
    {
     "name": "stderr",
     "output_type": "stream",
     "text": [
      "Using TensorFlow backend.\n"
     ]
    }
   ],
   "source": [
    "import re\n",
    "import string\n",
    "import numpy as np\n",
    "import tensorflow\n",
    "from tensorflow.keras.preprocessing.text import Tokenizer\n",
    "from tensorflow.keras.preprocessing.sequence import pad_sequences\n",
    "from tensorflow.keras.callbacks import ModelCheckpoint\n",
    "from tensorflow.keras.utils import to_categorical\n",
    "from tensorflow.keras.layers import Input, LSTM, Dense, Concatenate, Attention, \n",
    "from tensorflow.keras.models import Model\n",
    "from keras.utils.vis_utils import model_to_dot, plot_model\n",
    "from sklearn.model_selection import train_test_split\n",
    "from nltk.translate.bleu_score import sentence_bleu"
   ]
  },
  {
   "cell_type": "code",
   "execution_count": 2,
   "metadata": {},
   "outputs": [],
   "source": [
    "# load doc into memory\n",
    "def load_doc(filename):\n",
    "    # open the file as read only\n",
    "    file = open(filename, mode='rt', encoding='utf-8')\n",
    "    # read all text\n",
    "    text = file.read()\n",
    "    # close the file\n",
    "    file.close()\n",
    "    return text\n",
    "\n",
    "# split a loaded document into sentences\n",
    "def to_pairs(doc):\n",
    "    lines = doc.strip().split('\\n')\n",
    "    pairs = [line.split('\\t') for line in  lines]\n",
    "    return pairs\n",
    "\n",
    "def clean_data(lines):\n",
    "    cleaned = list()\n",
    "    # prepare regex for char filtering\n",
    "    re_print = re.compile('[^%s]' % re.escape(string.printable))\n",
    "    # prepare translation table for removing punctuation\n",
    "    table = str.maketrans('', '', string.punctuation)\n",
    "    for pair in lines:\n",
    "        clean_pair = list()\n",
    "        for line in pair:\n",
    "            # normalize unicode characters\n",
    "            line = normalize('NFD', line).encode('ascii', 'ignore')\n",
    "            line = line.decode('UTF-8')\n",
    "            # tokenize on white space\n",
    "            line = line.split()\n",
    "            # convert to lowercase\n",
    "            line = [word.lower() for word in line]\n",
    "            # remove punctuation from each token\n",
    "            line = [word.translate(table) for word in line]\n",
    "            # remove non-printable chars form each token\n",
    "            line = [re_print.sub('', w) for w in line]\n",
    "            # remove tokens with numbers in them\n",
    "            line = [word for word in line if word.isalpha()]\n",
    "            # store as string\n",
    "            clean_pair.append(' '.join(line))\n",
    "        cleaned.append(clean_pair)\n",
    "    return np.array(cleaned)"
   ]
  },
  {
   "cell_type": "code",
   "execution_count": 33,
   "metadata": {},
   "outputs": [],
   "source": [
    "filename = \"fra.txt\"\n",
    "doc = load_doc(filename)\n",
    "pairs = to_pairs(doc)\n",
    "# choose sample size\n",
    "n_train = 50000\n",
    "clean_pairs = clean_data(pairs)[0:n_train, :]\n",
    "# clean_pairs = clean_data(pairs)\n",
    "input_texts = clean_pairs[:, 0]\n",
    "target_texts = ['\\t' + text + '\\n' for text in clean_pairs[:, 1]]\n",
    "max_encoder_seq_length = max(len(line) for line in input_texts)\n",
    "max_decoder_seq_length = max(len(line) for line in target_texts)"
   ]
  },
  {
   "cell_type": "code",
   "execution_count": 34,
   "metadata": {},
   "outputs": [],
   "source": [
    "# n_test = 3000\n",
    "# clean_test = clean_data(pairs)[n_train:n_test, :]\n",
    "# input_test = clean_test[:, 0]\n",
    " # target_texts = ['\\t' + text + '\\n' for text in clean_test[:, 1]]"
   ]
  },
  {
   "cell_type": "code",
   "execution_count": 35,
   "metadata": {},
   "outputs": [
    {
     "name": "stdout",
     "output_type": "stream",
     "text": [
      "Length of input_texts:  (50000,)\n",
      "Length of target_texts: (50000,)\n"
     ]
    }
   ],
   "source": [
    "print('Length of input_texts:  ' + str(input_texts.shape))\n",
    "print('Length of target_texts: ' + str(input_texts.shape))"
   ]
  },
  {
   "cell_type": "code",
   "execution_count": 36,
   "metadata": {},
   "outputs": [
    {
     "name": "stdout",
     "output_type": "stream",
     "text": [
      "max length of input  sentences: 22\n",
      "max length of target sentences: 71\n"
     ]
    }
   ],
   "source": [
    "print('max length of input  sentences: %d' % (max_encoder_seq_length))\n",
    "print('max length of target sentences: %d' % (max_decoder_seq_length))"
   ]
  },
  {
   "cell_type": "code",
   "execution_count": 6,
   "metadata": {},
   "outputs": [],
   "source": [
    "def text2sequences(max_len, lines):\n",
    "    tokenizer = Tokenizer(char_level=True, filters='')\n",
    "    tokenizer.fit_on_texts(lines)\n",
    "    seqs = tokenizer.texts_to_sequences(lines)\n",
    "    seqs_pad = pad_sequences(seqs, maxlen=max_len, padding='post')\n",
    "    return seqs_pad, tokenizer.word_index"
   ]
  },
  {
   "cell_type": "code",
   "execution_count": 8,
   "metadata": {},
   "outputs": [],
   "source": [
    "encoder_input_seq, input_token_index = text2sequences(max_encoder_seq_length, input_texts)\n",
    "decoder_input_seq, target_token_index = text2sequences(max_decoder_seq_length, target_texts)"
   ]
  },
  {
   "cell_type": "code",
   "execution_count": 40,
   "metadata": {},
   "outputs": [],
   "source": [
    "# split data into training and testing \n",
    "X_train, X_test, y_train, y_test = train_test_split(input_texts, target_texts, test_size=0.2, random_state=42)\n",
    "encoder_input_seq, input_token_index = text2sequences(max_encoder_seq_length, X_train)\n",
    "decoder_input_seq, target_token_index = text2sequences(max_decoder_seq_length, y_train)"
   ]
  },
  {
   "cell_type": "code",
   "execution_count": 41,
   "metadata": {
    "scrolled": true
   },
   "outputs": [
    {
     "name": "stdout",
     "output_type": "stream",
     "text": [
      "shape of encoder_input_seq: (40000, 22)\n",
      "shape of input_token_index: 27\n",
      "shape of decoder_input_seq: (40000, 71)\n",
      "shape of target_token_index: 29\n"
     ]
    }
   ],
   "source": [
    "print('shape of encoder_input_seq: ' + str(encoder_input_seq.shape))\n",
    "print('shape of input_token_index: ' + str(len(input_token_index)))\n",
    "print('shape of decoder_input_seq: ' + str(decoder_input_seq.shape))\n",
    "print('shape of target_token_index: ' + str(len(target_token_index)))"
   ]
  },
  {
   "cell_type": "code",
   "execution_count": 42,
   "metadata": {},
   "outputs": [
    {
     "name": "stdout",
     "output_type": "stream",
     "text": [
      "num_encoder_tokens: 28\n",
      "num_decoder_tokens: 30\n"
     ]
    }
   ],
   "source": [
    "num_encoder_tokens = len(input_token_index) + 1\n",
    "num_decoder_tokens = len(target_token_index) + 1\n",
    "\n",
    "print('num_encoder_tokens: ' + str(num_encoder_tokens))\n",
    "print('num_decoder_tokens: ' + str(num_decoder_tokens))"
   ]
  },
  {
   "cell_type": "code",
   "execution_count": 43,
   "metadata": {},
   "outputs": [],
   "source": [
    "def onehot_encode(sequences, max_len, vocab_size):\n",
    "    n = len(sequences)\n",
    "    data = np.zeros((n, max_len, vocab_size))\n",
    "    for i in range(n):\n",
    "        data[i, :, :] = to_categorical(sequences[i], num_classes=vocab_size)\n",
    "    return data"
   ]
  },
  {
   "cell_type": "code",
   "execution_count": 44,
   "metadata": {},
   "outputs": [],
   "source": [
    "# encode and decode data\n",
    "encoder_input_data = onehot_encode(encoder_input_seq, max_encoder_seq_length, num_encoder_tokens)\n",
    "decoder_input_data = onehot_encode(decoder_input_seq, max_decoder_seq_length, num_decoder_tokens)\n",
    "decoder_target_seq = np.zeros(decoder_input_seq.shape)\n",
    "decoder_target_seq[:, 0:-1] = decoder_input_seq[:, 1:]\n",
    "decoder_target_data = onehot_encode(decoder_target_seq,\n",
    "                                    max_decoder_seq_length,\n",
    "                                    num_decoder_tokens)"
   ]
  },
  {
   "cell_type": "code",
   "execution_count": 45,
   "metadata": {
    "scrolled": true
   },
   "outputs": [
    {
     "name": "stdout",
     "output_type": "stream",
     "text": [
      "(40000, 22, 28)\n",
      "(40000, 71, 30)\n"
     ]
    }
   ],
   "source": [
    "print(encoder_input_data.shape)\n",
    "print(decoder_input_data.shape)"
   ]
  },
  {
   "cell_type": "code",
   "execution_count": 48,
   "metadata": {},
   "outputs": [],
   "source": [
    "# encoder model\n",
    "latent_dim = 256\n",
    "\n",
    "# encode input layers\n",
    "encoder_inputs = Input(shape=(None, num_encoder_tokens), name='encoder_inputs')\n",
    "\n",
    "\n",
    "# set the LSTM layer\n",
    "encoder_lstm = LSTM(latent_dim, return_state=True, return_sequences=True,\n",
    "                    dropout=0.5, name='encoder_lstm')\n",
    "encoder_outputs, encoder_state_h, encoder_state_c = encoder_lstm(encoder_inputs) # lstm1 is 3d (batch_size, timesteps, units)\n",
    "\n",
    "\n",
    "# build the encoder network model\n",
    "encoder_model = Model(inputs=encoder_inputs, \n",
    "                      outputs=[encoder_outputs, encoder_state_h, encoder_state_c],\n",
    "                      name='encoder')"
   ]
  },
  {
   "cell_type": "code",
   "execution_count": 49,
   "metadata": {},
   "outputs": [],
   "source": [
    "# inputs of the decoder network\n",
    "attention_input = Input(shape=(None, 256), name='attention_input')\n",
    "decoder_input_h = Input(shape=(latent_dim,), name='decoder_input_h')\n",
    "decoder_input_c = Input(shape=(latent_dim,), name='decoder_input_c')\n",
    "decoder_input_x = Input(shape=(None, num_decoder_tokens), name='decoder_input_x')\n",
    "\n",
    "# set the LSTM layer\n",
    "decoder_lstm = LSTM(latent_dim, return_sequences=True, \n",
    "                    return_state=True, dropout=0.5, name='decoder_lstm')\n",
    "decoder_lstm_outputs, state_h, state_c = decoder_lstm(decoder_input_x, \n",
    "                                                      initial_state=[decoder_input_h, decoder_input_c])\n",
    "\n",
    "# set the attention layer\n",
    "attention_layer = Attention(use_scale=True, name='attention_layer')\n",
    "# attention_outputs = attention_layer([decoder_input_h, state_h])\n",
    "attention_outputs= attention_layer([decoder_lstm_outputs,attention_input])\n",
    "\n",
    "# cancatenate lstm output layer with attention layer\n",
    "concatenate_outputs = Concatenate(name='concatenate_outputs')([decoder_lstm_outputs,attention_outputs])\n",
    "\n",
    "# set the dense layer\n",
    "decoder_dense = Dense(num_decoder_tokens, activation='softmax', name='decoder_dense')\n",
    "decoder_outputs = decoder_dense(concatenate_outputs)\n",
    "\n",
    "# build the decoder network model\n",
    "decoder_model = Model(inputs=[decoder_input_x, attention_input, decoder_input_h, decoder_input_c],\n",
    "                      outputs=[decoder_outputs, state_h, state_c],\n",
    "                      name='decoder')"
   ]
  },
  {
   "cell_type": "code",
   "execution_count": 50,
   "metadata": {
    "scrolled": true
   },
   "outputs": [
    {
     "name": "stdout",
     "output_type": "stream",
     "text": [
      "Model: \"encoder\"\n",
      "_________________________________________________________________\n",
      "Layer (type)                 Output Shape              Param #   \n",
      "=================================================================\n",
      "encoder_inputs (InputLayer)  [(None, None, 28)]        0         \n",
      "_________________________________________________________________\n",
      "encoder_lstm (LSTM)          [(None, None, 256), (None 291840    \n",
      "=================================================================\n",
      "Total params: 291,840\n",
      "Trainable params: 291,840\n",
      "Non-trainable params: 0\n",
      "_________________________________________________________________\n"
     ]
    }
   ],
   "source": [
    "encoder_model.summary()"
   ]
  },
  {
   "cell_type": "code",
   "execution_count": 54,
   "metadata": {},
   "outputs": [],
   "source": [
    "# connect encoder and decoder\n",
    "\n",
    "# input layers\n",
    "encoder_input_x = Input(shape=(encoder_input_data.shape[1:]), name='encoder_input_x')\n",
    "decoder_input_x = Input(shape=(decoder_input_data.shape[1:]), name='decoder_input_x')\n",
    "\n",
    "# connect encoder to decoder\n",
    "encoder_outputs, encoder_state_h, encoder_state_c = encoder_model([encoder_input_x])\n",
    "decoder_lstm_output, _, _ = decoder_lstm(decoder_input_x, initial_state=[encoder_state_h, encoder_state_c])\n",
    "\n",
    "attention_outputs= attention_layer([decoder_lstm_output,encoder_outputs])\n",
    "\n",
    "concatenate_outputs = Concatenate(name='concatenate_outputs')([decoder_lstm_output,attention_outputs])\n",
    "\n",
    "decoder_pred = decoder_dense(concatenate_outputs)\n",
    "\n",
    "model = Model(inputs=[encoder_input_x, decoder_input_x], \n",
    "              outputs=decoder_pred, \n",
    "              name='model_training')"
   ]
  },
  {
   "cell_type": "code",
   "execution_count": 55,
   "metadata": {},
   "outputs": [],
   "source": [
    "class LossHistory(tensorflow.keras.callbacks.Callback):\n",
    "    def on_train_begin(self, logs={}):\n",
    "        self.i = 0\n",
    "        self.logs = []\n",
    "\n",
    "    def on_batch_end(self, batch, logs={}):\n",
    "        self.logs.append(logs)\n",
    "        if self.i % 200 == 0:\n",
    "            print('Info for {} iteration:'.format(self.i), logs)\n",
    "        self.i += 1\n",
    "                "
   ]
  },
  {
   "cell_type": "code",
   "execution_count": 58,
   "metadata": {
    "scrolled": true
   },
   "outputs": [
    {
     "name": "stdout",
     "output_type": "stream",
     "text": [
      "Info for 0 iteration: {'batch': 0, 'size': 64, 'loss': 0.69010216, 'accuracy': 0.79005283}\n",
      "Info for 200 iteration: {'batch': 200, 'size': 64, 'loss': 0.71332324, 'accuracy': 0.7926521}\n",
      "Info for 400 iteration: {'batch': 400, 'size': 64, 'loss': 0.6723653, 'accuracy': 0.7936541}\n",
      "Info for 600 iteration: {'batch': 100, 'size': 64, 'loss': 0.73230034, 'accuracy': 0.79975986}\n",
      "Info for 800 iteration: {'batch': 300, 'size': 64, 'loss': 0.6356755, 'accuracy': 0.8008224}\n",
      "Info for 1000 iteration: {'batch': 0, 'size': 64, 'loss': 0.66092414, 'accuracy': 0.8028169}\n",
      "Info for 1200 iteration: {'batch': 200, 'size': 64, 'loss': 0.6314477, 'accuracy': 0.80528146}\n",
      "Info for 1400 iteration: {'batch': 400, 'size': 64, 'loss': 0.6302875, 'accuracy': 0.80710965}\n",
      "Info for 1600 iteration: {'batch': 100, 'size': 64, 'loss': 0.61117774, 'accuracy': 0.8100422}\n",
      "Info for 1800 iteration: {'batch': 300, 'size': 64, 'loss': 0.6043601, 'accuracy': 0.81083155}\n",
      "Info for 2000 iteration: {'batch': 0, 'size': 64, 'loss': 0.6009121, 'accuracy': 0.81800175}\n",
      "Info for 2200 iteration: {'batch': 200, 'size': 64, 'loss': 0.6021672, 'accuracy': 0.81363755}\n",
      "Info for 2400 iteration: {'batch': 400, 'size': 64, 'loss': 0.6005547, 'accuracy': 0.81467986}\n",
      "Info for 2600 iteration: {'batch': 100, 'size': 64, 'loss': 0.6188864, 'accuracy': 0.81640244}\n",
      "Info for 2800 iteration: {'batch': 300, 'size': 64, 'loss': 0.6036681, 'accuracy': 0.81704766}\n",
      "Info for 3000 iteration: {'batch': 0, 'size': 64, 'loss': 0.6490818, 'accuracy': 0.80765843}\n",
      "Info for 3200 iteration: {'batch': 200, 'size': 64, 'loss': 0.5797881, 'accuracy': 0.81874955}\n",
      "Info for 3400 iteration: {'batch': 400, 'size': 64, 'loss': 0.6309536, 'accuracy': 0.81937814}\n",
      "Info for 3600 iteration: {'batch': 100, 'size': 64, 'loss': 0.5689144, 'accuracy': 0.821427}\n",
      "Info for 3800 iteration: {'batch': 300, 'size': 64, 'loss': 0.58067465, 'accuracy': 0.821819}\n",
      "Info for 4000 iteration: {'batch': 0, 'size': 64, 'loss': 0.611194, 'accuracy': 0.81602114}\n",
      "Info for 4200 iteration: {'batch': 200, 'size': 64, 'loss': 0.567714, 'accuracy': 0.8237608}\n",
      "Info for 4400 iteration: {'batch': 400, 'size': 64, 'loss': 0.51889455, 'accuracy': 0.8235941}\n",
      "Info for 4600 iteration: {'batch': 100, 'size': 64, 'loss': 0.55311334, 'accuracy': 0.8238064}\n",
      "Info for 4800 iteration: {'batch': 300, 'size': 64, 'loss': 0.5322089, 'accuracy': 0.82445693}\n",
      "Info for 5000 iteration: {'batch': 0, 'size': 64, 'loss': 0.5784657, 'accuracy': 0.82548416}\n",
      "Info for 5200 iteration: {'batch': 200, 'size': 64, 'loss': 0.55455554, 'accuracy': 0.8259571}\n",
      "Info for 5400 iteration: {'batch': 400, 'size': 64, 'loss': 0.5874681, 'accuracy': 0.82619977}\n",
      "Info for 5600 iteration: {'batch': 100, 'size': 64, 'loss': 0.5371727, 'accuracy': 0.82696146}\n",
      "Info for 5800 iteration: {'batch': 300, 'size': 64, 'loss': 0.59114546, 'accuracy': 0.8282018}\n",
      "Info for 6000 iteration: {'batch': 0, 'size': 64, 'loss': 0.54616976, 'accuracy': 0.83582747}\n",
      "Info for 6200 iteration: {'batch': 200, 'size': 64, 'loss': 0.52907985, 'accuracy': 0.82783264}\n",
      "Info for 6400 iteration: {'batch': 400, 'size': 64, 'loss': 0.54255474, 'accuracy': 0.82837856}\n",
      "Info for 6600 iteration: {'batch': 100, 'size': 64, 'loss': 0.52263886, 'accuracy': 0.8308443}\n",
      "Info for 6800 iteration: {'batch': 300, 'size': 64, 'loss': 0.52704805, 'accuracy': 0.83049387}\n",
      "Info for 7000 iteration: {'batch': 0, 'size': 64, 'loss': 0.55339056, 'accuracy': 0.8325264}\n",
      "Info for 7200 iteration: {'batch': 200, 'size': 64, 'loss': 0.5508517, 'accuracy': 0.8303816}\n",
      "Info for 7400 iteration: {'batch': 400, 'size': 64, 'loss': 0.5708471, 'accuracy': 0.83094203}\n",
      "Info for 7600 iteration: {'batch': 100, 'size': 64, 'loss': 0.57114613, 'accuracy': 0.83244795}\n",
      "Info for 7800 iteration: {'batch': 300, 'size': 64, 'loss': 0.5491266, 'accuracy': 0.8320168}\n",
      "Info for 8000 iteration: {'batch': 0, 'size': 64, 'loss': 0.5722447, 'accuracy': 0.8290053}\n",
      "Info for 8200 iteration: {'batch': 200, 'size': 64, 'loss': 0.57078487, 'accuracy': 0.8340855}\n",
      "Info for 8400 iteration: {'batch': 400, 'size': 64, 'loss': 0.5377093, 'accuracy': 0.83364046}\n",
      "Info for 8600 iteration: {'batch': 100, 'size': 64, 'loss': 0.51612943, 'accuracy': 0.8354374}\n",
      "Info for 8800 iteration: {'batch': 300, 'size': 64, 'loss': 0.55888516, 'accuracy': 0.8340055}\n",
      "Info for 9000 iteration: {'batch': 0, 'size': 64, 'loss': 0.5153783, 'accuracy': 0.8507922}\n",
      "Info for 9200 iteration: {'batch': 200, 'size': 64, 'loss': 0.5254351, 'accuracy': 0.83466035}\n",
      "Info for 9400 iteration: {'batch': 400, 'size': 64, 'loss': 0.51637083, 'accuracy': 0.83504105}\n",
      "Info for 9600 iteration: {'batch': 100, 'size': 64, 'loss': 0.48993903, 'accuracy': 0.83679056}\n",
      "Info for 9800 iteration: {'batch': 300, 'size': 64, 'loss': 0.498941, 'accuracy': 0.8361733}\n",
      "Info for 10000 iteration: {'batch': 0, 'size': 64, 'loss': 0.5289016, 'accuracy': 0.8384683}\n",
      "Info for 10200 iteration: {'batch': 200, 'size': 64, 'loss': 0.55570126, 'accuracy': 0.8353676}\n",
      "Info for 10400 iteration: {'batch': 400, 'size': 64, 'loss': 0.53036636, 'accuracy': 0.83625716}\n",
      "Info for 10600 iteration: {'batch': 100, 'size': 64, 'loss': 0.546343, 'accuracy': 0.83635473}\n",
      "Info for 10800 iteration: {'batch': 300, 'size': 64, 'loss': 0.53433204, 'accuracy': 0.8374074}\n",
      "Info for 11000 iteration: {'batch': 0, 'size': 64, 'loss': 0.5247604, 'accuracy': 0.834287}\n",
      "Info for 11200 iteration: {'batch': 200, 'size': 64, 'loss': 0.46716696, 'accuracy': 0.8379526}\n",
      "Info for 11400 iteration: {'batch': 400, 'size': 64, 'loss': 0.54612577, 'accuracy': 0.8380375}\n",
      "Info for 11600 iteration: {'batch': 100, 'size': 64, 'loss': 0.55628073, 'accuracy': 0.84003496}\n",
      "Info for 11800 iteration: {'batch': 300, 'size': 64, 'loss': 0.5167373, 'accuracy': 0.8394568}\n",
      "Info for 12000 iteration: {'batch': 0, 'size': 64, 'loss': 0.53604317, 'accuracy': 0.8400088}\n",
      "Info for 12200 iteration: {'batch': 200, 'size': 64, 'loss': 0.51118684, 'accuracy': 0.83992124}\n",
      "Info for 12400 iteration: {'batch': 400, 'size': 64, 'loss': 0.5489304, 'accuracy': 0.8393459}\n",
      "Info for 12600 iteration: {'batch': 100, 'size': 64, 'loss': 0.5312666, 'accuracy': 0.84034}\n",
      "Info for 12800 iteration: {'batch': 300, 'size': 64, 'loss': 0.5108004, 'accuracy': 0.84006804}\n",
      "Info for 13000 iteration: {'batch': 0, 'size': 64, 'loss': 0.54091835, 'accuracy': 0.83824825}\n",
      "Info for 13200 iteration: {'batch': 200, 'size': 64, 'loss': 0.48985517, 'accuracy': 0.8401128}\n",
      "Info for 13400 iteration: {'batch': 400, 'size': 64, 'loss': 0.49988937, 'accuracy': 0.84048074}\n",
      "Info for 13600 iteration: {'batch': 100, 'size': 64, 'loss': 0.49583584, 'accuracy': 0.84033126}\n",
      "Info for 13800 iteration: {'batch': 300, 'size': 64, 'loss': 0.53696066, 'accuracy': 0.8408269}\n",
      "Info for 14000 iteration: {'batch': 0, 'size': 64, 'loss': 0.5176196, 'accuracy': 0.84176934}\n",
      "Info for 14200 iteration: {'batch': 200, 'size': 64, 'loss': 0.49341074, 'accuracy': 0.8421602}\n",
      "Info for 14400 iteration: {'batch': 400, 'size': 64, 'loss': 0.5390644, 'accuracy': 0.84194607}\n",
      "Info for 14600 iteration: {'batch': 100, 'size': 64, 'loss': 0.5523691, 'accuracy': 0.8430593}\n",
      "Info for 14800 iteration: {'batch': 300, 'size': 64, 'loss': 0.49850044, 'accuracy': 0.8424479}\n",
      "Info for 15000 iteration: {'batch': 0, 'size': 64, 'loss': 0.54473245, 'accuracy': 0.8356074}\n",
      "Info for 15200 iteration: {'batch': 200, 'size': 64, 'loss': 0.53764904, 'accuracy': 0.84313905}\n",
      "Info for 15400 iteration: {'batch': 400, 'size': 64, 'loss': 0.54330224, 'accuracy': 0.8423363}\n",
      "Info for 15600 iteration: {'batch': 100, 'size': 64, 'loss': 0.47865897, 'accuracy': 0.84188706}\n",
      "Info for 15800 iteration: {'batch': 300, 'size': 64, 'loss': 0.56530946, 'accuracy': 0.84221387}\n",
      "Info for 16000 iteration: {'batch': 0, 'size': 64, 'loss': 0.55207473, 'accuracy': 0.8303257}\n",
      "Info for 16200 iteration: {'batch': 200, 'size': 64, 'loss': 0.51553214, 'accuracy': 0.8440522}\n",
      "Info for 16400 iteration: {'batch': 400, 'size': 64, 'loss': 0.54063445, 'accuracy': 0.8437132}\n",
      "Info for 16600 iteration: {'batch': 100, 'size': 64, 'loss': 0.51684076, 'accuracy': 0.84422934}\n",
      "Info for 16800 iteration: {'batch': 300, 'size': 64, 'loss': 0.5132701, 'accuracy': 0.8436257}\n",
      "Info for 17000 iteration: {'batch': 0, 'size': 64, 'loss': 0.52944064, 'accuracy': 0.8367078}\n",
      "Info for 17200 iteration: {'batch': 200, 'size': 64, 'loss': 0.5163499, 'accuracy': 0.84450763}\n"
     ]
    },
    {
     "name": "stdout",
     "output_type": "stream",
     "text": [
      "Info for 17400 iteration: {'batch': 400, 'size': 64, 'loss': 0.53757125, 'accuracy': 0.8442637}\n",
      "Info for 17600 iteration: {'batch': 100, 'size': 64, 'loss': 0.5359948, 'accuracy': 0.84483075}\n",
      "Info for 17800 iteration: {'batch': 300, 'size': 64, 'loss': 0.5136626, 'accuracy': 0.84502655}\n",
      "Info for 18000 iteration: {'batch': 0, 'size': 64, 'loss': 0.5091352, 'accuracy': 0.84308976}\n",
      "Info for 18200 iteration: {'batch': 200, 'size': 64, 'loss': 0.5131425, 'accuracy': 0.8451646}\n",
      "Info for 18400 iteration: {'batch': 400, 'size': 64, 'loss': 0.523442, 'accuracy': 0.845229}\n",
      "Info for 18600 iteration: {'batch': 100, 'size': 64, 'loss': 0.4962674, 'accuracy': 0.84669805}\n",
      "Info for 18800 iteration: {'batch': 300, 'size': 64, 'loss': 0.52721804, 'accuracy': 0.8456824}\n",
      "Info for 19000 iteration: {'batch': 0, 'size': 64, 'loss': 0.52202135, 'accuracy': 0.83978873}\n",
      "Info for 19200 iteration: {'batch': 200, 'size': 64, 'loss': 0.5495677, 'accuracy': 0.8467259}\n",
      "Info for 19400 iteration: {'batch': 400, 'size': 64, 'loss': 0.49002618, 'accuracy': 0.8457992}\n",
      "Info for 19600 iteration: {'batch': 100, 'size': 64, 'loss': 0.49987116, 'accuracy': 0.84789866}\n",
      "Info for 19800 iteration: {'batch': 300, 'size': 64, 'loss': 0.50024134, 'accuracy': 0.84561366}\n",
      "Info for 20000 iteration: {'batch': 0, 'size': 64, 'loss': 0.5031087, 'accuracy': 0.8481514}\n",
      "Info for 20200 iteration: {'batch': 200, 'size': 64, 'loss': 0.46219516, 'accuracy': 0.8462277}\n",
      "Info for 20400 iteration: {'batch': 400, 'size': 64, 'loss': 0.49165386, 'accuracy': 0.84665096}\n",
      "Info for 20600 iteration: {'batch': 100, 'size': 64, 'loss': 0.48672226, 'accuracy': 0.8467482}\n",
      "Info for 20800 iteration: {'batch': 300, 'size': 64, 'loss': 0.4730878, 'accuracy': 0.8472748}\n",
      "Info for 21000 iteration: {'batch': 0, 'size': 64, 'loss': 0.48780602, 'accuracy': 0.84925175}\n",
      "Info for 21200 iteration: {'batch': 200, 'size': 64, 'loss': 0.47986892, 'accuracy': 0.84779227}\n",
      "Info for 21400 iteration: {'batch': 400, 'size': 64, 'loss': 0.4986029, 'accuracy': 0.8476734}\n",
      "Info for 21600 iteration: {'batch': 100, 'size': 64, 'loss': 0.478252, 'accuracy': 0.84879416}\n",
      "Info for 21800 iteration: {'batch': 300, 'size': 64, 'loss': 0.53995454, 'accuracy': 0.84813166}\n",
      "Info for 22000 iteration: {'batch': 0, 'size': 64, 'loss': 0.49627373, 'accuracy': 0.8494718}\n",
      "Info for 22200 iteration: {'batch': 200, 'size': 64, 'loss': 0.4787933, 'accuracy': 0.84741783}\n",
      "Info for 22400 iteration: {'batch': 400, 'size': 64, 'loss': 0.48754975, 'accuracy': 0.8477486}\n",
      "Info for 22600 iteration: {'batch': 100, 'size': 64, 'loss': 0.51290053, 'accuracy': 0.84778315}\n",
      "Info for 22800 iteration: {'batch': 300, 'size': 64, 'loss': 0.4861659, 'accuracy': 0.8481543}\n",
      "Info for 23000 iteration: {'batch': 0, 'size': 64, 'loss': 0.48974836, 'accuracy': 0.84551054}\n",
      "Info for 23200 iteration: {'batch': 200, 'size': 64, 'loss': 0.46689752, 'accuracy': 0.84826857}\n",
      "Info for 23400 iteration: {'batch': 400, 'size': 64, 'loss': 0.48820537, 'accuracy': 0.84824854}\n",
      "Info for 23600 iteration: {'batch': 100, 'size': 64, 'loss': 0.47075534, 'accuracy': 0.8497878}\n",
      "Info for 23800 iteration: {'batch': 300, 'size': 64, 'loss': 0.45916328, 'accuracy': 0.8489374}\n",
      "Info for 24000 iteration: {'batch': 0, 'size': 64, 'loss': 0.44582397, 'accuracy': 0.86135566}\n",
      "Info for 24200 iteration: {'batch': 200, 'size': 64, 'loss': 0.53537947, 'accuracy': 0.8492966}\n",
      "Info for 24400 iteration: {'batch': 400, 'size': 64, 'loss': 0.501342, 'accuracy': 0.8489587}\n",
      "Info for 24600 iteration: {'batch': 100, 'size': 64, 'loss': 0.47350192, 'accuracy': 0.84986186}\n",
      "Info for 24800 iteration: {'batch': 300, 'size': 64, 'loss': 0.48718685, 'accuracy': 0.8491516}\n",
      "Info for 25000 iteration: {'batch': 0, 'size': 64, 'loss': 0.5378649, 'accuracy': 0.84066904}\n",
      "Info for 25200 iteration: {'batch': 200, 'size': 64, 'loss': 0.5358701, 'accuracy': 0.85071564}\n",
      "Info for 25400 iteration: {'batch': 400, 'size': 64, 'loss': 0.52221054, 'accuracy': 0.8504103}\n",
      "Info for 25600 iteration: {'batch': 100, 'size': 64, 'loss': 0.48633555, 'accuracy': 0.85061795}\n",
      "Info for 25800 iteration: {'batch': 300, 'size': 64, 'loss': 0.46405426, 'accuracy': 0.8502037}\n",
      "Info for 26000 iteration: {'batch': 0, 'size': 64, 'loss': 0.4869765, 'accuracy': 0.8488116}\n",
      "Info for 26200 iteration: {'batch': 200, 'size': 64, 'loss': 0.47151157, 'accuracy': 0.85070026}\n",
      "Info for 26400 iteration: {'batch': 400, 'size': 64, 'loss': 0.48694938, 'accuracy': 0.8501013}\n",
      "Info for 26600 iteration: {'batch': 100, 'size': 64, 'loss': 0.46698675, 'accuracy': 0.8498989}\n",
      "Info for 26800 iteration: {'batch': 300, 'size': 64, 'loss': 0.46950844, 'accuracy': 0.8503638}\n",
      "Info for 27000 iteration: {'batch': 0, 'size': 64, 'loss': 0.48356724, 'accuracy': 0.8479313}\n",
      "Info for 27200 iteration: {'batch': 200, 'size': 64, 'loss': 0.5183316, 'accuracy': 0.8510211}\n",
      "Info for 27400 iteration: {'batch': 400, 'size': 64, 'loss': 0.45119992, 'accuracy': 0.85094154}\n",
      "Info for 27600 iteration: {'batch': 100, 'size': 64, 'loss': 0.49029112, 'accuracy': 0.8517357}\n",
      "Info for 27800 iteration: {'batch': 300, 'size': 64, 'loss': 0.42139983, 'accuracy': 0.85144806}\n",
      "Info for 28000 iteration: {'batch': 0, 'size': 64, 'loss': 0.5025458, 'accuracy': 0.8446303}\n",
      "Info for 28200 iteration: {'batch': 200, 'size': 64, 'loss': 0.51376045, 'accuracy': 0.8515871}\n",
      "Info for 28400 iteration: {'batch': 400, 'size': 64, 'loss': 0.49578428, 'accuracy': 0.8514294}\n",
      "Info for 28600 iteration: {'batch': 100, 'size': 64, 'loss': 0.45247167, 'accuracy': 0.8516878}\n",
      "Info for 28800 iteration: {'batch': 300, 'size': 64, 'loss': 0.5033995, 'accuracy': 0.8514576}\n",
      "Info for 29000 iteration: {'batch': 0, 'size': 64, 'loss': 0.49890396, 'accuracy': 0.84397006}\n",
      "Info for 29200 iteration: {'batch': 200, 'size': 64, 'loss': 0.5343801, 'accuracy': 0.851955}\n",
      "Info for 29400 iteration: {'batch': 400, 'size': 64, 'loss': 0.52880067, 'accuracy': 0.8513773}\n",
      "Info for 29600 iteration: {'batch': 100, 'size': 64, 'loss': 0.51059645, 'accuracy': 0.8527816}\n",
      "Info for 29800 iteration: {'batch': 300, 'size': 64, 'loss': 0.5147195, 'accuracy': 0.851394}\n",
      "Info for 30000 iteration: {'batch': 0, 'size': 64, 'loss': 0.45990494, 'accuracy': 0.85871476}\n",
      "Info for 30200 iteration: {'batch': 200, 'size': 64, 'loss': 0.46885014, 'accuracy': 0.8530959}\n",
      "Info for 30400 iteration: {'batch': 400, 'size': 64, 'loss': 0.46918428, 'accuracy': 0.8527476}\n",
      "Info for 30600 iteration: {'batch': 100, 'size': 64, 'loss': 0.47525755, 'accuracy': 0.85231316}\n",
      "Info for 30800 iteration: {'batch': 300, 'size': 64, 'loss': 0.49100038, 'accuracy': 0.85265005}\n",
      "Info for 31000 iteration: {'batch': 0, 'size': 64, 'loss': 0.49366304, 'accuracy': 0.8488116}\n",
      "Info for 31200 iteration: {'batch': 200, 'size': 64, 'loss': 0.4481922, 'accuracy': 0.8536378}\n",
      "Info for 31400 iteration: {'batch': 400, 'size': 64, 'loss': 0.46381775, 'accuracy': 0.8527081}\n",
      "Info for 31600 iteration: {'batch': 100, 'size': 64, 'loss': 0.5279235, 'accuracy': 0.8520342}\n",
      "Info for 31800 iteration: {'batch': 300, 'size': 64, 'loss': 0.5304093, 'accuracy': 0.8524943}\n",
      "Info for 32000 iteration: {'batch': 0, 'size': 64, 'loss': 0.49461192, 'accuracy': 0.8483715}\n",
      "Info for 32200 iteration: {'batch': 200, 'size': 64, 'loss': 0.51792866, 'accuracy': 0.8534681}\n",
      "Info for 32400 iteration: {'batch': 400, 'size': 64, 'loss': 0.47823387, 'accuracy': 0.8536378}\n",
      "Info for 32600 iteration: {'batch': 100, 'size': 64, 'loss': 0.46548226, 'accuracy': 0.8540105}\n",
      "Info for 32800 iteration: {'batch': 300, 'size': 64, 'loss': 0.426736, 'accuracy': 0.8539478}\n",
      "Info for 33000 iteration: {'batch': 0, 'size': 64, 'loss': 0.46730274, 'accuracy': 0.85761446}\n",
      "Info for 33200 iteration: {'batch': 200, 'size': 64, 'loss': 0.44151708, 'accuracy': 0.85446775}\n",
      "Info for 33400 iteration: {'batch': 400, 'size': 64, 'loss': 0.48604724, 'accuracy': 0.8538387}\n",
      "Info for 33600 iteration: {'batch': 100, 'size': 64, 'loss': 0.4401559, 'accuracy': 0.85387105}\n",
      "Info for 33800 iteration: {'batch': 300, 'size': 64, 'loss': 0.46807346, 'accuracy': 0.85362613}\n",
      "Info for 34000 iteration: {'batch': 0, 'size': 64, 'loss': 0.47494006, 'accuracy': 0.85453343}\n",
      "Info for 34200 iteration: {'batch': 200, 'size': 64, 'loss': 0.46408832, 'accuracy': 0.8531123}\n",
      "Info for 34400 iteration: {'batch': 400, 'size': 64, 'loss': 0.44621196, 'accuracy': 0.8540735}\n"
     ]
    },
    {
     "name": "stdout",
     "output_type": "stream",
     "text": [
      "Info for 34600 iteration: {'batch': 100, 'size': 64, 'loss': 0.4291982, 'accuracy': 0.8534026}\n",
      "Info for 34800 iteration: {'batch': 300, 'size': 64, 'loss': 0.49388304, 'accuracy': 0.8539566}\n",
      "Info for 35000 iteration: {'batch': 0, 'size': 64, 'loss': 0.46014786, 'accuracy': 0.859375}\n",
      "Info for 35200 iteration: {'batch': 200, 'size': 64, 'loss': 0.4621408, 'accuracy': 0.85322505}\n",
      "Info for 35400 iteration: {'batch': 400, 'size': 64, 'loss': 0.48856503, 'accuracy': 0.85406697}\n",
      "Info for 35600 iteration: {'batch': 100, 'size': 64, 'loss': 0.4874028, 'accuracy': 0.8536619}\n",
      "Info for 35800 iteration: {'batch': 300, 'size': 64, 'loss': 0.462517, 'accuracy': 0.8545934}\n",
      "Info for 36000 iteration: {'batch': 0, 'size': 64, 'loss': 0.48259446, 'accuracy': 0.85101235}\n",
      "Info for 36200 iteration: {'batch': 200, 'size': 64, 'loss': 0.47393432, 'accuracy': 0.8545882}\n",
      "Info for 36400 iteration: {'batch': 400, 'size': 64, 'loss': 0.4502625, 'accuracy': 0.85448295}\n",
      "Info for 36600 iteration: {'batch': 100, 'size': 64, 'loss': 0.5040596, 'accuracy': 0.8540345}\n",
      "Info for 36800 iteration: {'batch': 300, 'size': 64, 'loss': 0.47287712, 'accuracy': 0.85486907}\n",
      "Info for 37000 iteration: {'batch': 0, 'size': 64, 'loss': 0.4737212, 'accuracy': 0.8551937}\n",
      "Info for 37200 iteration: {'batch': 200, 'size': 64, 'loss': 0.5202343, 'accuracy': 0.85454875}\n",
      "Info for 37400 iteration: {'batch': 400, 'size': 64, 'loss': 0.5226719, 'accuracy': 0.85496646}\n",
      "Info for 37600 iteration: {'batch': 100, 'size': 64, 'loss': 0.4949186, 'accuracy': 0.854906}\n",
      "Info for 37800 iteration: {'batch': 300, 'size': 64, 'loss': 0.4907446, 'accuracy': 0.8552448}\n",
      "Info for 38000 iteration: {'batch': 0, 'size': 64, 'loss': 0.43725124, 'accuracy': 0.8679578}\n",
      "Info for 38200 iteration: {'batch': 200, 'size': 64, 'loss': 0.5102362, 'accuracy': 0.8560378}\n",
      "Info for 38400 iteration: {'batch': 400, 'size': 64, 'loss': 0.42998272, 'accuracy': 0.8556437}\n",
      "Info for 38600 iteration: {'batch': 100, 'size': 64, 'loss': 0.45187256, 'accuracy': 0.85621125}\n",
      "Info for 38800 iteration: {'batch': 300, 'size': 64, 'loss': 0.46767694, 'accuracy': 0.8557654}\n",
      "Info for 39000 iteration: {'batch': 0, 'size': 64, 'loss': 0.48799884, 'accuracy': 0.85101235}\n",
      "Info for 39200 iteration: {'batch': 200, 'size': 64, 'loss': 0.46908456, 'accuracy': 0.8556163}\n",
      "Info for 39400 iteration: {'batch': 400, 'size': 64, 'loss': 0.43280342, 'accuracy': 0.8557941}\n",
      "Info for 39600 iteration: {'batch': 100, 'size': 64, 'loss': 0.4575121, 'accuracy': 0.854577}\n",
      "Info for 39800 iteration: {'batch': 300, 'size': 64, 'loss': 0.42224854, 'accuracy': 0.8552631}\n",
      "Info for 40000 iteration: {'batch': 0, 'size': 64, 'loss': 0.4714286, 'accuracy': 0.85739434}\n",
      "Info for 40200 iteration: {'batch': 200, 'size': 64, 'loss': 0.4568943, 'accuracy': 0.8566707}\n",
      "Info for 40400 iteration: {'batch': 400, 'size': 64, 'loss': 0.46009806, 'accuracy': 0.8565942}\n",
      "Info for 40600 iteration: {'batch': 100, 'size': 64, 'loss': 0.45404536, 'accuracy': 0.8578955}\n",
      "Info for 40800 iteration: {'batch': 300, 'size': 64, 'loss': 0.46895605, 'accuracy': 0.8568102}\n",
      "Info for 41000 iteration: {'batch': 0, 'size': 64, 'loss': 0.48179394, 'accuracy': 0.8507922}\n",
      "Info for 41200 iteration: {'batch': 200, 'size': 64, 'loss': 0.44812122, 'accuracy': 0.85658747}\n",
      "Info for 41400 iteration: {'batch': 400, 'size': 64, 'loss': 0.49535257, 'accuracy': 0.8564636}\n",
      "Info for 41600 iteration: {'batch': 100, 'size': 64, 'loss': 0.43660295, 'accuracy': 0.8564596}\n",
      "Info for 41800 iteration: {'batch': 300, 'size': 64, 'loss': 0.40538514, 'accuracy': 0.856449}\n",
      "Info for 42000 iteration: {'batch': 0, 'size': 64, 'loss': 0.4468843, 'accuracy': 0.8650968}\n",
      "Info for 42200 iteration: {'batch': 200, 'size': 64, 'loss': 0.46535245, 'accuracy': 0.8575575}\n",
      "Info for 42400 iteration: {'batch': 400, 'size': 64, 'loss': 0.48610774, 'accuracy': 0.85677147}\n",
      "Info for 42600 iteration: {'batch': 100, 'size': 64, 'loss': 0.43887207, 'accuracy': 0.85625046}\n",
      "Info for 42800 iteration: {'batch': 300, 'size': 64, 'loss': 0.48582008, 'accuracy': 0.8572562}\n",
      "Info for 43000 iteration: {'batch': 0, 'size': 64, 'loss': 0.45692024, 'accuracy': 0.86289614}\n",
      "Info for 43200 iteration: {'batch': 200, 'size': 64, 'loss': 0.4608381, 'accuracy': 0.8584969}\n",
      "Info for 43400 iteration: {'batch': 400, 'size': 64, 'loss': 0.49987707, 'accuracy': 0.8575623}\n",
      "Info for 43600 iteration: {'batch': 100, 'size': 64, 'loss': 0.46472517, 'accuracy': 0.8581439}\n",
      "Info for 43800 iteration: {'batch': 300, 'size': 64, 'loss': 0.5188288, 'accuracy': 0.8574536}\n",
      "Info for 44000 iteration: {'batch': 0, 'size': 64, 'loss': 0.45783663, 'accuracy': 0.85827464}\n",
      "Info for 44200 iteration: {'batch': 200, 'size': 64, 'loss': 0.45763665, 'accuracy': 0.85741735}\n",
      "Info for 44400 iteration: {'batch': 400, 'size': 64, 'loss': 0.442464, 'accuracy': 0.8575288}\n",
      "Info for 44600 iteration: {'batch': 100, 'size': 64, 'loss': 0.4432873, 'accuracy': 0.8580938}\n",
      "Info for 44800 iteration: {'batch': 300, 'size': 64, 'loss': 0.47424838, 'accuracy': 0.8576152}\n",
      "Info for 45000 iteration: {'batch': 0, 'size': 64, 'loss': 0.48244262, 'accuracy': 0.8543134}\n",
      "Info for 45200 iteration: {'batch': 200, 'size': 64, 'loss': 0.47284022, 'accuracy': 0.857794}\n",
      "Info for 45400 iteration: {'batch': 400, 'size': 64, 'loss': 0.50394547, 'accuracy': 0.85804635}\n",
      "Info for 45600 iteration: {'batch': 100, 'size': 64, 'loss': 0.42042106, 'accuracy': 0.85839885}\n",
      "Info for 45800 iteration: {'batch': 300, 'size': 64, 'loss': 0.43154538, 'accuracy': 0.8582081}\n",
      "Info for 46000 iteration: {'batch': 0, 'size': 64, 'loss': 0.44104317, 'accuracy': 0.86113554}\n",
      "Info for 46200 iteration: {'batch': 200, 'size': 64, 'loss': 0.5067114, 'accuracy': 0.85879254}\n",
      "Info for 46400 iteration: {'batch': 400, 'size': 64, 'loss': 0.42087078, 'accuracy': 0.8581374}\n",
      "Info for 46600 iteration: {'batch': 100, 'size': 64, 'loss': 0.48111597, 'accuracy': 0.8582594}\n",
      "Info for 46800 iteration: {'batch': 300, 'size': 64, 'loss': 0.46355233, 'accuracy': 0.8578411}\n",
      "Info for 47000 iteration: {'batch': 0, 'size': 64, 'loss': 0.46813977, 'accuracy': 0.85739434}\n",
      "Info for 47200 iteration: {'batch': 200, 'size': 64, 'loss': 0.44975632, 'accuracy': 0.8581476}\n",
      "Info for 47400 iteration: {'batch': 400, 'size': 64, 'loss': 0.41617218, 'accuracy': 0.85801727}\n",
      "Info for 47600 iteration: {'batch': 100, 'size': 64, 'loss': 0.46491778, 'accuracy': 0.8580372}\n",
      "Info for 47800 iteration: {'batch': 300, 'size': 64, 'loss': 0.49061364, 'accuracy': 0.8584779}\n",
      "Info for 48000 iteration: {'batch': 0, 'size': 64, 'loss': 0.44631895, 'accuracy': 0.86487675}\n",
      "Info for 48200 iteration: {'batch': 200, 'size': 64, 'loss': 0.49795493, 'accuracy': 0.8589918}\n",
      "Info for 48400 iteration: {'batch': 400, 'size': 64, 'loss': 0.49573994, 'accuracy': 0.8589634}\n",
      "Info for 48600 iteration: {'batch': 100, 'size': 64, 'loss': 0.474858, 'accuracy': 0.859521}\n",
      "Info for 48800 iteration: {'batch': 300, 'size': 64, 'loss': 0.461452, 'accuracy': 0.8592463}\n",
      "Info for 49000 iteration: {'batch': 0, 'size': 64, 'loss': 0.51731557, 'accuracy': 0.83824825}\n",
      "Info for 49200 iteration: {'batch': 200, 'size': 64, 'loss': 0.48100457, 'accuracy': 0.8581849}\n",
      "Info for 49400 iteration: {'batch': 400, 'size': 64, 'loss': 0.4846036, 'accuracy': 0.8581978}\n",
      "Info for 49600 iteration: {'batch': 100, 'size': 64, 'loss': 0.48337334, 'accuracy': 0.8578999}\n",
      "Info for 49800 iteration: {'batch': 300, 'size': 64, 'loss': 0.4919772, 'accuracy': 0.85915273}\n"
     ]
    },
    {
     "data": {
      "text/plain": [
       "<tensorflow.python.keras.callbacks.History at 0x1a65535e80>"
      ]
     },
     "execution_count": 58,
     "metadata": {},
     "output_type": "execute_result"
    }
   ],
   "source": [
    "filepath = \"seq2seq-1113-rmsprop.hdf5\"   \n",
    "checkpoint = ModelCheckpoint(filepath, monitor='accuracy', verbose=2, save_best_only=True, mode='auto')\n",
    "his = LossHistory()\n",
    "model.compile(optimizer='rmsprop', loss='categorical_crossentropy', metrics=['accuracy'])\n",
    "model.fit([encoder_input_data, decoder_input_data],  # training data\n",
    "          decoder_target_data,                        # labels \n",
    "          validation_split=0.2,\n",
    "          batch_size=64,\n",
    "          epochs=100,\n",
    "          verbose=0,\n",
    "          callbacks=[his])"
   ]
  },
  {
   "cell_type": "code",
   "execution_count": null,
   "metadata": {},
   "outputs": [],
   "source": [
    "# model.load_model('s2s-1113.model')"
   ]
  },
  {
   "cell_type": "code",
   "execution_count": 59,
   "metadata": {},
   "outputs": [],
   "source": [
    "# Reverse-lookup token index to decode sequences back to something readable.\n",
    "reverse_input_char_index = dict((i, char) for char, i in input_token_index.items())\n",
    "reverse_target_char_index = dict((i, char) for char, i in target_token_index.items())"
   ]
  },
  {
   "cell_type": "code",
   "execution_count": 60,
   "metadata": {},
   "outputs": [],
   "source": [
    "def decode_sequence(input_seq):\n",
    "    states_value = encoder_model.predict(input_seq) # return 3 values, output, state_h, state_c\n",
    "    attention_input, state_h, state_c = states_value\n",
    "    target_seq = np.zeros((1, 1, num_decoder_tokens))\n",
    "    target_seq[0, 0, target_token_index['\\t']] = 1.\n",
    "    \n",
    "    stop_condition = False\n",
    "    decoded_sentence = ''\n",
    "    while not stop_condition:\n",
    "        output_tokens, state_h, state_c = decoder_model.predict([target_seq, attention_input, state_h, state_c])\n",
    "\n",
    "        # this line of code is greedy selection\n",
    "        # try to use multinomial sampling instead (with temperature)\n",
    "        sampled_token_index = np.argmax(output_tokens[0, :])\n",
    "        \n",
    "        sampled_char = reverse_target_char_index[sampled_token_index]\n",
    "        decoded_sentence += sampled_char\n",
    "\n",
    "        if (sampled_char == '\\n' or\n",
    "           len(decoded_sentence) > max_decoder_seq_length):\n",
    "            stop_condition = True\n",
    "\n",
    "        target_seq = np.zeros((1, 1, num_decoder_tokens))\n",
    "        target_seq[0, 0, sampled_token_index] = 1.\n",
    "\n",
    "    return decoded_sentence"
   ]
  },
  {
   "cell_type": "code",
   "execution_count": 82,
   "metadata": {
    "scrolled": true
   },
   "outputs": [
    {
     "name": "stdout",
     "output_type": "stream",
     "text": [
      "-\n",
      "English:        whats up\n",
      "French (true):  quoi de beau\n",
      "French (pred):  vous etes tres occupes\n",
      "-\n",
      "English:        who cares\n",
      "French (true):  qui sen preoccupe\n",
      "French (pred):  ne le rener pas de mon coup\n",
      "-\n",
      "English:        who cares\n",
      "French (true):  qui sen soucie\n",
      "French (pred):  il peut faire une bonne chancon\n",
      "-\n",
      "English:        who cares\n",
      "French (true):  a qui ceci importetil\n",
      "French (pred):  allerai la moiture\n",
      "-\n",
      "English:        who is he\n",
      "French (true):  qui estce\n",
      "French (pred):  je ne lai jamais dit une conne\n",
      "-\n",
      "English:        who is he\n",
      "French (true):  qui estil\n",
      "French (pred):  jentends de la maison\n",
      "-\n",
      "English:        who is it\n",
      "French (true):  qui estce\n",
      "French (pred):  quelle est la boute\n",
      "-\n",
      "English:        who is it\n",
      "French (true):  qui estil\n",
      "French (pred):  jai desoin dune corte\n",
      "-\n",
      "English:        who knows\n",
      "French (true):  qui sait\n",
      "French (pred):  je le suis senti le courie\n",
      "-\n",
      "English:        who spoke\n",
      "French (true):  qui a parle\n",
      "French (pred):  je suis content\n"
     ]
    }
   ],
   "source": [
    "for seq_index in range(1000, 1010):\n",
    "    # Take one sequence (part of the training set)\n",
    "    # for trying out decoding.\n",
    "    input_seq = encoder_input_data[seq_index: seq_index + 1]\n",
    "    decoded_sentence = decode_sequence(input_seq)\n",
    "    print('-')\n",
    "    print('English:       ', input_texts[seq_index])\n",
    "    print('French (true): ', target_texts[seq_index][1:-1])\n",
    "    print('French (pred): ', decoded_sentence[0:-1])"
   ]
  },
  {
   "cell_type": "code",
   "execution_count": 85,
   "metadata": {},
   "outputs": [],
   "source": [
    "# encode and decode test data\n",
    "test_encoder_input_seq, test_input_token_index = text2sequences(max_encoder_seq_length, X_test)\n",
    "test_decoder_input_seq, test_target_token_index = text2sequences(max_decoder_seq_length, y_test)\n",
    "\n",
    "test_encoder_input_data = onehot_encode(test_encoder_input_seq, max_encoder_seq_length, num_encoder_tokens)\n",
    "test_decoder_input_data = onehot_encode(test_decoder_input_seq, max_decoder_seq_length, num_decoder_tokens)\n",
    "test_decoder_target_seq = np.zeros(test_decoder_input_seq.shape)\n",
    "test_decoder_target_seq[:, 0:-1] = test_decoder_input_seq[:, 1:]\n",
    "test_decoder_target_data = onehot_encode(test_decoder_target_seq,\n",
    "                                    max_decoder_seq_length,\n",
    "                                    num_decoder_tokens)"
   ]
  },
  {
   "cell_type": "code",
   "execution_count": 66,
   "metadata": {},
   "outputs": [],
   "source": [
    "#select a set of sentences from the testing data, and pringth translation results from the model:\n",
    "test_encoder_input, test_input_token_index = text2sequences(max_encoder_seq_length, X_test)\n",
    "test_decoder_input_seq, test_target_token_index = text2sequences(max_decoder_seq_length, y_test)\n",
    "test_onehot_input = onehot_encode(test_encoder_input, max_encoder_seq_length, num_encoder_tokens)\n"
   ]
  },
  {
   "cell_type": "code",
   "execution_count": 67,
   "metadata": {},
   "outputs": [
    {
     "data": {
      "text/plain": [
       "(10000, 22, 28)"
      ]
     },
     "execution_count": 67,
     "metadata": {},
     "output_type": "execute_result"
    }
   ],
   "source": [
    "test_onehot_input.shape\n"
   ]
  },
  {
   "cell_type": "code",
   "execution_count": 87,
   "metadata": {},
   "outputs": [],
   "source": [
    "trans = []\n",
    "english = []\n",
    "french = []\n",
    "for i in range(len(X_test[:1000])):\n",
    "#     print('English: ', X_test[i])\n",
    "    try:\n",
    "        translated_sentence = decode_sequence(test_onehot_input[i:i+1])\n",
    "        trans.append(translated_sentence[:-1])\n",
    "        english.append(y_test[i])\n",
    "        french.append(X_test[i])\n",
    "    except KeyError:\n",
    "        continue"
   ]
  },
  {
   "cell_type": "code",
   "execution_count": 88,
   "metadata": {},
   "outputs": [],
   "source": [
    "def translate(X_test, y_test):\n",
    "    trans = []\n",
    "    english = []\n",
    "    french = []\n",
    "    #select a set of sentences from the testing data, and pringth translation results from the model:\n",
    "    test_encoder_input, test_input_token_index = text2sequences(max_encoder_seq_length, X_test[:30])\n",
    "    test_decoder_input_seq, test_target_token_index = text2sequences(max_decoder_seq_length, y_test[:30])\n",
    "    test_onehot_input = onehot_encode(test_encoder_input, max_encoder_seq_length, num_encoder_tokens)\n",
    "    # make predictions\n",
    "    for i in range(len(X_test)):\n",
    "        try:\n",
    "            translated_sentence = decode_sequence(test_onehot_input[i:i+1])\n",
    "            trans.append(translated_sentence[:-1])\n",
    "            english.append(y_test[i])\n",
    "            french.append(X_test[i])\n",
    "        except KeyError:\n",
    "            continue\n",
    "\n",
    "#         print('-')\n",
    "#         print('English:       ', X_test[i])\n",
    "        \n",
    "#         print('French (true): ', y_test[i].strip())\n",
    "#         print('French (pred): ', translated_sentence[:-1])\n",
    "    return trans, french, english"
   ]
  },
  {
   "cell_type": "code",
   "execution_count": 89,
   "metadata": {},
   "outputs": [],
   "source": [
    "trans, french, english = translate(X_test[50:70], y_test[50:70])"
   ]
  },
  {
   "cell_type": "code",
   "execution_count": 92,
   "metadata": {},
   "outputs": [
    {
     "name": "stderr",
     "output_type": "stream",
     "text": [
      "//anaconda3/lib/python3.7/site-packages/nltk/translate/bleu_score.py:523: UserWarning: \n",
      "The hypothesis contains 0 counts of 2-gram overlaps.\n",
      "Therefore the BLEU score evaluates to 0, independently of\n",
      "how many N-gram overlaps of lower order it contains.\n",
      "Consider using lower n-gram order or use SmoothingFunction()\n",
      "  warnings.warn(_msg)\n",
      "//anaconda3/lib/python3.7/site-packages/nltk/translate/bleu_score.py:523: UserWarning: \n",
      "The hypothesis contains 0 counts of 3-gram overlaps.\n",
      "Therefore the BLEU score evaluates to 0, independently of\n",
      "how many N-gram overlaps of lower order it contains.\n",
      "Consider using lower n-gram order or use SmoothingFunction()\n",
      "  warnings.warn(_msg)\n",
      "//anaconda3/lib/python3.7/site-packages/nltk/translate/bleu_score.py:523: UserWarning: \n",
      "The hypothesis contains 0 counts of 4-gram overlaps.\n",
      "Therefore the BLEU score evaluates to 0, independently of\n",
      "how many N-gram overlaps of lower order it contains.\n",
      "Consider using lower n-gram order or use SmoothingFunction()\n",
      "  warnings.warn(_msg)\n"
     ]
    }
   ],
   "source": [
    "for i in range(len(trans)):\n",
    "    reference = trans[i]\n",
    "    candidate = french[i]\n",
    "    score = sentence_bleu(reference, candidate, weights=(1,0,0,0))\n",
    "    sum += score"
   ]
  },
  {
   "cell_type": "code",
   "execution_count": 94,
   "metadata": {},
   "outputs": [
    {
     "name": "stdout",
     "output_type": "stream",
     "text": [
      "0.019047619047619046\n"
     ]
    }
   ],
   "source": [
    "print(score/len(trans))"
   ]
  },
  {
   "cell_type": "code",
   "execution_count": 91,
   "metadata": {},
   "outputs": [
    {
     "name": "stdout",
     "output_type": "stream",
     "text": [
      "['astu', 'besoin', 'de', 'poisson']\n",
      "[['va']]\n",
      "-\n",
      "English:        go\n",
      "French (true):  [['va']]\n",
      "French (pred):  ['astu', 'besoin', 'de', 'poisson']\n",
      "0\n",
      "['elles', 'ne', 'len', 'pas', 'dit']\n",
      "[['salut']]\n",
      "-\n",
      "English:        hi\n",
      "French (true):  [['salut']]\n",
      "French (pred):  ['elles', 'ne', 'len', 'pas', 'dit']\n",
      "0\n",
      "SCORE IS : 0.0\n"
     ]
    }
   ],
   "source": [
    "# try \n",
    "sum = 0\n",
    "start = 0\n",
    "end = 2\n",
    "for seq_index in range(start, end):\n",
    "    input_seq = encoder_input_data[seq_index: seq_index + 1]\n",
    "    decoded_sentence = decode_sequence(input_seq)\n",
    "    reference = [target_texts[seq_index][1:-1].strip().split()]\n",
    "    candidate = decoded_sentence[0:-1].strip().split()\n",
    "    print(candidate)\n",
    "    print(reference)\n",
    "    score = sentence_bleu(reference, candidate, weights=(1,0,0,0))\n",
    "    sum += score\n",
    "    print('-')\n",
    "    print('English:       ', input_texts[seq_index])\n",
    "\n",
    "    print('French (true): ', reference)\n",
    "    print('French (pred): ', candidate)\n",
    "    print(score)\n",
    "avg = sum/(end - start)\n",
    "print('SCORE IS :', avg)"
   ]
  },
  {
   "cell_type": "code",
   "execution_count": null,
   "metadata": {},
   "outputs": [],
   "source": []
  },
  {
   "cell_type": "code",
   "execution_count": null,
   "metadata": {},
   "outputs": [],
   "source": []
  }
 ],
 "metadata": {
  "kernelspec": {
   "display_name": "Python 3",
   "language": "python",
   "name": "python3"
  },
  "language_info": {
   "codemirror_mode": {
    "name": "ipython",
    "version": 3
   },
   "file_extension": ".py",
   "mimetype": "text/x-python",
   "name": "python",
   "nbconvert_exporter": "python",
   "pygments_lexer": "ipython3",
   "version": "3.7.3"
  }
 },
 "nbformat": 4,
 "nbformat_minor": 2
}
