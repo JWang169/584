{
 "cells": [
  {
   "cell_type": "code",
   "execution_count": 2,
   "metadata": {},
   "outputs": [],
   "source": [
    "import re\n",
    "import string\n",
    "from unicodedata import normalize\n",
    "import numpy as np\n",
    "import tensorflow\n",
    "from tensorflow.keras.preprocessing.text import Tokenizer\n",
    "from tensorflow.keras.preprocessing.sequence import pad_sequences\n",
    "from tensorflow.keras.callbacks import ModelCheckpoint\n",
    "from tensorflow.keras.utils import to_categorical\n",
    "from tensorflow.keras.layers import Input, LSTM, Dense, Attention\n",
    "from tensorflow.keras.models import Model\n",
    "from sklearn.model_selection import train_test_split\n",
    "from nltk.translate.bleu_score import sentence_bleu"
   ]
  },
  {
   "cell_type": "code",
   "execution_count": 3,
   "metadata": {},
   "outputs": [],
   "source": [
    "# load doc into memory\n",
    "def load_doc(filename):\n",
    "    # open the file as read only\n",
    "    file = open(filename, mode='rt', encoding='utf-8')\n",
    "    # read all text\n",
    "    text = file.read()\n",
    "    # close the file\n",
    "    file.close()\n",
    "    return text"
   ]
  },
  {
   "cell_type": "code",
   "execution_count": 4,
   "metadata": {},
   "outputs": [],
   "source": [
    "# split a loaded document into sentences\n",
    "def to_pairs(doc):\n",
    "    lines = doc.strip().split('\\n')\n",
    "    pairs = [line.split('\\t') for line in  lines]\n",
    "    return pairs\n"
   ]
  },
  {
   "cell_type": "code",
   "execution_count": 5,
   "metadata": {},
   "outputs": [],
   "source": [
    "def clean_data(lines):\n",
    "    cleaned = list()\n",
    "    # prepare regex for char filtering\n",
    "    re_print = re.compile('[^%s]' % re.escape(string.printable))\n",
    "    # prepare translation table for removing punctuation\n",
    "    table = str.maketrans('', '', string.punctuation)\n",
    "    for pair in lines:\n",
    "        clean_pair = list()\n",
    "        for line in pair:\n",
    "            # normalize unicode characters\n",
    "            line = normalize('NFD', line).encode('ascii', 'ignore')\n",
    "            line = line.decode('UTF-8')\n",
    "            # tokenize on white space\n",
    "            line = line.split()\n",
    "            # convert to lowercase\n",
    "            line = [word.lower() for word in line]\n",
    "            # remove punctuation from each token\n",
    "            line = [word.translate(table) for word in line]\n",
    "            # remove non-printable chars form each token\n",
    "            line = [re_print.sub('', w) for w in line]\n",
    "            # remove tokens with numbers in them\n",
    "            line = [word for word in line if word.isalpha()]\n",
    "            # store as string\n",
    "            clean_pair.append(' '.join(line))\n",
    "        cleaned.append(clean_pair)\n",
    "    return np.array(cleaned)"
   ]
  },
  {
   "cell_type": "code",
   "execution_count": 6,
   "metadata": {},
   "outputs": [],
   "source": [
    "filename = \"fra.txt\"\n",
    "doc = load_doc(filename)\n",
    "pairs = to_pairs(doc)\n",
    "# choose sample size\n",
    "# n_train = 20000\n",
    "# clean_pairs = clean_data(pairs)[0:n_train, :]\n",
    "clean_pairs = clean_data(pairs)\n",
    "input_texts = clean_pairs[:, 0]\n",
    "target_texts = ['\\t' + text + '\\n' for text in clean_pairs[:, 1]]\n",
    "max_encoder_seq_length = max(len(line) for line in input_texts)\n",
    "max_decoder_seq_length = max(len(line) for line in target_texts)"
   ]
  },
  {
   "cell_type": "code",
   "execution_count": 7,
   "metadata": {},
   "outputs": [
    {
     "name": "stdout",
     "output_type": "stream",
     "text": [
      "Length of input_texts:  (170651,)\n",
      "Length of target_texts: (170651,)\n"
     ]
    }
   ],
   "source": [
    "print('Length of input_texts:  ' + str(input_texts.shape))\n",
    "print('Length of target_texts: ' + str(input_texts.shape))"
   ]
  },
  {
   "cell_type": "code",
   "execution_count": 8,
   "metadata": {},
   "outputs": [
    {
     "name": "stdout",
     "output_type": "stream",
     "text": [
      "max length of input  sentences: 281\n",
      "max length of target sentences: 341\n"
     ]
    }
   ],
   "source": [
    "print('max length of input  sentences: %d' % (max_encoder_seq_length))\n",
    "print('max length of target sentences: %d' % (max_decoder_seq_length))"
   ]
  },
  {
   "cell_type": "code",
   "execution_count": 9,
   "metadata": {},
   "outputs": [],
   "source": [
    "# split data into training and testing \n",
    "X_train, X_test, y_train, y_test = train_test_split(input_texts, target_texts, test_size=0.2, random_state=42)"
   ]
  },
  {
   "cell_type": "code",
   "execution_count": 10,
   "metadata": {},
   "outputs": [],
   "source": [
    "def text2sequences(max_len, lines):\n",
    "    tokenizer = Tokenizer(char_level=True, filters='')\n",
    "    tokenizer.fit_on_texts(lines)\n",
    "    seqs = tokenizer.texts_to_sequences(lines)\n",
    "    seqs_pad = pad_sequences(seqs, maxlen=max_len, padding='post')\n",
    "    return seqs_pad, tokenizer.word_index"
   ]
  },
  {
   "cell_type": "code",
   "execution_count": 11,
   "metadata": {},
   "outputs": [],
   "source": [
    "encoder_input_seq, input_token_index = text2sequences(max_encoder_seq_length, X_train)\n",
    "decoder_input_seq, target_token_index = text2sequences(max_decoder_seq_length, y_train)"
   ]
  },
  {
   "cell_type": "code",
   "execution_count": 12,
   "metadata": {
    "scrolled": true
   },
   "outputs": [
    {
     "name": "stdout",
     "output_type": "stream",
     "text": [
      "shape of encoder_input_seq: (136520, 281)\n",
      "shape of input_token_index: 27\n",
      "shape of decoder_input_seq: (136520, 341)\n",
      "shape of target_token_index: 29\n"
     ]
    }
   ],
   "source": [
    "print('shape of encoder_input_seq: ' + str(encoder_input_seq.shape))\n",
    "print('shape of input_token_index: ' + str(len(input_token_index)))\n",
    "print('shape of decoder_input_seq: ' + str(decoder_input_seq.shape))\n",
    "print('shape of target_token_index: ' + str(len(target_token_index)))"
   ]
  },
  {
   "cell_type": "code",
   "execution_count": 13,
   "metadata": {},
   "outputs": [
    {
     "name": "stdout",
     "output_type": "stream",
     "text": [
      "num_encoder_tokens: 28\n",
      "num_decoder_tokens: 30\n"
     ]
    }
   ],
   "source": [
    "num_encoder_tokens = len(input_token_index) + 1\n",
    "num_decoder_tokens = len(target_token_index) + 1\n",
    "\n",
    "print('num_encoder_tokens: ' + str(num_encoder_tokens))\n",
    "print('num_decoder_tokens: ' + str(num_decoder_tokens))"
   ]
  },
  {
   "cell_type": "code",
   "execution_count": 14,
   "metadata": {},
   "outputs": [],
   "source": [
    "def onehot_encode(sequences, max_len, vocab_size):\n",
    "    n = len(sequences)\n",
    "    data = np.zeros((n, max_len, vocab_size))\n",
    "    for i in range(n):\n",
    "        data[i, :, :] = to_categorical(sequences[i], num_classes=vocab_size)\n",
    "    return data"
   ]
  },
  {
   "cell_type": "code",
   "execution_count": 15,
   "metadata": {},
   "outputs": [],
   "source": [
    "# encode and decode data\n",
    "encoder_input_data = onehot_encode(encoder_input_seq, max_encoder_seq_length, num_encoder_tokens)\n",
    "decoder_input_data = onehot_encode(decoder_input_seq, max_decoder_seq_length, num_decoder_tokens)\n",
    "decoder_target_seq = np.zeros(decoder_input_seq.shape)\n",
    "decoder_target_seq[:, 0:-1] = decoder_input_seq[:, 1:]\n",
    "decoder_target_data = onehot_encode(decoder_target_seq,\n",
    "                                    max_decoder_seq_length,\n",
    "                                    num_decoder_tokens)"
   ]
  },
  {
   "cell_type": "code",
   "execution_count": 16,
   "metadata": {},
   "outputs": [
    {
     "name": "stdout",
     "output_type": "stream",
     "text": [
      "(136520, 281, 28)\n",
      "(136520, 341, 30)\n"
     ]
    }
   ],
   "source": [
    "print(encoder_input_data.shape)\n",
    "print(decoder_input_data.shape)"
   ]
  },
  {
   "cell_type": "markdown",
   "metadata": {},
   "source": [
    "CREATE TRAINING MODEL"
   ]
  },
  {
   "cell_type": "code",
   "execution_count": 18,
   "metadata": {},
   "outputs": [],
   "source": [
    "# encoder model\n",
    "latent_dim = 256\n",
    "\n",
    "# inputs of the encoder network\n",
    "encoder_inputs = Input(shape=(None, num_encoder_tokens), \n",
    "                       name='encoder_inputs')\n",
    "\n",
    "# set the LSTM layer\n",
    "encoder_lstm = LSTM(latent_dim, return_state=True, \n",
    "                    dropout=0.5, name='encoder_lstm')\n",
    "_, state_h, state_c = encoder_lstm(encoder_inputs)\n",
    "\n",
    "# build the encoder network model\n",
    "encoder_model = Model(inputs=encoder_inputs, \n",
    "                      outputs=[state_h, state_c],\n",
    "                      name='encoder')"
   ]
  },
  {
   "cell_type": "code",
   "execution_count": 19,
   "metadata": {},
   "outputs": [],
   "source": [
    "# decoder model\n",
    "\n",
    "# inputs of the decoder network\n",
    "decoder_input_h = Input(shape=(latent_dim,), name='decoder_input_h')\n",
    "decoder_input_c = Input(shape=(latent_dim,), name='decoder_input_c')\n",
    "decoder_input_x = Input(shape=(None, num_decoder_tokens), name='decoder_input_x')\n",
    "\n",
    "# set the LSTM layer\n",
    "decoder_lstm = LSTM(latent_dim, return_sequences=True, \n",
    "                    return_state=True, dropout=0.5, name='decoder_lstm')\n",
    "decoder_lstm_outputs, state_h, state_c = decoder_lstm(decoder_input_x, \n",
    "                                                  initial_state=[decoder_input_h, decoder_input_c])\n",
    "\n",
    "# set the attention layer\n",
    "attention_layer = Attention(use_scale=True, name='attention_layer')\n",
    "attention_outputs = attention_layer([decoder_input_h, state_h])\n",
    "\n",
    "# set the dense layer\n",
    "decoder_dense = Dense(num_decoder_tokens, activation='softmax', name='decoder_dense')\n",
    "# decoder_outputs = decoder_dense(decoder_lstm_outputs)\n",
    "decoder_outputs = decoder_dense(attention_outputs)\n",
    "\n",
    "# build the decoder network model\n",
    "decoder_model = Model(inputs=[decoder_input_x, decoder_input_h, decoder_input_c],\n",
    "                      outputs=[decoder_outputs, state_h, state_c],\n",
    "                      name='decoder')"
   ]
  },
  {
   "cell_type": "code",
   "execution_count": 20,
   "metadata": {},
   "outputs": [],
   "source": [
    "# connect encoder and decoder\n",
    "\n",
    "# input layers\n",
    "encoder_input_x = Input(shape=(None, num_encoder_tokens), name='encoder_input_x')\n",
    "decoder_input_x = Input(shape=(None, num_decoder_tokens), name='decoder_input_x')\n",
    "\n",
    "# connect encoder to decoder\n",
    "encoder_final_states = encoder_model([encoder_input_x])\n",
    "decoder_lstm_output, _, _ = decoder_lstm(decoder_input_x, initial_state=encoder_final_states)\n",
    "decoder_pred = decoder_dense(decoder_lstm_output)\n",
    "\n",
    "model = Model(inputs=[encoder_input_x, decoder_input_x], \n",
    "              outputs=decoder_pred, \n",
    "              name='model_training')"
   ]
  },
  {
   "cell_type": "code",
   "execution_count": 21,
   "metadata": {},
   "outputs": [
    {
     "name": "stdout",
     "output_type": "stream",
     "text": [
      "shape of encoder_input_data(136520, 281, 28)\n",
      "shape of decoder_input_data(136520, 341, 30)\n",
      "shape of decoder_target_data(136520, 341, 30)\n"
     ]
    }
   ],
   "source": [
    "print('shape of encoder_input_data' + str(encoder_input_data.shape))\n",
    "print('shape of decoder_input_data' + str(decoder_input_data.shape))\n",
    "print('shape of decoder_target_data' + str(decoder_target_data.shape))"
   ]
  },
  {
   "cell_type": "code",
   "execution_count": 24,
   "metadata": {},
   "outputs": [],
   "source": [
    "class LossHistory(tensorflow.keras.callbacks.Callback):\n",
    "    def on_train_begin(self, logs={}):\n",
    "        self.i = 0\n",
    "        self.logs = []\n",
    "\n",
    "    def on_batch_end(self, batch, logs={}):\n",
    "        self.logs.append(logs)\n",
    "        if self.i % 200 == 0:\n",
    "            print('Info for {} iteration:'.format(self.i), logs)\n",
    "        self.i += 1\n",
    "                "
   ]
  },
  {
   "cell_type": "code",
   "execution_count": 26,
   "metadata": {
    "scrolled": true
   },
   "outputs": [
    {
     "name": "stdout",
     "output_type": "stream",
     "text": [
      "WARNING:tensorflow:`period` argument is deprecated. Please use `save_freq` to specify the frequency in number of samples seen.\n",
      "Info for 0 iteration: {'batch': 0, 'size': 100, 'loss': 3.4912047}\n",
      "Info for 200 iteration: {'batch': 200, 'size': 100, 'loss': 0.27875063}\n",
      "Info for 400 iteration: {'batch': 400, 'size': 100, 'loss': 0.25521582}\n",
      "Info for 600 iteration: {'batch': 600, 'size': 100, 'loss': 0.24696939}\n",
      "Info for 800 iteration: {'batch': 800, 'size': 100, 'loss': 0.24654016}\n",
      "Info for 1000 iteration: {'batch': 1000, 'size': 100, 'loss': 0.22076812}\n",
      "Info for 1200 iteration: {'batch': 1200, 'size': 100, 'loss': 0.24703893}\n",
      "WARNING:tensorflow:Can save best model only with val_acc available, skipping.\n",
      "Info for 1400 iteration: {'batch': 34, 'size': 100, 'loss': 0.2526994}\n",
      "Info for 1600 iteration: {'batch': 234, 'size': 100, 'loss': 0.21534775}\n",
      "Info for 1800 iteration: {'batch': 434, 'size': 100, 'loss': 0.23758927}\n",
      "Info for 2000 iteration: {'batch': 634, 'size': 100, 'loss': 0.2232011}\n",
      "Info for 2200 iteration: {'batch': 834, 'size': 100, 'loss': 0.1989719}\n",
      "Info for 2400 iteration: {'batch': 1034, 'size': 100, 'loss': 0.22706828}\n",
      "Info for 2600 iteration: {'batch': 1234, 'size': 100, 'loss': 0.21851262}\n",
      "WARNING:tensorflow:Can save best model only with val_acc available, skipping.\n",
      "Info for 2800 iteration: {'batch': 68, 'size': 100, 'loss': 0.2138151}\n",
      "Info for 3000 iteration: {'batch': 268, 'size': 100, 'loss': 0.22540796}\n",
      "Info for 3200 iteration: {'batch': 468, 'size': 100, 'loss': 0.22900884}\n",
      "Info for 3400 iteration: {'batch': 668, 'size': 100, 'loss': 0.21493505}\n",
      "Info for 3600 iteration: {'batch': 868, 'size': 100, 'loss': 0.22274636}\n",
      "Info for 3800 iteration: {'batch': 1068, 'size': 100, 'loss': 0.20157886}\n",
      "Info for 4000 iteration: {'batch': 1268, 'size': 100, 'loss': 0.21388794}\n",
      "WARNING:tensorflow:Can save best model only with val_acc available, skipping.\n",
      "Info for 4200 iteration: {'batch': 102, 'size': 100, 'loss': 0.19685653}\n",
      "Info for 4400 iteration: {'batch': 302, 'size': 100, 'loss': 0.20572574}\n",
      "Info for 4600 iteration: {'batch': 502, 'size': 100, 'loss': 0.21812227}\n",
      "Info for 4800 iteration: {'batch': 702, 'size': 100, 'loss': 0.2186153}\n",
      "Info for 5000 iteration: {'batch': 902, 'size': 100, 'loss': 0.21631664}\n",
      "Info for 5200 iteration: {'batch': 1102, 'size': 100, 'loss': 0.20059143}\n",
      "Info for 5400 iteration: {'batch': 1302, 'size': 100, 'loss': 0.22420318}\n",
      "WARNING:tensorflow:Can save best model only with val_acc available, skipping.\n",
      "Info for 5600 iteration: {'batch': 136, 'size': 100, 'loss': 0.20145842}\n",
      "Info for 5800 iteration: {'batch': 336, 'size': 100, 'loss': 0.21428737}\n",
      "Info for 6000 iteration: {'batch': 536, 'size': 100, 'loss': 0.20129533}\n",
      "Info for 6200 iteration: {'batch': 736, 'size': 100, 'loss': 0.1978386}\n",
      "Info for 6400 iteration: {'batch': 936, 'size': 100, 'loss': 0.20821549}\n",
      "Info for 6600 iteration: {'batch': 1136, 'size': 100, 'loss': 0.19391124}\n",
      "Info for 6800 iteration: {'batch': 1336, 'size': 100, 'loss': 0.20577662}\n",
      "WARNING:tensorflow:Can save best model only with val_acc available, skipping.\n"
     ]
    }
   ],
   "source": [
    "filepath = \"seq2seq-attention.hdf5\"        \n",
    "checkpoint = ModelCheckpoint(filepath, monitor='val_acc', verbose=1, save_best_only=True, mode='auto', period=1)        \n",
    "model.compile(optimizer='rmsprop', loss='categorical_crossentropy')\n",
    "loss_history = LossHistory()\n",
    "model.fit([encoder_input_data, decoder_input_data],  # training data\n",
    "          decoder_target_data,                       # labels \n",
    "          batch_size=100, \n",
    "          epochs=5,\n",
    "          verbose=0,\n",
    "          callbacks=[loss_history, checkpoint])\n",
    "#          callbacks=[loss_history])\n",
    "\n",
    "model.save('seq2seq_attention_model.h5')"
   ]
  },
  {
   "cell_type": "code",
   "execution_count": 1,
   "metadata": {},
   "outputs": [
    {
     "ename": "NameError",
     "evalue": "name 'input_token_index' is not defined",
     "output_type": "error",
     "traceback": [
      "\u001b[0;31m---------------------------------------------------------------------------\u001b[0m",
      "\u001b[0;31mNameError\u001b[0m                                 Traceback (most recent call last)",
      "\u001b[0;32m<ipython-input-1-8c8c290690c8>\u001b[0m in \u001b[0;36m<module>\u001b[0;34m\u001b[0m\n\u001b[1;32m      1\u001b[0m \u001b[0;31m# Reverse-lookup token index to decode sequences back to something readable.\u001b[0m\u001b[0;34m\u001b[0m\u001b[0;34m\u001b[0m\u001b[0;34m\u001b[0m\u001b[0m\n\u001b[0;32m----> 2\u001b[0;31m \u001b[0mreverse_input_char_index\u001b[0m \u001b[0;34m=\u001b[0m \u001b[0mdict\u001b[0m\u001b[0;34m(\u001b[0m\u001b[0;34m(\u001b[0m\u001b[0mi\u001b[0m\u001b[0;34m,\u001b[0m \u001b[0mchar\u001b[0m\u001b[0;34m)\u001b[0m \u001b[0;32mfor\u001b[0m \u001b[0mchar\u001b[0m\u001b[0;34m,\u001b[0m \u001b[0mi\u001b[0m \u001b[0;32min\u001b[0m \u001b[0minput_token_index\u001b[0m\u001b[0;34m.\u001b[0m\u001b[0mitems\u001b[0m\u001b[0;34m(\u001b[0m\u001b[0;34m)\u001b[0m\u001b[0;34m)\u001b[0m\u001b[0;34m\u001b[0m\u001b[0;34m\u001b[0m\u001b[0m\n\u001b[0m\u001b[1;32m      3\u001b[0m \u001b[0mreverse_target_char_index\u001b[0m \u001b[0;34m=\u001b[0m \u001b[0mdict\u001b[0m\u001b[0;34m(\u001b[0m\u001b[0;34m(\u001b[0m\u001b[0mi\u001b[0m\u001b[0;34m,\u001b[0m \u001b[0mchar\u001b[0m\u001b[0;34m)\u001b[0m \u001b[0;32mfor\u001b[0m \u001b[0mchar\u001b[0m\u001b[0;34m,\u001b[0m \u001b[0mi\u001b[0m \u001b[0;32min\u001b[0m \u001b[0mtarget_token_index\u001b[0m\u001b[0;34m.\u001b[0m\u001b[0mitems\u001b[0m\u001b[0;34m(\u001b[0m\u001b[0;34m)\u001b[0m\u001b[0;34m)\u001b[0m\u001b[0;34m\u001b[0m\u001b[0;34m\u001b[0m\u001b[0m\n",
      "\u001b[0;31mNameError\u001b[0m: name 'input_token_index' is not defined"
     ]
    }
   ],
   "source": [
    "# Reverse-lookup token index to decode sequences back to something readable.\n",
    "reverse_input_char_index = dict((i, char) for char, i in input_token_index.items())\n",
    "reverse_target_char_index = dict((i, char) for char, i in target_token_index.items())"
   ]
  },
  {
   "cell_type": "code",
   "execution_count": null,
   "metadata": {},
   "outputs": [],
   "source": [
    "def decode_sequence(input_seq):\n",
    "    states_value = encoder_model.predict(input_seq)\n",
    "\n",
    "    target_seq = np.zeros((1, 1, num_decoder_tokens))\n",
    "    target_seq[0, 0, target_token_index['\\t']] = 1.\n",
    "\n",
    "    stop_condition = False\n",
    "    decoded_sentence = ''\n",
    "    while not stop_condition:\n",
    "        output_tokens, h, c = decoder_model.predict([target_seq] + states_value)\n",
    "\n",
    "        # this line of code is greedy selection\n",
    "        # try to use multinomial sampling instead (with temperature)\n",
    "        sampled_token_index = np.argmax(output_tokens[0, :])\n",
    "        \n",
    "        sampled_char = reverse_target_char_index[sampled_token_index]\n",
    "        decoded_sentence += sampled_char\n",
    "\n",
    "        if (sampled_char == '\\n' or\n",
    "           len(decoded_sentence) > max_decoder_seq_length):\n",
    "            stop_condition = True\n",
    "\n",
    "        target_seq = np.zeros((1, 1, num_decoder_tokens))\n",
    "        target_seq[0, 0, sampled_token_index] = 1.\n",
    "\n",
    "        states_value = [h, c]\n",
    "\n",
    "    return decoded_sentence"
   ]
  },
  {
   "cell_type": "code",
   "execution_count": 40,
   "metadata": {},
   "outputs": [],
   "source": [
    "def translate(X_test, y_test):\n",
    "    #select a set of sentences from the testing data, and pringth translation results from the model:\n",
    "    test_encoder_input, test_input_token_index = text2sequences(max_encoder_seq_length, X_test[:30])\n",
    "    test_decoder_input_seq, test_target_token_index = text2sequences(max_decoder_seq_length, y_test[:30])\n",
    "    test_onehot_input = onehot_encode(test_encoder_input, max_encoder_seq_length, num_encoder_tokens)\n",
    "    # make predictions\n",
    "    trans = []\n",
    "    for i in range(len(X_test)):\n",
    "        translated_sentence = decode_sequence(test_onehot_input[i:i+1])\n",
    "        trans.append(translated_sentence[:-1])\n",
    "        print('-')\n",
    "        print('English:       ', X_test[i])\n",
    "        \n",
    "        print('French (true): ', y_test[i].strip())\n",
    "        print('French (pred): ', translated_sentence[:-1])\n",
    "    return trans"
   ]
  },
  {
   "cell_type": "code",
   "execution_count": 42,
   "metadata": {},
   "outputs": [
    {
     "name": "stdout",
     "output_type": "stream",
     "text": [
      "(1, 281, 28)\n",
      "-\n",
      "English:        come over\n",
      "French (true):  viens\n",
      "French (pred):  je ne suis pas de tout de monde a la porte\n",
      "(1, 281, 28)\n",
      "-\n",
      "English:        come over\n",
      "French (true):  venez\n",
      "French (pred):  je ne suis pas de tout de monde a la porte\n",
      "(1, 281, 28)\n",
      "-\n",
      "English:        come over\n",
      "French (true):  venez ici\n",
      "French (pred):  je ne suis pas de tout de monde a la porte\n",
      "(1, 281, 28)\n",
      "-\n",
      "English:        come over\n",
      "French (true):  viens chez nous\n",
      "French (pred):  je ne suis pas de tout de monde a la porte\n",
      "(1, 281, 28)\n",
      "-\n",
      "English:        come over\n",
      "French (true):  venez chez nous\n",
      "French (pred):  je ne suis pas de tout de monde a la porte\n",
      "(1, 281, 28)\n",
      "-\n",
      "English:        come over\n",
      "French (true):  viens chez moi\n",
      "French (pred):  je ne suis pas de tout de monde a la porte\n",
      "(1, 281, 28)\n",
      "-\n",
      "English:        come over\n",
      "French (true):  venez chez moi\n",
      "French (pred):  je ne suis pas de tout de monde a la porte\n",
      "(1, 281, 28)\n",
      "-\n",
      "English:        come soon\n",
      "French (true):  viens bientot\n",
      "French (pred):  je ne suis pas de tout de monde a la porte\n",
      "(1, 281, 28)\n",
      "-\n",
      "English:        come soon\n",
      "French (true):  venez bientot\n",
      "French (pred):  je ne suis pas de tout de monde a la porte\n",
      "(1, 281, 28)\n",
      "-\n",
      "English:        cool down\n",
      "French (true):  calmezvous\n",
      "French (pred):  je ne suis pas de tout de monde a la porte\n",
      "(1, 281, 28)\n",
      "-\n",
      "English:        did i win\n",
      "French (true):  aije gagne\n",
      "French (pred):  je ne suis pas de tout de monde a la porte\n",
      "(1, 281, 28)\n",
      "-\n",
      "English:        did i win\n",
      "French (true):  laije emporte\n",
      "French (pred):  je ne suis pas de tout de monde a la porte\n",
      "(1, 281, 28)\n",
      "-\n",
      "English:        did i win\n",
      "French (true):  estce moi qui ai gagne\n",
      "French (pred):  je ne suis pas de tout de monde a la porte\n",
      "(1, 281, 28)\n",
      "-\n",
      "English:        do it now\n",
      "French (true):  faitesle maintenant\n",
      "French (pred):  je ne suis pas de tout de monde a la porte\n",
      "(1, 281, 28)\n",
      "-\n",
      "English:        dogs bark\n",
      "French (true):  des chiens aboient\n",
      "French (pred):  je ne suis pas de tout de monde a la porte\n",
      "(1, 281, 28)\n",
      "-\n",
      "English:        dogs bark\n",
      "French (true):  les chiens aboient\n",
      "French (pred):  je ne suis pas de tout de monde a la porte\n",
      "(1, 281, 28)\n",
      "-\n",
      "English:        dont ask\n",
      "French (true):  ne demande pas\n",
      "French (pred):  je ne suis pas de tout de monde a la porte\n",
      "(1, 281, 28)\n",
      "-\n",
      "English:        dont cry\n",
      "French (true):  ne pleure pas\n",
      "French (pred):  je ne suis pas de tout de monde a la porte\n",
      "(1, 281, 28)\n",
      "-\n",
      "English:        dont die\n",
      "French (true):  ne meurs pas\n",
      "French (pred):  je ne suis pas de tout de monde a la porte\n",
      "(1, 281, 28)\n",
      "-\n",
      "English:        dont die\n",
      "French (true):  ne mourez pas\n",
      "French (pred):  je ne suis pas de tout de monde a la porte\n"
     ]
    }
   ],
   "source": [
    "for seq_index in range(500, 520):\n",
    "    # Take one sequence (part of the training set)\n",
    "    # for trying out decoding.\n",
    "    input_seq = encoder_input_data[seq_index: seq_index + 1]\n",
    "    print(input_seq.shape)\n",
    "    decoded_sentence = decode_sequence(input_seq)\n",
    "    print('-')\n",
    "    print('English:       ', input_texts[seq_index])\n",
    "    print('French (true): ', target_texts[seq_index][1:-1])\n",
    "    print('French (pred): ', decoded_sentence[0:-1])"
   ]
  },
  {
   "cell_type": "code",
   "execution_count": 41,
   "metadata": {},
   "outputs": [
    {
     "name": "stdout",
     "output_type": "stream",
     "text": [
      "-\n",
      "English:        i only wish that were possible\n",
      "French (true):  je souhaiterais seulement que ce fut possible\n",
      "French (pred):  je ne suis pas de tout de monde a la porte\n",
      "-\n",
      "English:        you have to stay fit\n",
      "French (true):  vous devez garder la forme\n",
      "French (pred):  je ne suis pas de tout de monde a la porte\n",
      "-\n",
      "English:        we want to help\n",
      "French (true):  nous voulons aider\n",
      "French (pred):  je ne suis pas de tout de monde a la porte\n",
      "-\n",
      "English:        why is life so full of suffering\n",
      "French (true):  pourquoi la vie estelle si remplie de souffrance\n",
      "French (pred):  je ne suis pas de tout de monde a la porte\n",
      "-\n",
      "English:        i think so too\n",
      "French (true):  oui je le pense aussi\n",
      "French (pred):  je ne suis pas de tout de monde a la porte\n",
      "-\n",
      "English:        he came from another country\n",
      "French (true):  il venait dun autre pays\n",
      "French (pred):  je ne suis pas de tout de monde a la porte\n",
      "-\n",
      "English:        my son has a black beard\n",
      "French (true):  mon fils a la barbe noire\n",
      "French (pred):  je ne suis pas de tout de monde a la porte\n",
      "-\n",
      "English:        these books are my books\n",
      "French (true):  ces livres sont les miens\n",
      "French (pred):  je ne suis pas de tout de monde a la porte\n",
      "-\n",
      "English:        i am very pleased\n",
      "French (true):  je suis tres content\n",
      "French (pred):  je ne suis pas de tout de monde a la porte\n",
      "-\n",
      "English:        i didnt find anything\n",
      "French (true):  je nai rien trouve\n",
      "French (pred):  je ne suis pas de tout de monde a la porte\n",
      "-\n",
      "English:        why are you all so happy\n",
      "French (true):  pourquoi etesvous toutes si contentes\n",
      "French (pred):  je ne suis pas de tout de monde a la porte\n",
      "-\n",
      "English:        she had an unassuming air that put everyone at ease\n",
      "French (true):  elle avait un air sans pretention qui mettait chacun a son aise\n",
      "French (pred):  je ne suis pas de tout de monde a la porte\n",
      "-\n",
      "English:        i left you a couple messages\n",
      "French (true):  je tai laisse quelques messages\n",
      "French (pred):  je ne suis pas de tout de monde a la porte\n",
      "-\n",
      "English:        thats not my name\n",
      "French (true):  ce nest pas mon nom\n",
      "French (pred):  je ne suis pas de tout de monde a la porte\n",
      "-\n",
      "English:        how come you know all this\n",
      "French (true):  comment se faitil que vous sachiez tout ca\n",
      "French (pred):  je ne suis pas de tout de monde a la porte\n",
      "-\n",
      "English:        let him go\n",
      "French (true):  laissezle sen aller\n",
      "French (pred):  je ne suis pas de tout de monde a la porte\n",
      "-\n",
      "English:        im a teacher here\n",
      "French (true):  je suis enseignante ici\n",
      "French (pred):  je ne suis pas de tout de monde a la porte\n",
      "-\n",
      "English:        has he paid back the money you lent him\n",
      "French (true):  atil rembourse largent que vous lui avez prete\n",
      "French (pred):  je ne suis pas de tout de monde a la porte\n",
      "-\n",
      "English:        i won\n",
      "French (true):  jai gagne\n",
      "French (pred):  je ne suis pas de tout de monde a la porte\n",
      "-\n",
      "English:        tom believes that mary was murdered\n",
      "French (true):  tom croit que mary a ete assassinee\n",
      "French (pred):  je ne suis pas de tout de monde a la porte\n",
      "-\n",
      "English:        i dont understand this obsession of yours\n",
      "French (true):  je ne comprends pas cette obsession que tu as\n",
      "French (pred):  je ne suis pas de tout de monde a la porte\n",
      "-\n",
      "English:        have you got a match\n",
      "French (true):  astu une allumette\n",
      "French (pred):  je ne suis pas de tout de monde a la porte\n",
      "-\n",
      "English:        i was disgusted\n",
      "French (true):  jetais degoute\n",
      "French (pred):  je ne suis pas de tout de monde a la porte\n",
      "-\n",
      "English:        i just cant help you right now\n",
      "French (true):  je ne peux simplement pas vous aider a linstant\n",
      "French (pred):  je ne suis pas de tout de monde a la porte\n",
      "-\n",
      "English:        im going drinking with some of my friends tonight\n",
      "French (true):  je vais boire un coup avec quelques uns de mes amis ce soir\n",
      "French (pred):  je ne suis pas de tout de monde a la porte\n",
      "-\n",
      "English:        you cant sleep more than hours a day\n",
      "French (true):  tu ne peux pas dormir plus de heures par jour\n",
      "French (pred):  je ne suis pas de tout de monde a la porte\n",
      "-\n",
      "English:        tom became a national hero\n",
      "French (true):  tom est devenu un heros national\n",
      "French (pred):  je ne suis pas de tout de monde a la porte\n",
      "-\n",
      "English:        i said i was alone didnt i\n",
      "French (true):  jai dit que jetais seule non\n",
      "French (pred):  je ne suis pas de tout de monde a la porte\n",
      "-\n",
      "English:        is someone meeting us\n",
      "French (true):  quelquun doitil nous rencontrer\n",
      "French (pred):  je ne suis pas de tout de monde a la porte\n",
      "-\n",
      "English:        the two candidates are neck and neck\n",
      "French (true):  les deux candidats sont au coude a coude\n",
      "French (pred):  je ne suis pas de tout de monde a la porte\n"
     ]
    }
   ],
   "source": [
    "translated_French = translate(X_test[:30], y_test[:30])"
   ]
  },
  {
   "cell_type": "raw",
   "metadata": {},
   "source": [
    "Evaluate the translation using BLEU score"
   ]
  },
  {
   "cell_type": "code",
   "execution_count": null,
   "metadata": {},
   "outputs": [],
   "source": [
    "sum = 0\n",
    "for i in range(len(X_test)):\n",
    "    reference = y_test[i].split()\n",
    "    candidate = translated_French[i].split()\n",
    "    \n",
    "    score = sentence_bleu(reference, candidate, weights=(1,0,0,0))\n",
    "    sum += score\n",
    "    print('-')\n",
    "    print('English:       ', X_test[i])\n",
    "\n",
    "    print('Spanish (true): ', reference)\n",
    "    print('Spanish (pred): ', candidate)\n",
    "    print(score)\n",
    "avg = sum/30\n",
    "print('SCORE IS :', avg)"
   ]
  },
  {
   "cell_type": "code",
   "execution_count": null,
   "metadata": {},
   "outputs": [],
   "source": [
    "print('SCORE IS :', avg)"
   ]
  },
  {
   "cell_type": "code",
   "execution_count": null,
   "metadata": {},
   "outputs": [],
   "source": []
  }
 ],
 "metadata": {
  "kernelspec": {
   "display_name": "Python 3",
   "language": "python",
   "name": "python3"
  },
  "language_info": {
   "codemirror_mode": {
    "name": "ipython",
    "version": 3
   },
   "file_extension": ".py",
   "mimetype": "text/x-python",
   "name": "python",
   "nbconvert_exporter": "python",
   "pygments_lexer": "ipython3",
   "version": "3.7.3"
  }
 },
 "nbformat": 4,
 "nbformat_minor": 2
}
