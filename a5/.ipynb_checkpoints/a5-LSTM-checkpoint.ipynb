{
 "cells": [
  {
   "cell_type": "code",
   "execution_count": 1,
   "metadata": {},
   "outputs": [
    {
     "name": "stderr",
     "output_type": "stream",
     "text": [
      "Using TensorFlow backend.\n"
     ]
    }
   ],
   "source": [
    "import re\n",
    "import string\n",
    "from unicodedata import normalize\n",
    "import numpy as np\n",
    "import tensorflow\n",
    "from tensorflow.keras.preprocessing.text import Tokenizer\n",
    "from tensorflow.keras.preprocessing.sequence import pad_sequences\n",
    "from tensorflow.keras.callbacks import ModelCheckpoint\n",
    "from tensorflow.keras.utils import to_categorical\n",
    "from tensorflow.keras.layers import Input, LSTM, Dense, Concatenate, Attention, GRU,GlobalAveragePooling1D\n",
    "from tensorflow.keras.models import Model\n",
    "from IPython.display import SVG\n",
    "from keras.utils.vis_utils import model_to_dot, plot_model\n",
    "from sklearn.model_selection import train_test_split"
   ]
  },
  {
   "cell_type": "code",
   "execution_count": 2,
   "metadata": {},
   "outputs": [],
   "source": [
    "# load doc into memory\n",
    "def load_doc(filename):\n",
    "    # open the file as read only\n",
    "    file = open(filename, mode='rt', encoding='utf-8')\n",
    "    # read all text\n",
    "    text = file.read()\n",
    "    # close the file\n",
    "    file.close()\n",
    "    return text"
   ]
  },
  {
   "cell_type": "code",
   "execution_count": 3,
   "metadata": {},
   "outputs": [],
   "source": [
    "# split a loaded document into sentences\n",
    "def to_pairs(doc):\n",
    "    lines = doc.strip().split('\\n')\n",
    "    pairs = [line.split('\\t') for line in  lines]\n",
    "    return pairs\n"
   ]
  },
  {
   "cell_type": "code",
   "execution_count": 4,
   "metadata": {},
   "outputs": [],
   "source": [
    "def clean_data(lines):\n",
    "    cleaned = list()\n",
    "    # prepare regex for char filtering\n",
    "    re_print = re.compile('[^%s]' % re.escape(string.printable))\n",
    "    # prepare translation table for removing punctuation\n",
    "    table = str.maketrans('', '', string.punctuation)\n",
    "    for pair in lines:\n",
    "        clean_pair = list()\n",
    "        for line in pair:\n",
    "            # normalize unicode characters\n",
    "            line = normalize('NFD', line).encode('ascii', 'ignore')\n",
    "            line = line.decode('UTF-8')\n",
    "            # tokenize on white space\n",
    "            line = line.split()\n",
    "            # convert to lowercase\n",
    "            line = [word.lower() for word in line]\n",
    "            # remove punctuation from each token\n",
    "            line = [word.translate(table) for word in line]\n",
    "            # remove non-printable chars form each token\n",
    "            line = [re_print.sub('', w) for w in line]\n",
    "            # remove tokens with numbers in them\n",
    "            line = [word for word in line if word.isalpha()]\n",
    "            # store as string\n",
    "            clean_pair.append(' '.join(line))\n",
    "        cleaned.append(clean_pair)\n",
    "    return np.array(cleaned)"
   ]
  },
  {
   "cell_type": "code",
   "execution_count": 5,
   "metadata": {},
   "outputs": [],
   "source": [
    "filename = \"fra.txt\"\n",
    "doc = load_doc(filename)\n",
    "pairs = to_pairs(doc)\n",
    "# choose sample size\n",
    "n_train = 20000\n",
    "clean_pairs = clean_data(pairs)[0:n_train, :]\n",
    "# clean_pairs = clean_data(pairs)\n",
    "input_texts = clean_pairs[:, 0]\n",
    "target_texts = ['\\t' + text + '\\n' for text in clean_pairs[:, 1]]\n",
    "max_encoder_seq_length = max(len(line) for line in input_texts)\n",
    "max_decoder_seq_length = max(len(line) for line in target_texts)"
   ]
  },
  {
   "cell_type": "code",
   "execution_count": 6,
   "metadata": {},
   "outputs": [
    {
     "name": "stdout",
     "output_type": "stream",
     "text": [
      "Length of input_texts:  (20000,)\n",
      "Length of target_texts: (20000,)\n"
     ]
    }
   ],
   "source": [
    "print('Length of input_texts:  ' + str(input_texts.shape))\n",
    "print('Length of target_texts: ' + str(input_texts.shape))"
   ]
  },
  {
   "cell_type": "code",
   "execution_count": 7,
   "metadata": {},
   "outputs": [
    {
     "name": "stdout",
     "output_type": "stream",
     "text": [
      "max length of input  sentences: 17\n",
      "max length of target sentences: 56\n"
     ]
    }
   ],
   "source": [
    "print('max length of input  sentences: %d' % (max_encoder_seq_length))\n",
    "print('max length of target sentences: %d' % (max_decoder_seq_length))"
   ]
  },
  {
   "cell_type": "code",
   "execution_count": 8,
   "metadata": {},
   "outputs": [],
   "source": [
    "# split data into training and testing \n",
    "X_train, X_test, y_train, y_test = train_test_split(input_texts, target_texts, test_size=0.2, random_state=42)"
   ]
  },
  {
   "cell_type": "code",
   "execution_count": 9,
   "metadata": {},
   "outputs": [],
   "source": [
    "def text2sequences(max_len, lines):\n",
    "    tokenizer = Tokenizer(char_level=True, filters='')\n",
    "    tokenizer.fit_on_texts(lines)\n",
    "    seqs = tokenizer.texts_to_sequences(lines)\n",
    "    seqs_pad = pad_sequences(seqs, maxlen=max_len, padding='post')\n",
    "    return seqs_pad, tokenizer.word_index"
   ]
  },
  {
   "cell_type": "code",
   "execution_count": 10,
   "metadata": {},
   "outputs": [],
   "source": [
    "encoder_input_seq, input_token_index = text2sequences(max_encoder_seq_length, X_train)\n",
    "decoder_input_seq, target_token_index = text2sequences(max_decoder_seq_length, y_train)"
   ]
  },
  {
   "cell_type": "code",
   "execution_count": 11,
   "metadata": {
    "scrolled": true
   },
   "outputs": [
    {
     "name": "stdout",
     "output_type": "stream",
     "text": [
      "shape of encoder_input_seq: (16000, 17)\n",
      "shape of input_token_index: 27\n",
      "shape of decoder_input_seq: (16000, 56)\n",
      "shape of target_token_index: 29\n"
     ]
    }
   ],
   "source": [
    "print('shape of encoder_input_seq: ' + str(encoder_input_seq.shape))\n",
    "print('shape of input_token_index: ' + str(len(input_token_index)))\n",
    "print('shape of decoder_input_seq: ' + str(decoder_input_seq.shape))\n",
    "print('shape of target_token_index: ' + str(len(target_token_index)))"
   ]
  },
  {
   "cell_type": "code",
   "execution_count": 12,
   "metadata": {},
   "outputs": [
    {
     "name": "stdout",
     "output_type": "stream",
     "text": [
      "num_encoder_tokens: 28\n",
      "num_decoder_tokens: 30\n"
     ]
    }
   ],
   "source": [
    "num_encoder_tokens = len(input_token_index) + 1\n",
    "num_decoder_tokens = len(target_token_index) + 1\n",
    "\n",
    "print('num_encoder_tokens: ' + str(num_encoder_tokens))\n",
    "print('num_decoder_tokens: ' + str(num_decoder_tokens))"
   ]
  },
  {
   "cell_type": "code",
   "execution_count": 13,
   "metadata": {},
   "outputs": [],
   "source": [
    "def onehot_encode(sequences, max_len, vocab_size):\n",
    "    n = len(sequences)\n",
    "    data = np.zeros((n, max_len, vocab_size))\n",
    "    for i in range(n):\n",
    "        data[i, :, :] = to_categorical(sequences[i], num_classes=vocab_size)\n",
    "    return data"
   ]
  },
  {
   "cell_type": "code",
   "execution_count": 14,
   "metadata": {},
   "outputs": [],
   "source": [
    "# encode and decode data\n",
    "encoder_input_data = onehot_encode(encoder_input_seq, max_encoder_seq_length, num_encoder_tokens)\n",
    "decoder_input_data = onehot_encode(decoder_input_seq, max_decoder_seq_length, num_decoder_tokens)\n",
    "decoder_target_seq = np.zeros(decoder_input_seq.shape)\n",
    "decoder_target_seq[:, 0:-1] = decoder_input_seq[:, 1:]\n",
    "decoder_target_data = onehot_encode(decoder_target_seq,\n",
    "                                    max_decoder_seq_length,\n",
    "                                    num_decoder_tokens)"
   ]
  },
  {
   "cell_type": "code",
   "execution_count": 15,
   "metadata": {
    "scrolled": true
   },
   "outputs": [
    {
     "name": "stdout",
     "output_type": "stream",
     "text": [
      "(16000, 17, 28)\n",
      "(16000, 56, 30)\n"
     ]
    }
   ],
   "source": [
    "print(encoder_input_data.shape)\n",
    "print(decoder_input_data.shape)"
   ]
  },
  {
   "cell_type": "code",
   "execution_count": 49,
   "metadata": {},
   "outputs": [],
   "source": [
    "# encoder model\n",
    "latent_dim = 256\n",
    "\n",
    "# encode input layers\n",
    "encoder_inputs = Input(shape=(None, num_encoder_tokens), name='encoder_inputs')\n",
    "\n",
    "\n",
    "# set the LSTM layer\n",
    "encoder_lstm = LSTM(latent_dim, return_state=True, return_sequences=True,\n",
    "                    dropout=0.5, name='encoder_lstm')\n",
    "encoder_outputs, encoder_state_h, encoder_state_c = encoder_lstm(encoder_inputs) # lstm1 is 3d (batch_size, timesteps, units)\n",
    "\n",
    "\n",
    "# build the encoder network model\n",
    "encoder_model = Model(inputs=encoder_inputs, \n",
    "                      outputs=[encoder_outputs, encoder_state_h, encoder_state_c],\n",
    "                      name='encoder')"
   ]
  },
  {
   "cell_type": "code",
   "execution_count": 52,
   "metadata": {},
   "outputs": [
    {
     "data": {
      "text/plain": [
       "TensorShape([None, None, 256])"
      ]
     },
     "execution_count": 52,
     "metadata": {},
     "output_type": "execute_result"
    }
   ],
   "source": [
    "encoder_outputs.shape"
   ]
  },
  {
   "cell_type": "code",
   "execution_count": 51,
   "metadata": {},
   "outputs": [
    {
     "ename": "ValueError",
     "evalue": "A `Concatenate` layer requires inputs with matching shapes except for the concat axis. Got inputs shapes: [(None, None, 256), (None, None, None, 256)]",
     "output_type": "error",
     "traceback": [
      "\u001b[0;31m---------------------------------------------------------------------------\u001b[0m",
      "\u001b[0;31mValueError\u001b[0m                                Traceback (most recent call last)",
      "\u001b[0;32m<ipython-input-51-0c2542e17d76>\u001b[0m in \u001b[0;36m<module>\u001b[0;34m\u001b[0m\n\u001b[1;32m     17\u001b[0m \u001b[0;34m\u001b[0m\u001b[0m\n\u001b[1;32m     18\u001b[0m \u001b[0;31m# cancatenate lstm output layer with attention layer\u001b[0m\u001b[0;34m\u001b[0m\u001b[0;34m\u001b[0m\u001b[0;34m\u001b[0m\u001b[0m\n\u001b[0;32m---> 19\u001b[0;31m \u001b[0mconcatenate_outputs\u001b[0m \u001b[0;34m=\u001b[0m \u001b[0mConcatenate\u001b[0m\u001b[0;34m(\u001b[0m\u001b[0mname\u001b[0m\u001b[0;34m=\u001b[0m\u001b[0;34m'concatenate_outputs'\u001b[0m\u001b[0;34m)\u001b[0m\u001b[0;34m(\u001b[0m\u001b[0;34m[\u001b[0m\u001b[0mdecoder_lstm_output\u001b[0m\u001b[0;34m,\u001b[0m\u001b[0mattention_outputs\u001b[0m\u001b[0;34m]\u001b[0m\u001b[0;34m)\u001b[0m\u001b[0;34m\u001b[0m\u001b[0;34m\u001b[0m\u001b[0m\n\u001b[0m\u001b[1;32m     20\u001b[0m \u001b[0;34m\u001b[0m\u001b[0m\n\u001b[1;32m     21\u001b[0m \u001b[0;31m# set the dense layer\u001b[0m\u001b[0;34m\u001b[0m\u001b[0;34m\u001b[0m\u001b[0;34m\u001b[0m\u001b[0m\n",
      "\u001b[0;32m//anaconda3/lib/python3.7/site-packages/tensorflow_core/python/keras/engine/base_layer.py\u001b[0m in \u001b[0;36m__call__\u001b[0;34m(self, inputs, *args, **kwargs)\u001b[0m\n\u001b[1;32m    815\u001b[0m           \u001b[0;31m# Build layer if applicable (if the `build` method has been\u001b[0m\u001b[0;34m\u001b[0m\u001b[0;34m\u001b[0m\u001b[0;34m\u001b[0m\u001b[0m\n\u001b[1;32m    816\u001b[0m           \u001b[0;31m# overridden).\u001b[0m\u001b[0;34m\u001b[0m\u001b[0;34m\u001b[0m\u001b[0;34m\u001b[0m\u001b[0m\n\u001b[0;32m--> 817\u001b[0;31m           \u001b[0mself\u001b[0m\u001b[0;34m.\u001b[0m\u001b[0m_maybe_build\u001b[0m\u001b[0;34m(\u001b[0m\u001b[0minputs\u001b[0m\u001b[0;34m)\u001b[0m\u001b[0;34m\u001b[0m\u001b[0;34m\u001b[0m\u001b[0m\n\u001b[0m\u001b[1;32m    818\u001b[0m           \u001b[0mcast_inputs\u001b[0m \u001b[0;34m=\u001b[0m \u001b[0mself\u001b[0m\u001b[0;34m.\u001b[0m\u001b[0m_maybe_cast_inputs\u001b[0m\u001b[0;34m(\u001b[0m\u001b[0minputs\u001b[0m\u001b[0;34m)\u001b[0m\u001b[0;34m\u001b[0m\u001b[0;34m\u001b[0m\u001b[0m\n\u001b[1;32m    819\u001b[0m \u001b[0;34m\u001b[0m\u001b[0m\n",
      "\u001b[0;32m//anaconda3/lib/python3.7/site-packages/tensorflow_core/python/keras/engine/base_layer.py\u001b[0m in \u001b[0;36m_maybe_build\u001b[0;34m(self, inputs)\u001b[0m\n\u001b[1;32m   2139\u001b[0m         \u001b[0;31m# operations.\u001b[0m\u001b[0;34m\u001b[0m\u001b[0;34m\u001b[0m\u001b[0;34m\u001b[0m\u001b[0m\n\u001b[1;32m   2140\u001b[0m         \u001b[0;32mwith\u001b[0m \u001b[0mtf_utils\u001b[0m\u001b[0;34m.\u001b[0m\u001b[0mmaybe_init_scope\u001b[0m\u001b[0;34m(\u001b[0m\u001b[0mself\u001b[0m\u001b[0;34m)\u001b[0m\u001b[0;34m:\u001b[0m\u001b[0;34m\u001b[0m\u001b[0;34m\u001b[0m\u001b[0m\n\u001b[0;32m-> 2141\u001b[0;31m           \u001b[0mself\u001b[0m\u001b[0;34m.\u001b[0m\u001b[0mbuild\u001b[0m\u001b[0;34m(\u001b[0m\u001b[0minput_shapes\u001b[0m\u001b[0;34m)\u001b[0m\u001b[0;34m\u001b[0m\u001b[0;34m\u001b[0m\u001b[0m\n\u001b[0m\u001b[1;32m   2142\u001b[0m       \u001b[0;31m# We must set self.built since user defined build functions are not\u001b[0m\u001b[0;34m\u001b[0m\u001b[0;34m\u001b[0m\u001b[0;34m\u001b[0m\u001b[0m\n\u001b[1;32m   2143\u001b[0m       \u001b[0;31m# constrained to set self.built.\u001b[0m\u001b[0;34m\u001b[0m\u001b[0;34m\u001b[0m\u001b[0;34m\u001b[0m\u001b[0m\n",
      "\u001b[0;32m//anaconda3/lib/python3.7/site-packages/tensorflow_core/python/keras/utils/tf_utils.py\u001b[0m in \u001b[0;36mwrapper\u001b[0;34m(instance, input_shape)\u001b[0m\n\u001b[1;32m    304\u001b[0m     \u001b[0;32mif\u001b[0m \u001b[0minput_shape\u001b[0m \u001b[0;32mis\u001b[0m \u001b[0;32mnot\u001b[0m \u001b[0;32mNone\u001b[0m\u001b[0;34m:\u001b[0m\u001b[0;34m\u001b[0m\u001b[0;34m\u001b[0m\u001b[0m\n\u001b[1;32m    305\u001b[0m       \u001b[0minput_shape\u001b[0m \u001b[0;34m=\u001b[0m \u001b[0mconvert_shapes\u001b[0m\u001b[0;34m(\u001b[0m\u001b[0minput_shape\u001b[0m\u001b[0;34m,\u001b[0m \u001b[0mto_tuples\u001b[0m\u001b[0;34m=\u001b[0m\u001b[0;32mTrue\u001b[0m\u001b[0;34m)\u001b[0m\u001b[0;34m\u001b[0m\u001b[0;34m\u001b[0m\u001b[0m\n\u001b[0;32m--> 306\u001b[0;31m     \u001b[0moutput_shape\u001b[0m \u001b[0;34m=\u001b[0m \u001b[0mfn\u001b[0m\u001b[0;34m(\u001b[0m\u001b[0minstance\u001b[0m\u001b[0;34m,\u001b[0m \u001b[0minput_shape\u001b[0m\u001b[0;34m)\u001b[0m\u001b[0;34m\u001b[0m\u001b[0;34m\u001b[0m\u001b[0m\n\u001b[0m\u001b[1;32m    307\u001b[0m     \u001b[0;31m# Return shapes from `fn` as TensorShapes.\u001b[0m\u001b[0;34m\u001b[0m\u001b[0;34m\u001b[0m\u001b[0;34m\u001b[0m\u001b[0m\n\u001b[1;32m    308\u001b[0m     \u001b[0;32mif\u001b[0m \u001b[0moutput_shape\u001b[0m \u001b[0;32mis\u001b[0m \u001b[0;32mnot\u001b[0m \u001b[0;32mNone\u001b[0m\u001b[0;34m:\u001b[0m\u001b[0;34m\u001b[0m\u001b[0;34m\u001b[0m\u001b[0m\n",
      "\u001b[0;32m//anaconda3/lib/python3.7/site-packages/tensorflow_core/python/keras/layers/merge.py\u001b[0m in \u001b[0;36mbuild\u001b[0;34m(self, input_shape)\u001b[0m\n\u001b[1;32m    389\u001b[0m                        \u001b[0;34m'inputs with matching shapes '\u001b[0m\u001b[0;34m\u001b[0m\u001b[0;34m\u001b[0m\u001b[0m\n\u001b[1;32m    390\u001b[0m                        \u001b[0;34m'except for the concat axis. '\u001b[0m\u001b[0;34m\u001b[0m\u001b[0;34m\u001b[0m\u001b[0m\n\u001b[0;32m--> 391\u001b[0;31m                        'Got inputs shapes: %s' % (input_shape))\n\u001b[0m\u001b[1;32m    392\u001b[0m \u001b[0;34m\u001b[0m\u001b[0m\n\u001b[1;32m    393\u001b[0m   \u001b[0;32mdef\u001b[0m \u001b[0m_merge_function\u001b[0m\u001b[0;34m(\u001b[0m\u001b[0mself\u001b[0m\u001b[0;34m,\u001b[0m \u001b[0minputs\u001b[0m\u001b[0;34m)\u001b[0m\u001b[0;34m:\u001b[0m\u001b[0;34m\u001b[0m\u001b[0;34m\u001b[0m\u001b[0m\n",
      "\u001b[0;31mValueError\u001b[0m: A `Concatenate` layer requires inputs with matching shapes except for the concat axis. Got inputs shapes: [(None, None, 256), (None, None, None, 256)]"
     ]
    }
   ],
   "source": [
    "# inputs of the decoder network\n",
    "attention_input = Input(shape=(None, None, 256), name='attention_input')\n",
    "decoder_input_h = Input(shape=(latent_dim,), name='decoder_input_h')\n",
    "decoder_input_c = Input(shape=(latent_dim,), name='decoder_input_c')\n",
    "decoder_input_x = Input(shape=(None, num_decoder_tokens), name='decoder_input_x')\n",
    "\n",
    "# set the LSTM layer\n",
    "decoder_lstm = LSTM(latent_dim, return_sequences=True, \n",
    "                    return_state=True, dropout=0.5, name='decoder_lstm')\n",
    "decoder_lstm_outputs, state_h, state_c = decoder_lstm(decoder_input_x, \n",
    "                                                      initial_state=[decoder_input_h, decoder_input_c])\n",
    "\n",
    "# set the attention layer\n",
    "attention_layer = Attention(use_scale=True, name='attention_layer')\n",
    "# attention_outputs = attention_layer([decoder_input_h, state_h])\n",
    "attention_outputs= attention_layer([decoder_lstm_output,attention_input])\n",
    "\n",
    "# cancatenate lstm output layer with attention layer\n",
    "concatenate_outputs = Concatenate(name='concatenate_outputs')([decoder_lstm_output,attention_outputs])\n",
    "\n",
    "# set the dense layer\n",
    "decoder_dense = Dense(num_decoder_tokens, activation='softmax', name='decoder_dense')\n",
    "decoder_outputs = decoder_dense(decoder_lstm_outputs)\n",
    "\n",
    "# build the decoder network model\n",
    "decoder_model = Model(inputs=[decoder_input_x, decoder_input_h, decoder_input_c, attention_input],\n",
    "                      outputs=[decoder_outputs, state_h, state_c],\n",
    "                      name='decoder')"
   ]
  },
  {
   "cell_type": "code",
   "execution_count": 39,
   "metadata": {},
   "outputs": [],
   "source": [
    "# encoder model\n",
    "latent_dim = 256\n",
    "\n",
    "# encode input layers\n",
    "encoder_input_x = Input(shape=(None, num_encoder_tokens), name='encoder_input_x')\n",
    "\n",
    "\n",
    "# set the LSTM layer\n",
    "encoder_lstm = LSTM(latent_dim, return_state=True, return_sequences=True,\n",
    "                    dropout=0.5, name='encoder_lstm')\n",
    "encoder_outputs, encoder_state_h, encoder_state_c = encoder_lstm(encoder_input_x) # lstm1 is 3d (batch_size, timesteps, units)\n",
    "\n",
    "\n",
    "# inputs of the decoder network\n",
    "decoder_input_h = Input(shape=(latent_dim,), name='decoder_input_h')\n",
    "decoder_input_c = Input(shape=(latent_dim,), name='decoder_input_c')\n",
    "decoder_input_x = Input(shape=(None, num_decoder_tokens), name='decoder_input_x')\n",
    "\n",
    "# set the LSTM layer\n",
    "decoder_lstm = LSTM(latent_dim, return_sequences=True, \n",
    "                    return_state=True, dropout=0.5, name='decoder_lstm')\n",
    "\n",
    "decoder_lstm_output, state_h, state_c = decoder_lstm(decoder_input_x, \n",
    "                                                     initial_state=[encoder_state_h, encoder_state_c])\n",
    "\n",
    "\n",
    "# set the attention layer\n",
    "attention_layer = Attention(use_scale=True, name='attention_layer')\n",
    "# attention_outputs = attention_layer([decoder_input_h, state_h])\n",
    "attention_outputs= attention_layer([decoder_lstm_output,encoder_outputs])\n",
    "\n",
    "\n",
    "# cancatenate lstm output layer with attention layer\n",
    "concatenate_outputs = Concatenate(name='concatenate_outputs')([decoder_lstm_output,attention_outputs])\n",
    "\n",
    "# set the dense layer\n",
    "decoder_dense = Dense(num_decoder_tokens, activation='softmax', name='decoder_dense')\n",
    "\n",
    "decoder_pred = decoder_dense(concatenate_outputs)\n",
    "\n",
    "model = Model(inputs=[encoder_input_x, decoder_input_x], \n",
    "              outputs=decoder_pred, \n",
    "              name='model_training')\n",
    "# model.summary()"
   ]
  },
  {
   "cell_type": "code",
   "execution_count": 42,
   "metadata": {},
   "outputs": [],
   "source": [
    "class LossHistory(tensorflow.keras.callbacks.Callback):\n",
    "    def on_train_begin(self, logs={}):\n",
    "        self.i = 0\n",
    "        self.logs = []\n",
    "\n",
    "    def on_batch_end(self, batch, logs={}):\n",
    "        self.logs.append(logs)\n",
    "        if self.i % 200 == 0:\n",
    "            print('Info for {} iteration:'.format(self.i), logs)\n",
    "        self.i += 1\n",
    "                "
   ]
  },
  {
   "cell_type": "code",
   "execution_count": 43,
   "metadata": {},
   "outputs": [
    {
     "name": "stdout",
     "output_type": "stream",
     "text": [
      "WARNING:tensorflow:`period` argument is deprecated. Please use `save_freq` to specify the frequency in number of samples seen.\n",
      "Info for 0 iteration: {'batch': 0, 'size': 64, 'loss': 0.81217533}\n",
      "Info for 200 iteration: {'batch': 200, 'size': 64, 'loss': 0.73000705}\n",
      "WARNING:tensorflow:Can save best model only with val_acc available, skipping.\n",
      "Info for 400 iteration: {'batch': 150, 'size': 64, 'loss': 0.7667599}\n",
      "WARNING:tensorflow:Can save best model only with val_acc available, skipping.\n",
      "Info for 600 iteration: {'batch': 100, 'size': 64, 'loss': 0.7228324}\n",
      "WARNING:tensorflow:Can save best model only with val_acc available, skipping.\n",
      "Info for 800 iteration: {'batch': 50, 'size': 64, 'loss': 0.69376606}\n",
      "WARNING:tensorflow:Can save best model only with val_acc available, skipping.\n",
      "Info for 1000 iteration: {'batch': 0, 'size': 64, 'loss': 0.6873235}\n",
      "Info for 1200 iteration: {'batch': 200, 'size': 64, 'loss': 0.67141914}\n",
      "WARNING:tensorflow:Can save best model only with val_acc available, skipping.\n",
      "Info for 1400 iteration: {'batch': 150, 'size': 64, 'loss': 0.67558116}\n",
      "WARNING:tensorflow:Can save best model only with val_acc available, skipping.\n",
      "Info for 1600 iteration: {'batch': 100, 'size': 64, 'loss': 0.6546567}\n",
      "WARNING:tensorflow:Can save best model only with val_acc available, skipping.\n",
      "Info for 1800 iteration: {'batch': 50, 'size': 64, 'loss': 0.62085646}\n",
      "WARNING:tensorflow:Can save best model only with val_acc available, skipping.\n",
      "Info for 2000 iteration: {'batch': 0, 'size': 64, 'loss': 0.6875504}\n",
      "Info for 2200 iteration: {'batch': 200, 'size': 64, 'loss': 0.6465576}\n",
      "WARNING:tensorflow:Can save best model only with val_acc available, skipping.\n",
      "Info for 2400 iteration: {'batch': 150, 'size': 64, 'loss': 0.64097214}\n",
      "WARNING:tensorflow:Can save best model only with val_acc available, skipping.\n"
     ]
    },
    {
     "data": {
      "text/plain": [
       "<tensorflow.python.keras.callbacks.History at 0x1a3b94ffd0>"
      ]
     },
     "execution_count": 43,
     "metadata": {},
     "output_type": "execute_result"
    }
   ],
   "source": [
    "filepath = \"seq2seq-1109-loss.hdf5\"        \n",
    "# checkpoint = ModelCheckpoint(filepath, monitor='loss', verbose=1, save_best_only=False, mode='auto', period=1)        \n",
    "model.compile(optimizer='rmsprop', loss='categorical_crossentropy')\n",
    "checkpoint = ModelCheckpoint(filepath, monitor='val_acc', verbose=1, save_best_only=True, mode='auto', period=1)\n",
    "his = LossHistory()\n",
    "model.fit([encoder_input_data, decoder_input_data],  # training data\n",
    "          decoder_target_data,                       # labels \n",
    "          batch_size=64,\n",
    "          epochs=10,\n",
    "          verbose=0,\n",
    "         callbacks=[his, checkpoint])\n"
   ]
  },
  {
   "cell_type": "code",
   "execution_count": 44,
   "metadata": {},
   "outputs": [],
   "source": [
    "# Reverse-lookup token index to decode sequences back to something readable.\n",
    "reverse_input_char_index = dict((i, char) for char, i in input_token_index.items())\n",
    "reverse_target_char_index = dict((i, char) for char, i in target_token_index.items())"
   ]
  },
  {
   "cell_type": "code",
   "execution_count": 45,
   "metadata": {},
   "outputs": [],
   "source": [
    "def decode_sequence(input_seq):\n",
    "    states_value = encoder_model.predict(input_seq)\n",
    "\n",
    "    target_seq = np.zeros((1, 1, num_decoder_tokens))\n",
    "    target_seq[0, 0, target_token_index['\\t']] = 1.\n",
    "\n",
    "    stop_condition = False\n",
    "    decoded_sentence = ''\n",
    "    while not stop_condition:\n",
    "        output_tokens, h, c = decoder_model.predict([target_seq] + states_value)\n",
    "\n",
    "        # this line of code is greedy selection\n",
    "        # try to use multinomial sampling instead (with temperature)\n",
    "        sampled_token_index = np.argmax(output_tokens[0, :])\n",
    "        \n",
    "        sampled_char = reverse_target_char_index[sampled_token_index]\n",
    "        decoded_sentence += sampled_char\n",
    "\n",
    "        if (sampled_char == '\\n' or\n",
    "           len(decoded_sentence) > max_decoder_seq_length):\n",
    "            stop_condition = True\n",
    "\n",
    "        target_seq = np.zeros((1, 1, num_decoder_tokens))\n",
    "        target_seq[0, 0, sampled_token_index] = 1.\n",
    "\n",
    "        states_value = [h, c]\n",
    "\n",
    "    return decoded_sentence"
   ]
  },
  {
   "cell_type": "code",
   "execution_count": 46,
   "metadata": {
    "scrolled": true
   },
   "outputs": [
    {
     "name": "stdout",
     "output_type": "stream",
     "text": [
      "(1, 17, 28)\n"
     ]
    },
    {
     "ename": "NameError",
     "evalue": "name 'encoder_model' is not defined",
     "output_type": "error",
     "traceback": [
      "\u001b[0;31m---------------------------------------------------------------------------\u001b[0m",
      "\u001b[0;31mNameError\u001b[0m                                 Traceback (most recent call last)",
      "\u001b[0;32m<ipython-input-46-965e8a89fdc0>\u001b[0m in \u001b[0;36m<module>\u001b[0;34m\u001b[0m\n\u001b[1;32m      4\u001b[0m     \u001b[0minput_seq\u001b[0m \u001b[0;34m=\u001b[0m \u001b[0mencoder_input_data\u001b[0m\u001b[0;34m[\u001b[0m\u001b[0mseq_index\u001b[0m\u001b[0;34m:\u001b[0m \u001b[0mseq_index\u001b[0m \u001b[0;34m+\u001b[0m \u001b[0;36m1\u001b[0m\u001b[0;34m]\u001b[0m\u001b[0;34m\u001b[0m\u001b[0;34m\u001b[0m\u001b[0m\n\u001b[1;32m      5\u001b[0m     \u001b[0mprint\u001b[0m\u001b[0;34m(\u001b[0m\u001b[0minput_seq\u001b[0m\u001b[0;34m.\u001b[0m\u001b[0mshape\u001b[0m\u001b[0;34m)\u001b[0m\u001b[0;34m\u001b[0m\u001b[0;34m\u001b[0m\u001b[0m\n\u001b[0;32m----> 6\u001b[0;31m     \u001b[0mdecoded_sentence\u001b[0m \u001b[0;34m=\u001b[0m \u001b[0mdecode_sequence\u001b[0m\u001b[0;34m(\u001b[0m\u001b[0minput_seq\u001b[0m\u001b[0;34m)\u001b[0m\u001b[0;34m\u001b[0m\u001b[0;34m\u001b[0m\u001b[0m\n\u001b[0m\u001b[1;32m      7\u001b[0m     \u001b[0mprint\u001b[0m\u001b[0;34m(\u001b[0m\u001b[0;34m'-'\u001b[0m\u001b[0;34m)\u001b[0m\u001b[0;34m\u001b[0m\u001b[0;34m\u001b[0m\u001b[0m\n\u001b[1;32m      8\u001b[0m     \u001b[0mprint\u001b[0m\u001b[0;34m(\u001b[0m\u001b[0;34m'English:       '\u001b[0m\u001b[0;34m,\u001b[0m \u001b[0minput_texts\u001b[0m\u001b[0;34m[\u001b[0m\u001b[0mseq_index\u001b[0m\u001b[0;34m]\u001b[0m\u001b[0;34m)\u001b[0m\u001b[0;34m\u001b[0m\u001b[0;34m\u001b[0m\u001b[0m\n",
      "\u001b[0;32m<ipython-input-45-4ac3de3b405e>\u001b[0m in \u001b[0;36mdecode_sequence\u001b[0;34m(input_seq)\u001b[0m\n\u001b[1;32m      1\u001b[0m \u001b[0;32mdef\u001b[0m \u001b[0mdecode_sequence\u001b[0m\u001b[0;34m(\u001b[0m\u001b[0minput_seq\u001b[0m\u001b[0;34m)\u001b[0m\u001b[0;34m:\u001b[0m\u001b[0;34m\u001b[0m\u001b[0;34m\u001b[0m\u001b[0m\n\u001b[0;32m----> 2\u001b[0;31m     \u001b[0mstates_value\u001b[0m \u001b[0;34m=\u001b[0m \u001b[0mencoder_model\u001b[0m\u001b[0;34m.\u001b[0m\u001b[0mpredict\u001b[0m\u001b[0;34m(\u001b[0m\u001b[0minput_seq\u001b[0m\u001b[0;34m)\u001b[0m\u001b[0;34m\u001b[0m\u001b[0;34m\u001b[0m\u001b[0m\n\u001b[0m\u001b[1;32m      3\u001b[0m \u001b[0;34m\u001b[0m\u001b[0m\n\u001b[1;32m      4\u001b[0m     \u001b[0mtarget_seq\u001b[0m \u001b[0;34m=\u001b[0m \u001b[0mnp\u001b[0m\u001b[0;34m.\u001b[0m\u001b[0mzeros\u001b[0m\u001b[0;34m(\u001b[0m\u001b[0;34m(\u001b[0m\u001b[0;36m1\u001b[0m\u001b[0;34m,\u001b[0m \u001b[0;36m1\u001b[0m\u001b[0;34m,\u001b[0m \u001b[0mnum_decoder_tokens\u001b[0m\u001b[0;34m)\u001b[0m\u001b[0;34m)\u001b[0m\u001b[0;34m\u001b[0m\u001b[0;34m\u001b[0m\u001b[0m\n\u001b[1;32m      5\u001b[0m     \u001b[0mtarget_seq\u001b[0m\u001b[0;34m[\u001b[0m\u001b[0;36m0\u001b[0m\u001b[0;34m,\u001b[0m \u001b[0;36m0\u001b[0m\u001b[0;34m,\u001b[0m \u001b[0mtarget_token_index\u001b[0m\u001b[0;34m[\u001b[0m\u001b[0;34m'\\t'\u001b[0m\u001b[0;34m]\u001b[0m\u001b[0;34m]\u001b[0m \u001b[0;34m=\u001b[0m \u001b[0;36m1.\u001b[0m\u001b[0;34m\u001b[0m\u001b[0;34m\u001b[0m\u001b[0m\n",
      "\u001b[0;31mNameError\u001b[0m: name 'encoder_model' is not defined"
     ]
    }
   ],
   "source": [
    "for seq_index in range(500, 520):\n",
    "    # Take one sequence (part of the training set)\n",
    "    # for trying out decoding.\n",
    "    input_seq = encoder_input_data[seq_index: seq_index + 1]\n",
    "    print(input_seq.shape)\n",
    "    decoded_sentence = decode_sequence(input_seq)\n",
    "    print('-')\n",
    "    print('English:       ', input_texts[seq_index])\n",
    "    print('French (true): ', target_texts[seq_index][1:-1])\n",
    "    print('French (pred): ', decoded_sentence[0:-1])"
   ]
  },
  {
   "cell_type": "code",
   "execution_count": 247,
   "metadata": {},
   "outputs": [],
   "source": [
    "#select a set of sentences from the testing data, and pringth translation results from the model:\n",
    "test_encoder_input, test_input_token_index = text2sequences(max_encoder_seq_length, X_test[:30])\n",
    "test_decoder_input_seq, test_target_token_index = text2sequences(max_decoder_seq_length, y_test[:30])\n",
    "test_onehot_input = onehot_encode(test_encoder_input, max_encoder_seq_length, num_encoder_tokens)\n",
    "test_onehot_input.shape\n",
    "trans = []\n",
    "for i in range(30):\n",
    "#     print('English: ', X_test[i])\n",
    "    translated_sentence = decode_sequence(test_onehot_input[i:i+1])\n",
    "    trans.append(translated_sentence[:-1])"
   ]
  },
  {
   "cell_type": "code",
   "execution_count": 33,
   "metadata": {},
   "outputs": [],
   "source": [
    "def translate(X_test, y_test):\n",
    "    #select a set of sentences from the testing data, and pringth translation results from the model:\n",
    "    test_encoder_input, test_input_token_index = text2sequences(max_encoder_seq_length, X_test[:30])\n",
    "    test_decoder_input_seq, test_target_token_index = text2sequences(max_decoder_seq_length, y_test[:30])\n",
    "    test_onehot_input = onehot_encode(test_encoder_input, max_encoder_seq_length, num_encoder_tokens)\n",
    "    # make predictions\n",
    "    for i in range(len(X_test)):\n",
    "        \n",
    "        translated_sentence = decode_sequence(test_onehot_input[i:i+1])\n",
    "        trans.append(translated_sentence[:-1])\n",
    "        print('-')\n",
    "        print('English:       ', X_test[i])\n",
    "        \n",
    "        print('French (true): ', y_test[i].strip())\n",
    "        print('French (pred): ', translated_sentence[:-1])\n",
    "    return trans"
   ]
  },
  {
   "cell_type": "code",
   "execution_count": 34,
   "metadata": {},
   "outputs": [
    {
     "name": "stdout",
     "output_type": "stream",
     "text": [
      "-\n",
      "English:        i hate them all\n",
      "French (true):  je les deteste tous\n",
      "French (pred):  je suis en ente le parte\n",
      "-\n",
      "English:        he helps us\n",
      "French (true):  il nous aide\n",
      "French (pred):  vous etes pas ente\n",
      "-\n",
      "English:        no one knew it\n",
      "French (true):  personne ne le sut\n",
      "French (pred):  cest me te te pas\n",
      "-\n",
      "English:        come to me\n",
      "French (true):  venez a moi\n",
      "French (pred):  este le pas ente\n",
      "-\n",
      "English:        hes a bit tipsy\n",
      "French (true):  il est un peu emeche\n",
      "French (pred):  este le pas ente\n",
      "-\n",
      "English:        shes very tall\n",
      "French (true):  elle est tres grande\n",
      "French (pred):  etes eus en ere\n",
      "-\n",
      "English:        i was satisfied\n",
      "French (true):  jetais satisfait\n",
      "French (pred):  je suis en ente le parte\n",
      "-\n",
      "English:        whats this\n",
      "French (true):  cest quoi\n",
      "French (pred):  aresez e sous en ere\n",
      "-\n",
      "English:        lets draw straws\n",
      "French (true):  tirons a la courtepaille\n",
      "French (pred):  ne sons ne pas en ente\n",
      "-\n",
      "English:        i will sue you\n",
      "French (true):  je vous poursuivrai en justice\n",
      "French (pred):  je suis en ente le parte\n",
      "-\n",
      "English:        i feel giddy\n",
      "French (true):  jai la tete qui me tourne\n",
      "French (pred):  je suis en ere te paite\n",
      "-\n",
      "English:        i like to swim\n",
      "French (true):  jaime nager\n",
      "French (pred):  je suis en ente le parte\n",
      "-\n",
      "English:        we both love you\n",
      "French (true):  nous vous aimons tous les deux\n",
      "French (pred):  elle le te te pas ente\n",
      "-\n",
      "English:        tom is the owner\n",
      "French (true):  tom est le proprietaire\n",
      "French (pred):  que le te te pas ente\n",
      "-\n",
      "English:        we like to talk\n",
      "French (true):  nous apprecions de converser\n",
      "French (pred):  je se sens pas en ere\n",
      "-\n",
      "English:        i didnt stop\n",
      "French (true):  je nai pas arrete\n",
      "French (pred):  je suis en ente\n",
      "-\n",
      "English:        im not your maid\n",
      "French (true):  je ne suis pas ta bonne\n",
      "French (pred):  cest me te te pas ente\n",
      "-\n",
      "English:        whats your name\n",
      "French (true):  comment vous appelezvous\n",
      "French (pred):  etes eu e te pas ente\n",
      "-\n",
      "English:        i was speaking\n",
      "French (true):  jetais en train de parler\n",
      "French (pred):  je suis en ente le parte\n",
      "-\n",
      "English:        ill pay\n",
      "French (true):  je paierai\n",
      "French (pred):  je suis pas ente\n",
      "-\n",
      "English:        come if you can\n",
      "French (true):  viens si tu peux\n",
      "French (pred):  este le pas ente\n",
      "-\n",
      "English:        he looked back\n",
      "French (true):  il regarda derriere lui\n",
      "French (pred):  il est mon ente\n",
      "-\n",
      "English:        i shouldnt worry\n",
      "French (true):  je ne devrais pas me faire de souci\n",
      "French (pred):  je suis en ente le parte\n",
      "-\n",
      "English:        carry this for me\n",
      "French (true):  porte ca pour moi\n",
      "French (pred):  arere e le parte\n",
      "-\n",
      "English:        tom isnt rude\n",
      "French (true):  tom nest pas grossier\n",
      "French (pred):  elles ent pas ente\n",
      "-\n",
      "English:        was there a note\n",
      "French (true):  y avaitil un mot\n",
      "French (pred):  aite le pas ente\n",
      "-\n",
      "English:        they go shopping\n",
      "French (true):  ils vont faire des emplettes\n",
      "French (pred):  tu es enes en ere\n",
      "-\n",
      "English:        expect no mercy\n",
      "French (true):  ne vous attendez a aucune pitie\n",
      "French (pred):  je se sens pas en ere\n",
      "-\n",
      "English:        i think its true\n",
      "French (true):  je crois que cest vrai\n",
      "French (pred):  je suis en ente le parte\n",
      "-\n",
      "English:        i need a car\n",
      "French (true):  jai besoin dune voiture\n",
      "French (pred):  je suis en ente\n"
     ]
    }
   ],
   "source": [
    "translated_French = translate(X_test[:30], y_test[:30])"
   ]
  },
  {
   "cell_type": "code",
   "execution_count": 35,
   "metadata": {},
   "outputs": [],
   "source": [
    "from nltk.translate.bleu_score import sentence_bleu"
   ]
  },
  {
   "cell_type": "code",
   "execution_count": 36,
   "metadata": {},
   "outputs": [
    {
     "name": "stdout",
     "output_type": "stream",
     "text": [
      "-\n",
      "English:        i hate them all\n",
      "Spanish (true):  ['je', 'les', 'deteste', 'tous']\n",
      "Spanish (pred):  ['je', 'suis', 'en', 'ente', 'le', 'parte']\n",
      "0\n",
      "-\n",
      "English:        he helps us\n",
      "Spanish (true):  ['il', 'nous', 'aide']\n",
      "Spanish (pred):  ['vous', 'etes', 'pas', 'ente']\n",
      "0\n",
      "-\n",
      "English:        no one knew it\n",
      "Spanish (true):  ['personne', 'ne', 'le', 'sut']\n",
      "Spanish (pred):  ['cest', 'me', 'te', 'te', 'pas']\n",
      "0\n",
      "-\n",
      "English:        come to me\n",
      "Spanish (true):  ['venez', 'a', 'moi']\n",
      "Spanish (pred):  ['este', 'le', 'pas', 'ente']\n",
      "0\n",
      "-\n",
      "English:        hes a bit tipsy\n",
      "Spanish (true):  ['il', 'est', 'un', 'peu', 'emeche']\n",
      "Spanish (pred):  ['este', 'le', 'pas', 'ente']\n",
      "0\n",
      "-\n",
      "English:        shes very tall\n",
      "Spanish (true):  ['elle', 'est', 'tres', 'grande']\n",
      "Spanish (pred):  ['etes', 'eus', 'en', 'ere']\n",
      "0\n",
      "-\n",
      "English:        i was satisfied\n",
      "Spanish (true):  ['jetais', 'satisfait']\n",
      "Spanish (pred):  ['je', 'suis', 'en', 'ente', 'le', 'parte']\n",
      "0\n",
      "-\n",
      "English:        whats this\n",
      "Spanish (true):  ['cest', 'quoi']\n",
      "Spanish (pred):  ['aresez', 'e', 'sous', 'en', 'ere']\n",
      "0.2\n",
      "-\n",
      "English:        lets draw straws\n",
      "Spanish (true):  ['tirons', 'a', 'la', 'courtepaille']\n",
      "Spanish (pred):  ['ne', 'sons', 'ne', 'pas', 'en', 'ente']\n",
      "0\n",
      "-\n",
      "English:        i will sue you\n",
      "Spanish (true):  ['je', 'vous', 'poursuivrai', 'en', 'justice']\n",
      "Spanish (pred):  ['je', 'suis', 'en', 'ente', 'le', 'parte']\n",
      "0\n",
      "-\n",
      "English:        i feel giddy\n",
      "Spanish (true):  ['jai', 'la', 'tete', 'qui', 'me', 'tourne']\n",
      "Spanish (pred):  ['je', 'suis', 'en', 'ere', 'te', 'paite']\n",
      "0\n",
      "-\n",
      "English:        i like to swim\n",
      "Spanish (true):  ['jaime', 'nager']\n",
      "Spanish (pred):  ['je', 'suis', 'en', 'ente', 'le', 'parte']\n",
      "0\n",
      "-\n",
      "English:        we both love you\n",
      "Spanish (true):  ['nous', 'vous', 'aimons', 'tous', 'les', 'deux']\n",
      "Spanish (pred):  ['elle', 'le', 'te', 'te', 'pas', 'ente']\n",
      "0\n",
      "-\n",
      "English:        tom is the owner\n",
      "Spanish (true):  ['tom', 'est', 'le', 'proprietaire']\n",
      "Spanish (pred):  ['que', 'le', 'te', 'te', 'pas', 'ente']\n",
      "0\n",
      "-\n",
      "English:        we like to talk\n",
      "Spanish (true):  ['nous', 'apprecions', 'de', 'converser']\n",
      "Spanish (pred):  ['je', 'se', 'sens', 'pas', 'en', 'ere']\n",
      "0\n",
      "-\n",
      "English:        i didnt stop\n",
      "Spanish (true):  ['je', 'nai', 'pas', 'arrete']\n",
      "Spanish (pred):  ['je', 'suis', 'en', 'ente']\n",
      "0\n",
      "-\n",
      "English:        im not your maid\n",
      "Spanish (true):  ['je', 'ne', 'suis', 'pas', 'ta', 'bonne']\n",
      "Spanish (pred):  ['cest', 'me', 'te', 'te', 'pas', 'ente']\n",
      "0\n",
      "-\n",
      "English:        whats your name\n",
      "Spanish (true):  ['comment', 'vous', 'appelezvous']\n",
      "Spanish (pred):  ['etes', 'eu', 'e', 'te', 'pas', 'ente']\n",
      "0.141080287481769\n",
      "-\n",
      "English:        i was speaking\n",
      "Spanish (true):  ['jetais', 'en', 'train', 'de', 'parler']\n",
      "Spanish (pred):  ['je', 'suis', 'en', 'ente', 'le', 'parte']\n",
      "0\n",
      "-\n",
      "English:        ill pay\n",
      "Spanish (true):  ['je', 'paierai']\n",
      "Spanish (pred):  ['je', 'suis', 'pas', 'ente']\n",
      "0\n",
      "-\n",
      "English:        come if you can\n",
      "Spanish (true):  ['viens', 'si', 'tu', 'peux']\n",
      "Spanish (pred):  ['este', 'le', 'pas', 'ente']\n",
      "0\n",
      "-\n",
      "English:        he looked back\n",
      "Spanish (true):  ['il', 'regarda', 'derriere', 'lui']\n",
      "Spanish (pred):  ['il', 'est', 'mon', 'ente']\n",
      "0\n",
      "-\n",
      "English:        i shouldnt worry\n",
      "Spanish (true):  ['je', 'ne', 'devrais', 'pas', 'me', 'faire', 'de', 'souci']\n",
      "Spanish (pred):  ['je', 'suis', 'en', 'ente', 'le', 'parte']\n",
      "0\n",
      "-\n",
      "English:        carry this for me\n",
      "Spanish (true):  ['porte', 'ca', 'pour', 'moi']\n",
      "Spanish (pred):  ['arere', 'e', 'le', 'parte']\n",
      "0.25\n",
      "-\n",
      "English:        tom isnt rude\n",
      "Spanish (true):  ['tom', 'nest', 'pas', 'grossier']\n",
      "Spanish (pred):  ['elles', 'ent', 'pas', 'ente']\n",
      "0\n",
      "-\n",
      "English:        was there a note\n",
      "Spanish (true):  ['y', 'avaitil', 'un', 'mot']\n",
      "Spanish (pred):  ['aite', 'le', 'pas', 'ente']\n",
      "0\n",
      "-\n",
      "English:        they go shopping\n",
      "Spanish (true):  ['ils', 'vont', 'faire', 'des', 'emplettes']\n",
      "Spanish (pred):  ['tu', 'es', 'enes', 'en', 'ere']\n",
      "0\n",
      "-\n",
      "English:        expect no mercy\n",
      "Spanish (true):  ['ne', 'vous', 'attendez', 'a', 'aucune', 'pitie']\n",
      "Spanish (pred):  ['je', 'se', 'sens', 'pas', 'en', 'ere']\n",
      "0\n",
      "-\n",
      "English:        i think its true\n",
      "Spanish (true):  ['je', 'crois', 'que', 'cest', 'vrai']\n",
      "Spanish (pred):  ['je', 'suis', 'en', 'ente', 'le', 'parte']\n",
      "0\n",
      "-\n",
      "English:        i need a car\n",
      "Spanish (true):  ['jai', 'besoin', 'dune', 'voiture']\n",
      "Spanish (pred):  ['je', 'suis', 'en', 'ente']\n",
      "0\n",
      "SCORE IS : 0.0197026762493923\n"
     ]
    },
    {
     "name": "stderr",
     "output_type": "stream",
     "text": [
      "//anaconda3/lib/python3.7/site-packages/nltk/translate/bleu_score.py:523: UserWarning: \n",
      "The hypothesis contains 0 counts of 2-gram overlaps.\n",
      "Therefore the BLEU score evaluates to 0, independently of\n",
      "how many N-gram overlaps of lower order it contains.\n",
      "Consider using lower n-gram order or use SmoothingFunction()\n",
      "  warnings.warn(_msg)\n",
      "//anaconda3/lib/python3.7/site-packages/nltk/translate/bleu_score.py:523: UserWarning: \n",
      "The hypothesis contains 0 counts of 3-gram overlaps.\n",
      "Therefore the BLEU score evaluates to 0, independently of\n",
      "how many N-gram overlaps of lower order it contains.\n",
      "Consider using lower n-gram order or use SmoothingFunction()\n",
      "  warnings.warn(_msg)\n",
      "//anaconda3/lib/python3.7/site-packages/nltk/translate/bleu_score.py:523: UserWarning: \n",
      "The hypothesis contains 0 counts of 4-gram overlaps.\n",
      "Therefore the BLEU score evaluates to 0, independently of\n",
      "how many N-gram overlaps of lower order it contains.\n",
      "Consider using lower n-gram order or use SmoothingFunction()\n",
      "  warnings.warn(_msg)\n"
     ]
    }
   ],
   "source": [
    "sum = 0\n",
    "for i in range(len(X_test[:30])):\n",
    "    reference = y_test[i].split()\n",
    "    candidate = translated_French[i].split()\n",
    "    \n",
    "    score = sentence_bleu(reference, candidate, weights=(1,0,0,0))\n",
    "    sum += score\n",
    "    print('-')\n",
    "    print('English:       ', X_test[i])\n",
    "\n",
    "    print('Spanish (true): ', reference)\n",
    "    print('Spanish (pred): ', candidate)\n",
    "    print(score)\n",
    "avg = sum/30\n",
    "print('SCORE IS :', avg)"
   ]
  },
  {
   "cell_type": "code",
   "execution_count": null,
   "metadata": {},
   "outputs": [],
   "source": []
  }
 ],
 "metadata": {
  "kernelspec": {
   "display_name": "Python 3",
   "language": "python",
   "name": "python3"
  },
  "language_info": {
   "codemirror_mode": {
    "name": "ipython",
    "version": 3
   },
   "file_extension": ".py",
   "mimetype": "text/x-python",
   "name": "python",
   "nbconvert_exporter": "python",
   "pygments_lexer": "ipython3",
   "version": "3.7.3"
  }
 },
 "nbformat": 4,
 "nbformat_minor": 2
}
