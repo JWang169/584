{
 "cells": [
  {
   "cell_type": "code",
   "execution_count": 1,
   "metadata": {},
   "outputs": [
    {
     "name": "stderr",
     "output_type": "stream",
     "text": [
      "Using TensorFlow backend.\n"
     ]
    }
   ],
   "source": [
    "import pandas as pd\n",
    "import numpy as np\n",
    "import re\n",
    "from matplotlib import pyplot as plt\n",
    "import numpy as np\n",
    "from sklearn.model_selection import train_test_split\n",
    "from sklearn.utils import shuffle\n",
    "from nltk.corpus import stopwords\n",
    "from keras.preprocessing.text import Tokenizer\n",
    "from keras.layers import Dropout\n",
    "from string import punctuation\n",
    "from keras.models import Sequential\n",
    "from keras import layers, regularizers\n",
    "from keras.preprocessing.text import Tokenizer\n",
    "from keras.preprocessing.sequence import pad_sequences\n",
    "from keras.callbacks import ModelCheckpoint\n",
    "from keras.models import load_model"
   ]
  },
  {
   "cell_type": "code",
   "execution_count": 20,
   "metadata": {},
   "outputs": [],
   "source": [
    "import pandas as pd\n",
    "import numpy as np\n",
    "import numpy as np\n",
    "from sklearn.model_selection import train_test_split\n",
    "from nltk.corpus import stopwords\n",
    "from matplotlib import pyplot as plt\n",
    "from keras.preprocessing.text import Tokenizer\n",
    "from keras.utils import to_categorical\n",
    "from keras.models import Sequential\n",
    "from keras import regularizers, layers\n",
    "from keras.layers import Dropout, Flatten, BatchNormalization, Conv1D, GlobalMaxPooling1D\n",
    "from keras.preprocessing.text import Tokenizer\n",
    "from keras.preprocessing.sequence import pad_sequences\n",
    "from keras.callbacks import ModelCheckpoint\n",
    "from keras.models import load_model\n",
    "import keras\n",
    "\n",
    "\n",
    "def get_data(path):\n",
    "    f = open(path)\n",
    "    context = f.read().strip()\n",
    "    f.close()\n",
    "    raw = context.split('\\n')\n",
    "    sentences = []\n",
    "    for sentence in raw:\n",
    "        cur = sentence.split()\n",
    "        if len(cur) > 4:\n",
    "             sentences.append(cur)\n",
    "    return sentences\n",
    "\n",
    "\n",
    "def split_data(s,l,X_train, X_test, Y_train, Y_test):\n",
    "    x_train, x_test, y_train, y_test = train_test_split(s, l, test_size=0.2, random_state=42)\n",
    "    X_train.extend(x_train)\n",
    "    X_test.extend(x_test)\n",
    "    Y_train.extend(y_train)\n",
    "    Y_test.extend(y_test)\n",
    "    return X_train, X_test, Y_train, Y_test\n",
    "\n",
    "\n",
    "def preprocess():\n",
    "    authors =  ['Fyodor Dostoyevsky', 'Conan Doyle', 'Jane Austen']\n",
    "    p1, p2, p3 = ['data/28054-0.txt', 'data/pg1661.txt', 'data/pg31100.txt']\n",
    "\n",
    "    # manully remove headers \n",
    "    s1 = get_data(p1)[91:]\n",
    "    s2 = get_data(p2)[23:]\n",
    "    s3 = get_data(p3)[13:]\n",
    "    l1 = [0]* len(s1)\n",
    "    l2 = [1]* len(s2)\n",
    "    l3 = [2]* len(s3)\n",
    "\n",
    "    # split training and testing data set accordingly \n",
    "    X_train = []\n",
    "    X_test = []\n",
    "    Y_train = []\n",
    "    Y_test = []\n",
    "    X_train, X_test, Y_train, Y_test = split_data(s1,l1,X_train, X_test, Y_train, Y_test)\n",
    "    X_train, X_test, Y_train, Y_test = split_data(s2,l2,X_train, X_test, Y_train, Y_test)\n",
    "    X_train, X_test, Y_train, Y_test = split_data(s3,l3,X_train, X_test, Y_train, Y_test)\n",
    "\n",
    "    tokenizer = Tokenizer(oov_token='unk')\n",
    "    tokenizer.fit_on_texts(X_train)\n",
    "\n",
    "    word_index = tokenizer.word_index\n",
    "    vocab_size = len(tokenizer.word_index) + 1\n",
    "\n",
    "    # text tokenize\n",
    "    seq_train = tokenizer.texts_to_sequences(X_train)\n",
    "    seq_test = tokenizer.texts_to_sequences(X_test)\n",
    "    max_sentence_len = 0\n",
    "    for x in seq_train:\n",
    "        length = len(x)\n",
    "        max_sentence_len = length if length > max_sentence_len else max_sentence_len\n",
    "    \n",
    "    training_data = pad_sequences(seq_train, padding='post', maxlen=max_sentence_len)\n",
    "    test_data = pad_sequences(seq_test, padding='post', maxlen=max_sentence_len)\n",
    "    \n",
    "    training_labels = to_categorical(Y_train)\n",
    "    test_labels = to_categorical(Y_test)\n",
    "\n",
    "    return training_data, test_data, training_labels, test_labels, vocab_size, max_sentence_len\n",
    "\n",
    "\n",
    "def cnn_2_layer_model(vocab_size, max_sentence_len):\n",
    "    # build model\n",
    "    model = Sequential()\n",
    "    model.add(layers.Embedding(vocab_size, 100, input_length=max_sentence_len))\n",
    "    model.add(layers.Conv1D(128,5))\n",
    "    model.add(layers.MaxPooling1D(3,3, padding='same'))\n",
    "    model.add(layers.Conv1D(64,5))\n",
    "    model.add(Flatten())\n",
    "    model.add(Dropout(0.5))\n",
    "    model.add(BatchNormalization())\n",
    "    model.add(layers.Dense(64, activation='relu',kernel_regularizer=regularizers.l2(0.01)))\n",
    "    model.add(Dropout(0.5))\n",
    "    model.add(layers.Dense(3, activation='sigmoid'))\n",
    "    model.compile(optimizer='adam',\n",
    "                 loss='categorical_crossentropy',\n",
    "                 metrics=['accuracy'])\n",
    "    model.summary()\n",
    "    return model\n",
    "\n",
    "\n",
    "def cnn_1_layer_model(vocab_size, max_sentence_len):\n",
    "    model = Sequential()\n",
    "    model.add(layers.Embedding(vocab_size, 100, input_length=max_sentence_len))\n",
    "    model.add(Conv1D(128, 5, activation='relu'))\n",
    "    model.add(GlobalMaxPooling1D())\n",
    "    model.add(layers.Dense(32, activation='relu',kernel_regularizer=regularizers.l2(0.01)))\n",
    "    model.add(Dropout(0.5))\n",
    "    model.add(layers.Dense(3, activation='sigmoid'))\n",
    "    adam = keras.optimizers.Adam(lr=0.001,decay=1e-6) # set learning rate to 0.001(which is default)\n",
    "\n",
    "    model.compile(optimizer='adam',\n",
    "                 loss='categorical_crossentropy',\n",
    "                 metrics=['accuracy'])\n",
    "    model.summary()\n",
    "    return model\n",
    "\n",
    "\n",
    "\n",
    "\n",
    "\n",
    "# The result for cnn_1_layer_model:\n",
    "# test loss:0.5594399030183734, \n",
    "# test accuracy: 0.8428394142496701,\n",
    "\n",
    "# The result for cnn_2_layer_model: \n",
    "# test loss: 0.5144588466116973, \n",
    "# test accuracy: 0.8140481509118496\n",
    "\n",
    "\n"
   ]
  },
  {
   "cell_type": "code",
   "execution_count": 21,
   "metadata": {
    "scrolled": true
   },
   "outputs": [
    {
     "name": "stdout",
     "output_type": "stream",
     "text": [
      "_________________________________________________________________\n",
      "Layer (type)                 Output Shape              Param #   \n",
      "=================================================================\n",
      "embedding_4 (Embedding)      (None, 20, 100)           5489200   \n",
      "_________________________________________________________________\n",
      "conv1d_3 (Conv1D)            (None, 16, 128)           64128     \n",
      "_________________________________________________________________\n",
      "global_max_pooling1d_3 (Glob (None, 128)               0         \n",
      "_________________________________________________________________\n",
      "dense_5 (Dense)              (None, 32)                4128      \n",
      "_________________________________________________________________\n",
      "dropout_3 (Dropout)          (None, 32)                0         \n",
      "_________________________________________________________________\n",
      "dense_6 (Dense)              (None, 3)                 99        \n",
      "=================================================================\n",
      "Total params: 5,557,555\n",
      "Trainable params: 5,557,555\n",
      "Non-trainable params: 0\n",
      "_________________________________________________________________\n"
     ]
    }
   ],
   "source": [
    "training_data, test_data, training_labels, test_labels,vocab_size, max_sentence_len = preprocess()\n",
    "model = cnn_1_layer_model(vocab_size, max_sentence_len)\n"
   ]
  },
  {
   "cell_type": "code",
   "execution_count": 23,
   "metadata": {},
   "outputs": [
    {
     "name": "stdout",
     "output_type": "stream",
     "text": [
      "Train on 56403 samples, validate on 24174 samples\n",
      "Epoch 1/5\n",
      "56403/56403 [==============================] - 206s 4ms/step - loss: 0.7072 - acc: 0.7207 - val_loss: 0.4064 - val_acc: 0.8745\n",
      "\n",
      "Epoch 00001: val_acc improved from -inf to 0.87449, saving model to 1cnn-model.hdf5\n",
      "Epoch 2/5\n",
      "56403/56403 [==============================] - 200s 4ms/step - loss: 0.3819 - acc: 0.8657 - val_loss: 0.2875 - val_acc: 0.8975\n",
      "\n",
      "Epoch 00002: val_acc improved from 0.87449 to 0.89745, saving model to 1cnn-model.hdf5\n",
      "Epoch 3/5\n",
      "56403/56403 [==============================] - 178s 3ms/step - loss: 0.2350 - acc: 0.9297 - val_loss: 0.3781 - val_acc: 0.8646\n",
      "\n",
      "Epoch 00003: val_acc did not improve from 0.89745\n",
      "Epoch 4/5\n",
      "56403/56403 [==============================] - 178s 3ms/step - loss: 0.1606 - acc: 0.9556 - val_loss: 0.3302 - val_acc: 0.8934\n",
      "\n",
      "Epoch 00004: val_acc did not improve from 0.89745\n",
      "Epoch 5/5\n",
      "56403/56403 [==============================] - 177s 3ms/step - loss: 0.1192 - acc: 0.9688 - val_loss: 0.3731 - val_acc: 0.8889\n",
      "\n",
      "Epoch 00005: val_acc did not improve from 0.89745\n"
     ]
    }
   ],
   "source": [
    "filepath = \"1cnn-model.hdf5\"\n",
    "checkpoint = ModelCheckpoint(filepath, monitor='val_acc', verbose=1, save_best_only=True, mode='auto', period=1)\n",
    "history = model.fit(training_data, \n",
    "                    training_labels,\n",
    "                    validation_split=0.3,\n",
    "                    batch_size=50, \n",
    "                    epochs=5, \n",
    "                    callbacks=[checkpoint])\n",
    "\n"
   ]
  },
  {
   "cell_type": "code",
   "execution_count": 24,
   "metadata": {},
   "outputs": [
    {
     "name": "stdout",
     "output_type": "stream",
     "text": [
      "20145/20145 [==============================] - 3s 156us/step\n"
     ]
    }
   ],
   "source": [
    "scores = model.evaluate(test_data, test_labels) "
   ]
  },
  {
   "cell_type": "code",
   "execution_count": 26,
   "metadata": {
    "scrolled": true
   },
   "outputs": [
    {
     "data": {
      "text/plain": [
       "[0.578757287553387, 0.850881111941405]"
      ]
     },
     "execution_count": 26,
     "metadata": {},
     "output_type": "execute_result"
    }
   ],
   "source": [
    "scores"
   ]
  },
  {
   "cell_type": "code",
   "execution_count": 34,
   "metadata": {},
   "outputs": [],
   "source": [
    "pred = model.predict_classes(test_data)"
   ]
  },
  {
   "cell_type": "code",
   "execution_count": 57,
   "metadata": {},
   "outputs": [],
   "source": [
    "tl = []\n",
    "for l in test_labels:\n",
    "    tl.append(np.argmax(l))\n",
    "correct = 0\n",
    "wrong = 0\n",
    "for i in range(len(pred)):\n",
    "    if pred[i] == tl[i]:\n",
    "        correct += 1\n",
    "    else:\n",
    "        wrong += 1"
   ]
  },
  {
   "cell_type": "code",
   "execution_count": 65,
   "metadata": {},
   "outputs": [
    {
     "data": {
      "image/png": "[encoded data removed]",
      "text/plain": [
       "<Figure size 432x288 with 1 Axes>"
      ]
     },
     "metadata": {
      "needs_background": "light"
     },
     "output_type": "display_data"
    }
   ],
   "source": [
    "x = [1,2]\n",
    "res = [correct, wrong]\n",
    "plt.bar(x, res)\n",
    "plt.xticks(x, ('correct', 'wrong'))\n",
    "plt.show()"
   ]
  },
  {
   "cell_type": "code",
   "execution_count": null,
   "metadata": {},
   "outputs": [],
   "source": []
  }
 ],
 "metadata": {
  "kernelspec": {
   "display_name": "Python 3",
   "language": "python",
   "name": "python3"
  },
  "language_info": {
   "codemirror_mode": {
    "name": "ipython",
    "version": 3
   },
   "file_extension": ".py",
   "mimetype": "text/x-python",
   "name": "python",
   "nbconvert_exporter": "python",
   "pygments_lexer": "ipython3",
   "version": "3.7.3"
  }
 },
 "nbformat": 4,
 "nbformat_minor": 2
}
