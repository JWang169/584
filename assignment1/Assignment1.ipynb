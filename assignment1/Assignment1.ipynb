{
 "cells": [
  {
   "cell_type": "markdown",
   "metadata": {},
   "source": [
    "Junzhe Wang\n",
    "10437308"
   ]
  },
  {
   "cell_type": "code",
   "execution_count": 1,
   "metadata": {},
   "outputs": [
    {
     "ename": "ModuleNotFoundError",
     "evalue": "No module named 'keras'",
     "output_type": "error",
     "traceback": [
      "\u001b[0;31m---------------------------------------------------------------------------\u001b[0m",
      "\u001b[0;31mModuleNotFoundError\u001b[0m                       Traceback (most recent call last)",
      "\u001b[0;32m<ipython-input-1-805acbafc632>\u001b[0m in \u001b[0;36m<module>\u001b[0;34m\u001b[0m\n\u001b[1;32m      6\u001b[0m \u001b[0;32mfrom\u001b[0m \u001b[0msklearn\u001b[0m\u001b[0;34m.\u001b[0m\u001b[0mfeature_extraction\u001b[0m\u001b[0;34m.\u001b[0m\u001b[0mtext\u001b[0m \u001b[0;32mimport\u001b[0m \u001b[0mTfidfVectorizer\u001b[0m\u001b[0;34m\u001b[0m\u001b[0;34m\u001b[0m\u001b[0m\n\u001b[1;32m      7\u001b[0m \u001b[0;32mfrom\u001b[0m \u001b[0msklearn\u001b[0m\u001b[0;34m.\u001b[0m\u001b[0mlinear_model\u001b[0m \u001b[0;32mimport\u001b[0m \u001b[0mLogisticRegression\u001b[0m\u001b[0;34m,\u001b[0m \u001b[0mSGDClassifier\u001b[0m\u001b[0;34m\u001b[0m\u001b[0;34m\u001b[0m\u001b[0m\n\u001b[0;32m----> 8\u001b[0;31m \u001b[0;32mfrom\u001b[0m \u001b[0mkeras\u001b[0m\u001b[0;34m.\u001b[0m\u001b[0mmodels\u001b[0m \u001b[0;32mimport\u001b[0m \u001b[0mSequential\u001b[0m\u001b[0;34m\u001b[0m\u001b[0;34m\u001b[0m\u001b[0m\n\u001b[0m\u001b[1;32m      9\u001b[0m \u001b[0;32mfrom\u001b[0m \u001b[0mkeras\u001b[0m\u001b[0;34m.\u001b[0m\u001b[0moptimizers\u001b[0m \u001b[0;32mimport\u001b[0m \u001b[0mSGD\u001b[0m\u001b[0;34m\u001b[0m\u001b[0;34m\u001b[0m\u001b[0m\n\u001b[1;32m     10\u001b[0m \u001b[0;32mfrom\u001b[0m \u001b[0msklearn\u001b[0m\u001b[0;34m.\u001b[0m\u001b[0mmodel_selection\u001b[0m \u001b[0;32mimport\u001b[0m \u001b[0mtrain_test_split\u001b[0m\u001b[0;34m\u001b[0m\u001b[0;34m\u001b[0m\u001b[0m\n",
      "\u001b[0;31mModuleNotFoundError\u001b[0m: No module named 'keras'"
     ]
    }
   ],
   "source": [
    "import numpy as np\n",
    "import re\n",
    "from nltk.corpus import stopwords\n",
    "from nltk.tokenize import word_tokenize\n",
    "from string impopunctuationrt \n",
    "from sklearn.feature_extraction.text import TfidfVectorizer\n",
    "from sklearn.linear_model import LogisticRegression, SGDClassifier\n",
    "from keras.models import Sequential\n",
    "from keras.optimizers import SGD\n",
    "from sklearn.model_selection import train_test_split\n",
    "from keras.layers import Activation, Dense, Dropout, BatchNormalization\n",
    "from keras.preprocessing.text import Tokenizer\n",
    "from sklearn.preprocessing import LabelBinarizer\n",
    "from keras.callbacks import TensorBoard\n",
    "import itertools\n",
    "import matplotlib.pyplot as plt\n",
    "from numpy import random"
   ]
  },
  {
   "cell_type": "code",
   "execution_count": 3,
   "metadata": {},
   "outputs": [],
   "source": [
    "# gradient descent\n",
    "# calculate the hypothesis : \n",
    "# x training data, sample * valcabulary_size\n",
    "def bgd(x, y, alpha, epoch):\n",
    "    x_trans = x.transpose()\n",
    "    loss_all = []\n",
    "    # initialize weights\n",
    "    w = random.rand(x.shape[1], 3)\n",
    "    n = x.shape[0] # number of training sample\n",
    "    for i in range(epoch):\n",
    "        hypothesis = x.dot(w) # compute y_prediction\n",
    "        loss = (hypothesis - y)\n",
    "        gradient = x_trans.dot(loss)/n # compute gradient\n",
    "        w -= alpha * gradient # update w\n",
    "#         if not(i % 100):\n",
    "#             print(sum(loss))\n",
    "        loss_all.append(sum(loss[0]))\n",
    "    return w, loss_all\n"
   ]
  },
  {
   "cell_type": "code",
   "execution_count": 7,
   "metadata": {},
   "outputs": [],
   "source": [
    "x = np.asmatrix([[1,2,3,4,5], [5,6,7,8,9],[2,4,6,7,8]])\n",
    "y = [11,32,26]"
   ]
  },
  {
   "cell_type": "code",
   "execution_count": 13,
   "metadata": {},
   "outputs": [],
   "source": [
    "x_trans = x.transpose()\n",
    "loss_all = []\n",
    "# initialize weights\n",
    "w = random.rand(x.shape[1], x.shape[0])\n",
    "n = x.shape[0] # number of training sample"
   ]
  },
  {
   "cell_type": "code",
   "execution_count": 15,
   "metadata": {},
   "outputs": [],
   "source": [
    "hypothesis = x.dot(w)"
   ]
  },
  {
   "cell_type": "code",
   "execution_count": 16,
   "metadata": {},
   "outputs": [],
   "source": [
    "loss = (hypothesis - y)"
   ]
  },
  {
   "cell_type": "code",
   "execution_count": 18,
   "metadata": {
    "scrolled": true
   },
   "outputs": [
    {
     "data": {
      "text/plain": [
       "matrix([[ -2.42570753, -23.46606557, -18.27626579],\n",
       "        [  6.58850198, -12.26441589,  -6.44464404],\n",
       "        [  3.75195494, -16.26092535, -11.90783477]])"
      ]
     },
     "execution_count": 18,
     "metadata": {},
     "output_type": "execute_result"
    }
   ],
   "source": [
    "loss"
   ]
  },
  {
   "cell_type": "code",
   "execution_count": 20,
   "metadata": {},
   "outputs": [
    {
     "data": {
      "text/plain": [
       "matrix([[1, 5, 2],\n",
       "        [2, 6, 4],\n",
       "        [3, 7, 6],\n",
       "        [4, 8, 7],\n",
       "        [5, 9, 8]])"
      ]
     },
     "execution_count": 20,
     "metadata": {},
     "output_type": "execute_result"
    }
   ],
   "source": [
    "x_trans"
   ]
  },
  {
   "cell_type": "code",
   "execution_count": 17,
   "metadata": {},
   "outputs": [],
   "source": [
    "gradient = x_trans.dot(loss)/n"
   ]
  },
  {
   "cell_type": "code",
   "execution_count": 19,
   "metadata": {},
   "outputs": [
    {
     "data": {
      "text/plain": [
       "matrix([[  12.67357075,  -39.1033319 ,  -24.77171851],\n",
       "        [  16.56247219,  -61.85410929,  -40.9505783 ],\n",
       "        [  20.45137363,  -84.60488667,  -57.12943809],\n",
       "        [  23.08962342, -101.9353556 ,  -69.33901962],\n",
       "        [  25.72787322, -119.26582454,  -81.54860116]])"
      ]
     },
     "execution_count": 19,
     "metadata": {},
     "output_type": "execute_result"
    }
   ],
   "source": [
    "gradient"
   ]
  },
  {
   "cell_type": "code",
   "execution_count": null,
   "metadata": {},
   "outputs": [],
   "source": []
  },
  {
   "cell_type": "code",
   "execution_count": null,
   "metadata": {},
   "outputs": [],
   "source": []
  },
  {
   "cell_type": "code",
   "execution_count": 8,
   "metadata": {},
   "outputs": [],
   "source": [
    "w, loss = bgd(x, y, 0.1, 1)"
   ]
  },
  {
   "cell_type": "code",
   "execution_count": 9,
   "metadata": {},
   "outputs": [
    {
     "data": {
      "text/plain": [
       "array([[-0.90676767,  5.79026013,  2.81771564],\n",
       "       [-1.32633204,  8.98075025,  5.12630514],\n",
       "       [-1.84164747, 11.49041511,  6.03798887],\n",
       "       [-2.65598722, 13.8592307 ,  7.43300303],\n",
       "       [-2.27432498, 15.56237172,  9.14207279]])"
      ]
     },
     "execution_count": 9,
     "metadata": {},
     "output_type": "execute_result"
    }
   ],
   "source": [
    "w"
   ]
  },
  {
   "cell_type": "code",
   "execution_count": 10,
   "metadata": {},
   "outputs": [
    {
     "data": {
      "text/plain": [
       "[matrix([[ -2.82008202, -26.55177316, -17.67837627]])]"
      ]
     },
     "execution_count": 10,
     "metadata": {},
     "output_type": "execute_result"
    }
   ],
   "source": [
    "loss"
   ]
  },
  {
   "cell_type": "code",
   "execution_count": 29,
   "metadata": {},
   "outputs": [],
   "source": [
    "# calculate the hypothesis : \n",
    "# x training data, sample * valcabulary_size\n",
    "def sgd(x, y, alpha, epoch):\n",
    "    loss_all = []\n",
    "    x_trans = x.transpose()\n",
    "    # initialize weights\n",
    "    w = random.rand(x.shape[1], 3)\n",
    "    n = x.shape[0] # number of training sample\n",
    "    for i in range(epoch):\n",
    "        for j in range(n):\n",
    "            r = random.randint(0,n) # equals to shuffle the dataset \n",
    "            hypothesis = x[r,:].dot(w) # compute prediction\n",
    "            loss = hypothesis - y[0,:] \n",
    "            loss_all.append(sum(loss[0]))\n",
    "            gradient = x_trans[:, r].dot(loss)  # compute gradient\n",
    "            w -= alpha * gradient # update w\n",
    "#         if not(i % 100):\n",
    "#             print(sum(loss))\n",
    "    return w, loss_all"
   ]
  },
  {
   "cell_type": "code",
   "execution_count": 5,
   "metadata": {},
   "outputs": [],
   "source": [
    "# read in file \n",
    "def read_book(file):\n",
    "    folder = 'data 2'\n",
    "    file_path = folder + '/' + file\n",
    "    f = open(file_path)\n",
    "    text = f.read().strip()\n",
    "    paras = list(text.split(\"\\n\\n\") )  # divide as paragraphs\n",
    "    f.close()\n",
    "    print(len(paras))\n",
    "    return paras\n",
    "\n",
    "def preprocess(text):  # text is a string list, for one paragraph \n",
    "    # remove line breaks \n",
    "    text = text.strip()\n",
    "    text = text.replace('\\r', ' ').replace('\\n', ' ')\n",
    "    text = ' '.join(text.split())\n",
    "    \n",
    "    # remove punctuations from paragraphs\n",
    "    text = ''.join(c for c in text if c not in punctuation)\n",
    "    # change 's \n",
    "    text = re.sub('\\t', ' ', text)\n",
    "    text = re.sub(r\"it\\'s\",\"it is\",text)\n",
    "    text = re.sub(r\"i\\'d\",\"i would\",text)\n",
    "    text = re.sub(r\"I\\'d\",\"I would\",text)\n",
    "    text = re.sub(r\"don\\'t\",\"do not\",text)\n",
    "    text = re.sub(r\"he\\'s\",\"he is\",text)\n",
    "    text = re.sub(r\"there\\'s\",\"there is\",text)\n",
    "    text = re.sub(r\"that\\'s\",\"that is\",text)\n",
    "    text = re.sub(r\"can\\'t\", \"can not\", text)\n",
    "    text = re.sub(r\"cannot\", \"can not \", text)\n",
    "    text = re.sub(r\"what\\'s\", \"what is\", text)\n",
    "    text = re.sub(r\"What\\'s\", \"what is\", text)\n",
    "    text = re.sub(r\"\\'ve \", \" have \", text)\n",
    "    text = re.sub(r\"n\\'t\", \" not \", text)\n",
    "    text = re.sub(r\"i\\'m\", \"i am \", text)\n",
    "    text = re.sub(r\"I\\'m\", \"I am \", text)\n",
    "    text = re.sub(r\"\\'re\", \" are \", text)\n",
    "    text = re.sub(r\"\\'d\", \" would \", text)\n",
    "    text = re.sub(r\"\\'ll\", \" will \", text)\n",
    "    text = re.sub(r\"\\'s\",\" is\",text)\n",
    "    \n",
    "    text = re.sub('[^a-zA-Z]', ' ', text)  # only keep characters\n",
    "    p = text.lower()  # to lowercase\n",
    "    \n",
    "    # remove line breaks \n",
    "    text = text.strip()\n",
    "    text = text.replace('\\r', ' ').replace('\\n', ' ')\n",
    "    text = ' '.join(text.split())\n",
    "    text = re.sub('[^a-zA-Z]', ' ', text)\n",
    "    text = text.lower()\n",
    "    tokens = word_tokenize(text)\n",
    "    filtered = [w for w in tokens if not w in stop_words]  #remove stopwords\n",
    "    non_rome = [r for r in filtered if not bool(re.match(rome, r))]\n",
    "    \n",
    "    return ' '.join(non_rome) # return filtered\n",
    "\n"
   ]
  },
  {
   "cell_type": "code",
   "execution_count": 6,
   "metadata": {},
   "outputs": [],
   "source": [
    "books = ['28054-0.txt', 'pg1661.txt', 'pg31100.txt'] # Fyodor Dostoyevsky, Conan Doyle, Jane Austen\n",
    "authors =  ['Fyodor Dostoyevsky', 'Conan Doyle', 'Jane Austen']\n",
    "stop_words = set(stopwords.words('english'))   # REMOVE STOP WORDS\n",
    "thousand = 'm{0,3}'   # REMOVE ROME NUMBER SUCH AS I, II, III, IV, V...\n",
    "hundred = '(c[mc]|d?c{0,3})'\n",
    "ten = '(x[cl]|l?x{0,3})'\n",
    "digit = '(i[vx]|v?i{0,3})'\n",
    "rome = thousand + hundred + ten + digit +'$'"
   ]
  },
  {
   "cell_type": "code",
   "execution_count": 7,
   "metadata": {},
   "outputs": [
    {
     "name": "stdout",
     "output_type": "stream",
     "text": [
      "6191\n",
      "2627\n",
      "11592\n"
     ]
    }
   ],
   "source": [
    "book_01 = read_book(books[0])\n",
    "book_02 = read_book(books[1])\n",
    "book_03 = read_book(books[2])"
   ]
  },
  {
   "cell_type": "code",
   "execution_count": 8,
   "metadata": {},
   "outputs": [],
   "source": [
    "# remove the preface\n",
    "book_01 = book_01[26:]\n",
    "book_02 = book_02[17:]\n",
    "book_03 = book_03[44:]\n",
    "dataset = []"
   ]
  },
  {
   "cell_type": "code",
   "execution_count": 11,
   "metadata": {},
   "outputs": [
    {
     "name": "stdout",
     "output_type": "stream",
     "text": [
      "length of book01 is  5991\n"
     ]
    }
   ],
   "source": [
    "paras01 = []\n",
    "for p in book_01:\n",
    "    ppre = preprocess(p)\n",
    "    if len(ppre) > 0:\n",
    "        paras01.append(ppre)\n",
    "print('length of book01 is ', len(paras01))\n",
    "dataset.extend(paras01)"
   ]
  },
  {
   "cell_type": "code",
   "execution_count": 12,
   "metadata": {
    "scrolled": true
   },
   "outputs": [
    {
     "name": "stdout",
     "output_type": "stream",
     "text": [
      "length of book02 is  2546\n"
     ]
    }
   ],
   "source": [
    "paras02 = []\n",
    "for p in book_02:\n",
    "    ppre = preprocess(p)\n",
    "    if len(ppre) > 0:\n",
    "        paras02.append(ppre)\n",
    "print('length of book02 is ', len(paras02))\n",
    "dataset.extend(paras02)"
   ]
  },
  {
   "cell_type": "code",
   "execution_count": 13,
   "metadata": {},
   "outputs": [
    {
     "name": "stdout",
     "output_type": "stream",
     "text": [
      "length of book02 is  10998\n"
     ]
    }
   ],
   "source": [
    "paras03 = []\n",
    "for p in book_03:\n",
    "    ppre = preprocess(p)\n",
    "    if len(ppre) > 0:\n",
    "        paras03.append(ppre)\n",
    "print('length of book02 is ', len(paras03))\n",
    "dataset.extend(paras03)"
   ]
  },
  {
   "cell_type": "code",
   "execution_count": 14,
   "metadata": {},
   "outputs": [
    {
     "data": {
      "text/plain": [
       "19535"
      ]
     },
     "execution_count": 14,
     "metadata": {},
     "output_type": "execute_result"
    }
   ],
   "source": [
    "len(dataset)"
   ]
  },
  {
   "cell_type": "code",
   "execution_count": 15,
   "metadata": {},
   "outputs": [],
   "source": [
    "# labels for (stochastic) gradient descent\n",
    "labels = []\n",
    "labels01 = [[1, 0, 0]] * len(paras01)\n",
    "labels02 = [[0, 1, 0]] * len(paras02)\n",
    "labels03 = [[0, 0, 1]] * len(paras03)\n",
    "labels.extend(labels01)\n",
    "labels.extend(labels02)\n",
    "labels.extend(labels03)"
   ]
  },
  {
   "cell_type": "code",
   "execution_count": 16,
   "metadata": {},
   "outputs": [],
   "source": [
    "# labels for multi layer \n",
    "y_mlp01 = [1]* len(paras01)\n",
    "y_mlp02 = [2]* len(paras02)\n",
    "y_mlp03 = [3]* len(paras03)\n",
    "y_mlp = []\n",
    "y_mlp.extend(y_mlp01)\n",
    "y_mlp.extend(y_mlp02)\n",
    "y_mlp.extend(y_mlp03)"
   ]
  },
  {
   "cell_type": "code",
   "execution_count": 19,
   "metadata": {},
   "outputs": [],
   "source": [
    "# training and testing dataset for model 1\n",
    "xtrain = [] # trainging data\n",
    "xval = [] # testing data\n",
    "ytrain = [] # training labels\n",
    "yval = [] # testing labels\n",
    "for paras, labels in [(paras01,labels01), (paras02,labels02), (paras03,labels03)]:\n",
    "    xt, xv, yt, yv = train_test_split(paras, labels, test_size=0.2, random_state=42)\n",
    "    xtrain.extend(xt)\n",
    "    xval.extend(xv)\n",
    "    ytrain.extend(yt)\n",
    "    yval.extend(yv)"
   ]
  },
  {
   "cell_type": "code",
   "execution_count": 20,
   "metadata": {},
   "outputs": [],
   "source": [
    "# training and testing dataset for multi layer\n",
    "xtrain_mlp = [] # trainging data\n",
    "xval_mlp = [] # testing data\n",
    "ytrain_mlp = [] # training labels\n",
    "yval_mlp = [] # testing labels\n",
    "for paras, labels in [(paras01,y_mlp01), (paras02,y_mlp02), (paras03,y_mlp03)]:\n",
    "    xt, xv, yt, yv = train_test_split(paras, labels, test_size=0.2, random_state=42)\n",
    "    xtrain_mlp.extend(xt)\n",
    "    xval_mlp.extend(xv)\n",
    "    ytrain_mlp.extend(yt)\n",
    "    yval_mlp.extend(yv)"
   ]
  },
  {
   "cell_type": "code",
   "execution_count": 21,
   "metadata": {
    "scrolled": true
   },
   "outputs": [
    {
     "name": "stdout",
     "output_type": "stream",
     "text": [
      "the shape of training data:  15626\n",
      "the shape of transformed training data:  (15626, 24299)\n",
      "the shape of validation data:  3909\n",
      "the shape of transformed validation data:  (3909, 24299)\n"
     ]
    }
   ],
   "source": [
    "# TF-IDF features for model 1\n",
    "vectorizer = TfidfVectorizer()\n",
    "x_train_vec = vectorizer.fit_transform(xtrain) # fit tfidf vectorizer with only training data, \n",
    "x_val_vec = vectorizer.transform(xval) # transform validation data to vector\n",
    "\n",
    "print('the shape of training data: ', len(xtrain))\n",
    "print('the shape of transformed training data: ',x_train_vec.shape)\n",
    "print('the shape of validation data: ',len(xval))\n",
    "print('the shape of transformed validation data: ',x_val_vec.shape)"
   ]
  },
  {
   "cell_type": "code",
   "execution_count": null,
   "metadata": {},
   "outputs": [],
   "source": []
  },
  {
   "cell_type": "code",
   "execution_count": 69,
   "metadata": {},
   "outputs": [],
   "source": []
  },
  {
   "cell_type": "code",
   "execution_count": null,
   "metadata": {},
   "outputs": [],
   "source": []
  },
  {
   "cell_type": "code",
   "execution_count": 22,
   "metadata": {},
   "outputs": [],
   "source": [
    "# train with gradient_descent\n",
    "w_bgd, loss_bgd = bgd(x_train_vec, ytrain, 0.1, 10000)"
   ]
  },
  {
   "cell_type": "code",
   "execution_count": 23,
   "metadata": {
    "scrolled": true
   },
   "outputs": [
    {
     "data": {
      "image/png": "[encoded data removed]",
      "text/plain": [
       "<Figure size 432x288 with 1 Axes>"
      ]
     },
     "metadata": {
      "needs_background": "light"
     },
     "output_type": "display_data"
    }
   ],
   "source": [
    "plt.plot(loss_bgd)\n",
    "plt.title('loss for gradient descent')\n",
    "plt.ylabel('loss')\n",
    "plt.xlabel('epoch')\n",
    "plt.legend(['train', 'test'], loc='upper left')\n",
    "plt.show()"
   ]
  },
  {
   "cell_type": "code",
   "execution_count": 24,
   "metadata": {},
   "outputs": [],
   "source": [
    "y_bgd = x_val_vec.dot(w_bgd) # compute y_prediction\n",
    "loss_bgd = sum(y_bgd - yval)/x_val_vec.shape[0] # compute test loss "
   ]
  },
  {
   "cell_type": "code",
   "execution_count": 25,
   "metadata": {},
   "outputs": [
    {
     "data": {
      "text/plain": [
       "array([-0.03249478, -0.02371718, -0.04359973])"
      ]
     },
     "execution_count": 25,
     "metadata": {},
     "output_type": "execute_result"
    }
   ],
   "source": [
    "loss_bgd"
   ]
  },
  {
   "cell_type": "code",
   "execution_count": 26,
   "metadata": {},
   "outputs": [],
   "source": [
    "y_bgd_pred = list(np.argmax(y_bgd, axis=1) + 1)"
   ]
  },
  {
   "cell_type": "markdown",
   "metadata": {},
   "source": [
    "stochastic gradient descent"
   ]
  },
  {
   "cell_type": "code",
   "execution_count": 30,
   "metadata": {},
   "outputs": [],
   "source": [
    "# train with stochastic \n",
    "w_sgd , loss_sgd = sgd(x_train_vec, np.array(ytrain), 0.01, 100)"
   ]
  },
  {
   "cell_type": "code",
   "execution_count": 31,
   "metadata": {},
   "outputs": [
    {
     "data": {
      "image/png": "[encoded data removed]",
      "text/plain": [
       "<Figure size 432x288 with 1 Axes>"
      ]
     },
     "metadata": {
      "needs_background": "light"
     },
     "output_type": "display_data"
    }
   ],
   "source": [
    "plt.plot(loss_sgd)\n",
    "plt.title('loss for stochastic gradient descent')\n",
    "plt.ylabel('loss')\n",
    "plt.xlabel('epoch')\n",
    "plt.legend(['train', 'test'], loc='upper left')\n",
    "plt.show()"
   ]
  },
  {
   "cell_type": "code",
   "execution_count": 32,
   "metadata": {
    "scrolled": true
   },
   "outputs": [
    {
     "data": {
      "text/plain": [
       "3.3352112607039714"
      ]
     },
     "execution_count": 32,
     "metadata": {},
     "output_type": "execute_result"
    }
   ],
   "source": [
    "loss_sgd[0]"
   ]
  },
  {
   "cell_type": "code",
   "execution_count": 33,
   "metadata": {},
   "outputs": [],
   "source": [
    "y_sgd = x_val_vec.dot(w_sgd) # compute y_prediction\n",
    "loss_sgd = sum(y_sgd - yval)/x_val_vec.shape[0] # compute test loss"
   ]
  },
  {
   "cell_type": "code",
   "execution_count": 34,
   "metadata": {
    "scrolled": true
   },
   "outputs": [
    {
     "data": {
      "text/plain": [
       "array([ 0.53422247, -0.16256332, -0.59310326])"
      ]
     },
     "execution_count": 34,
     "metadata": {},
     "output_type": "execute_result"
    }
   ],
   "source": [
    "loss_sgd"
   ]
  },
  {
   "cell_type": "code",
   "execution_count": 36,
   "metadata": {},
   "outputs": [],
   "source": [
    "tensorboard = TensorBoard(log_dir = 'mlp_log')\n",
    "cb_list = [tensorboard]"
   ]
  },
  {
   "cell_type": "code",
   "execution_count": 37,
   "metadata": {},
   "outputs": [],
   "source": [
    "# encode labels\n",
    "vocab_size = 20000"
   ]
  },
  {
   "cell_type": "code",
   "execution_count": 38,
   "metadata": {},
   "outputs": [],
   "source": [
    "tokenizer = Tokenizer(num_words=vocab_size)\n",
    "tokenizer.fit_on_texts(xtrain_mlp)"
   ]
  },
  {
   "cell_type": "code",
   "execution_count": 39,
   "metadata": {},
   "outputs": [],
   "source": [
    "xtrain_mlp = tokenizer.texts_to_matrix(xtrain_mlp, mode='tfidf')\n",
    "xtest_mlp = tokenizer.texts_to_matrix(xval_mlp, mode='tfidf')"
   ]
  },
  {
   "cell_type": "code",
   "execution_count": 40,
   "metadata": {},
   "outputs": [],
   "source": [
    "batch_size = 64 # implement minibatch \n",
    "num_epochs = 10"
   ]
  },
  {
   "cell_type": "code",
   "execution_count": 41,
   "metadata": {},
   "outputs": [
    {
     "name": "stdout",
     "output_type": "stream",
     "text": [
      "WARNING:tensorflow:From /anaconda3/lib/python3.7/site-packages/tensorflow/python/framework/op_def_library.py:263: colocate_with (from tensorflow.python.framework.ops) is deprecated and will be removed in a future version.\n",
      "Instructions for updating:\n",
      "Colocations handled automatically by placer.\n",
      "WARNING:tensorflow:From /anaconda3/lib/python3.7/site-packages/keras/backend/tensorflow_backend.py:3445: calling dropout (from tensorflow.python.ops.nn_ops) with keep_prob is deprecated and will be removed in a future version.\n",
      "Instructions for updating:\n",
      "Please use `rate` instead of `keep_prob`. Rate should be set to `rate = 1 - keep_prob`.\n",
      "_________________________________________________________________\n",
      "Layer (type)                 Output Shape              Param #   \n",
      "=================================================================\n",
      "dense_1 (Dense)              (None, 8)                 160008    \n",
      "_________________________________________________________________\n",
      "batch_normalization_1 (Batch (None, 8)                 32        \n",
      "_________________________________________________________________\n",
      "dropout_1 (Dropout)          (None, 8)                 0         \n",
      "_________________________________________________________________\n",
      "dense_2 (Dense)              (None, 16)                144       \n",
      "_________________________________________________________________\n",
      "activation_1 (Activation)    (None, 16)                0         \n",
      "_________________________________________________________________\n",
      "dropout_2 (Dropout)          (None, 16)                0         \n",
      "_________________________________________________________________\n",
      "dense_3 (Dense)              (None, 3)                 51        \n",
      "_________________________________________________________________\n",
      "activation_2 (Activation)    (None, 3)                 0         \n",
      "=================================================================\n",
      "Total params: 160,235\n",
      "Trainable params: 160,219\n",
      "Non-trainable params: 16\n",
      "_________________________________________________________________\n"
     ]
    }
   ],
   "source": [
    "# build a MLP MODEL\n",
    "model = Sequential()\n",
    "model.add(Dense(8, input_shape=(vocab_size, )))\n",
    "model.add(BatchNormalization())\n",
    "# model.add(Activation('relu'))\n",
    "model.add(Dropout(0.5))\n",
    "model.add(Dense(16))\n",
    "model.add(Activation('relu'))\n",
    "model.add(Dropout(0.5))\n",
    "model.add(Dense(3))\n",
    "model.add(Activation('softmax'))\n",
    "model.summary()"
   ]
  },
  {
   "cell_type": "code",
   "execution_count": 42,
   "metadata": {},
   "outputs": [],
   "source": [
    "opt = SGD\n",
    "model.compile(loss='categorical_crossentropy',\n",
    "              optimizer='rmsprop',\n",
    "              metrics=['accuracy']\n",
    "             )"
   ]
  },
  {
   "cell_type": "code",
   "execution_count": 43,
   "metadata": {},
   "outputs": [
    {
     "name": "stdout",
     "output_type": "stream",
     "text": [
      "WARNING:tensorflow:From /anaconda3/lib/python3.7/site-packages/tensorflow/python/ops/math_ops.py:3066: to_int32 (from tensorflow.python.ops.math_ops) is deprecated and will be removed in a future version.\n",
      "Instructions for updating:\n",
      "Use tf.cast instead.\n",
      "Train on 12500 samples, validate on 3126 samples\n",
      "Epoch 1/10\n",
      "12500/12500 [==============================] - 6s 458us/step - loss: 1.0124 - acc: 0.5297 - val_loss: 0.4615 - val_acc: 0.8679\n",
      "Epoch 2/10\n",
      "12500/12500 [==============================] - 4s 345us/step - loss: 0.6948 - acc: 0.7098 - val_loss: 0.2913 - val_acc: 0.9101\n",
      "Epoch 3/10\n",
      "12500/12500 [==============================] - 3s 206us/step - loss: 0.5820 - acc: 0.7619 - val_loss: 0.2611 - val_acc: 0.9075\n",
      "Epoch 4/10\n",
      "12500/12500 [==============================] - 3s 203us/step - loss: 0.5358 - acc: 0.7884 - val_loss: 0.2840 - val_acc: 0.8919\n",
      "Epoch 5/10\n",
      "12500/12500 [==============================] - 3s 204us/step - loss: 0.4957 - acc: 0.8066 - val_loss: 0.2444 - val_acc: 0.9021\n",
      "Epoch 6/10\n",
      "12500/12500 [==============================] - 3s 208us/step - loss: 0.4678 - acc: 0.8203 - val_loss: 0.2674 - val_acc: 0.8922\n",
      "Epoch 7/10\n",
      "12500/12500 [==============================] - 2s 199us/step - loss: 0.4387 - acc: 0.8295 - val_loss: 0.2602 - val_acc: 0.8928\n",
      "Epoch 8/10\n",
      "12500/12500 [==============================] - 3s 222us/step - loss: 0.4363 - acc: 0.8268 - val_loss: 0.2690 - val_acc: 0.8900\n",
      "Epoch 9/10\n",
      "12500/12500 [==============================] - 3s 204us/step - loss: 0.4322 - acc: 0.8346 - val_loss: 0.2554 - val_acc: 0.8967\n",
      "Epoch 10/10\n",
      "12500/12500 [==============================] - 3s 206us/step - loss: 0.4219 - acc: 0.8372 - val_loss: 0.2813 - val_acc: 0.8877\n"
     ]
    }
   ],
   "source": [
    "history = model.fit(xtrain_mlp, np.array(ytrain),\n",
    "                   batch_size=batch_size,\n",
    "                   epochs=num_epochs, \n",
    "                   verbose=1,\n",
    "                   validation_split=0.2,\n",
    "                   callbacks=cb_list)"
   ]
  },
  {
   "cell_type": "code",
   "execution_count": 44,
   "metadata": {},
   "outputs": [
    {
     "name": "stdout",
     "output_type": "stream",
     "text": [
      "3909/3909 [==============================] - 1s 338us/step\n"
     ]
    }
   ],
   "source": [
    "score = model.evaluate(xtest_mlp, np.array(yval),\n",
    "                       batch_size=batch_size, verbose=1)"
   ]
  },
  {
   "cell_type": "code",
   "execution_count": 45,
   "metadata": {},
   "outputs": [
    {
     "data": {
      "text/plain": [
       "0.8610897927858787"
      ]
     },
     "execution_count": 45,
     "metadata": {},
     "output_type": "execute_result"
    }
   ],
   "source": [
    "score[1] # test accuracy"
   ]
  },
  {
   "cell_type": "code",
   "execution_count": 46,
   "metadata": {
    "scrolled": true
   },
   "outputs": [
    {
     "data": {
      "image/png": "[encoded data removed]",
      "text/plain": [
       "<Figure size 432x288 with 1 Axes>"
      ]
     },
     "metadata": {
      "needs_background": "light"
     },
     "output_type": "display_data"
    }
   ],
   "source": [
    "plt.plot(history.history['loss'])\n",
    "plt.plot(history.history['val_loss'])\n",
    "plt.title('model accuracy')\n",
    "plt.ylabel('loss')\n",
    "plt.xlabel('epoch')\n",
    "plt.legend(['train', 'test'], loc='upper left')\n",
    "plt.show()"
   ]
  },
  {
   "cell_type": "markdown",
   "metadata": {},
   "source": [
    "compare the result of bgd and sgd"
   ]
  },
  {
   "cell_type": "code",
   "execution_count": 92,
   "metadata": {},
   "outputs": [],
   "source": [
    "bgd_pred = x_val_vec.dot(w_bgd) # compute prediction for gradient descent\n",
    "sgd_pred = x_val_vec.dot(w_sgd) # compute prediction for stochastic gradient descent\n",
    "mlp_pred = model.predict(xtest_mlp) # compute prediction for mlp\n",
    "bgd_result = []\n",
    "sgd_result = []\n",
    "mlp_result = []\n",
    "for i in range(bgd_pred.shape[0]):\n",
    "    bgd_result.append(np.argmax(bgd_pred[i]) + 1)\n",
    "    sgd_result.append(np.argmax(sgd_pred[i]) + 1)\n",
    "    mlp_result.append(np.argmax(mlp_pred[i]) + 1)"
   ]
  },
  {
   "cell_type": "code",
   "execution_count": 94,
   "metadata": {},
   "outputs": [],
   "source": [
    "count_bgd = 0\n",
    "count_sgd = 0\n",
    "count_mlp = 0\n",
    "for i in range(len(yval_mlp)):\n",
    "    if yval_mlp[i] == bgd_result[i]:\n",
    "        count_bgd += 1\n",
    "    if yval_mlp[i] == sgd_result[i]:\n",
    "        count_sgd += 1\n",
    "    if yval_mlp[i] == mlp_result[i]:\n",
    "        count_mlp += 1\n",
    "    "
   ]
  },
  {
   "cell_type": "code",
   "execution_count": 95,
   "metadata": {},
   "outputs": [
    {
     "data": {
      "text/plain": [
       "Text(0.5, 1.0, 'How many test case are correct')"
      ]
     },
     "execution_count": 95,
     "metadata": {},
     "output_type": "execute_result"
    },
    {
     "data": {
      "image/png": "[encoded data removed]",
      "text/plain": [
       "<Figure size 432x288 with 1 Axes>"
      ]
     },
     "metadata": {
      "needs_background": "light"
     },
     "output_type": "display_data"
    }
   ],
   "source": [
    "mpl_fig = plt.figure()\n",
    "ax = mpl_fig.add_subplot(111)\n",
    "p1 = ax.bar('bgd', count_bgd)\n",
    "p2 = ax.bar('sgd', count_sgd)\n",
    "p3 = ax.bar('mlp', count_mlp)\n",
    "\n",
    "ax.set_ylabel('Accuracy')\n",
    "ax.set_xlabel('models')\n",
    "ax.set_title('How many test case are correct')\n"
   ]
  },
  {
   "cell_type": "code",
   "execution_count": null,
   "metadata": {},
   "outputs": [],
   "source": []
  }
 ],
 "metadata": {
  "kernelspec": {
   "display_name": "Python 3",
   "language": "python",
   "name": "python3"
  },
  "language_info": {
   "codemirror_mode": {
    "name": "ipython",
    "version": 3
   },
   "file_extension": ".py",
   "mimetype": "text/x-python",
   "name": "python",
   "nbconvert_exporter": "python",
   "pygments_lexer": "ipython3",
   "version": "3.7.3"
  }
 },
 "nbformat": 4,
 "nbformat_minor": 2
}
